{
 "cells": [
  {
   "cell_type": "markdown",
   "id": "4bd04434-d2e0-49e9-8b21-fb2a5339e6bf",
   "metadata": {},
   "source": [
    "# One-hot encoding"
   ]
  },
  {
   "cell_type": "code",
   "execution_count": 15,
   "id": "9ede81d8-36e7-43c3-a89e-f6f839bbb0bc",
   "metadata": {},
   "outputs": [],
   "source": [
    "import tensorflow as tf\n",
    "import numpy as np"
   ]
  },
  {
   "cell_type": "code",
   "execution_count": 6,
   "id": "ceb513dd-9a2b-45b9-8c6b-4dd7bdb78d06",
   "metadata": {},
   "outputs": [],
   "source": [
    "some_val=tf.constant([0,1,2,3])\n"
   ]
  },
  {
   "cell_type": "code",
   "execution_count": 7,
   "id": "aa8cc55d-e5c1-4174-84d7-6d1078e54c5b",
   "metadata": {},
   "outputs": [
    {
     "data": {
      "text/plain": [
       "<tf.Tensor: shape=(4, 4), dtype=float32, numpy=\n",
       "array([[1., 0., 0., 0.],\n",
       "       [0., 1., 0., 0.],\n",
       "       [0., 0., 1., 0.],\n",
       "       [0., 0., 0., 1.]], dtype=float32)>"
      ]
     },
     "execution_count": 7,
     "metadata": {},
     "output_type": "execute_result"
    }
   ],
   "source": [
    "tf.one_hot(some_val,depth=4)"
   ]
  },
  {
   "cell_type": "code",
   "execution_count": 8,
   "id": "56527f7c-7158-44a6-9130-779236151bed",
   "metadata": {},
   "outputs": [
    {
     "data": {
      "text/plain": [
       "<tf.Tensor: shape=(4, 4), dtype=string, numpy=\n",
       "array([[b'i love deep learning', b'i also like to dance',\n",
       "        b'i also like to dance', b'i also like to dance'],\n",
       "       [b'i also like to dance', b'i love deep learning',\n",
       "        b'i also like to dance', b'i also like to dance'],\n",
       "       [b'i also like to dance', b'i also like to dance',\n",
       "        b'i love deep learning', b'i also like to dance'],\n",
       "       [b'i also like to dance', b'i also like to dance',\n",
       "        b'i also like to dance', b'i love deep learning']], dtype=object)>"
      ]
     },
     "execution_count": 8,
     "metadata": {},
     "output_type": "execute_result"
    }
   ],
   "source": [
    "tf.one_hot(some_val,depth=4,on_value='i love deep learning',off_value='i also like to dance')"
   ]
  },
  {
   "cell_type": "code",
   "execution_count": 9,
   "id": "5f47c143-460b-4372-b74e-36900492f8bd",
   "metadata": {},
   "outputs": [],
   "source": [
    "tensor=tf.range(1,10)"
   ]
  },
  {
   "cell_type": "code",
   "execution_count": 10,
   "id": "18dc6595-26b4-437a-a66b-b9e07d30b463",
   "metadata": {},
   "outputs": [
    {
     "data": {
      "text/plain": [
       "<tf.Tensor: shape=(9,), dtype=int32, numpy=array([1, 2, 3, 4, 5, 6, 7, 8, 9])>"
      ]
     },
     "execution_count": 10,
     "metadata": {},
     "output_type": "execute_result"
    }
   ],
   "source": [
    "tensor"
   ]
  },
  {
   "cell_type": "code",
   "execution_count": 11,
   "id": "50bbcb9f-3e3c-438d-8745-b7363cc78eb8",
   "metadata": {},
   "outputs": [
    {
     "data": {
      "text/plain": [
       "<tf.Tensor: shape=(9,), dtype=int32, numpy=array([ 1,  4,  9, 16, 25, 36, 49, 64, 81])>"
      ]
     },
     "execution_count": 11,
     "metadata": {},
     "output_type": "execute_result"
    }
   ],
   "source": [
    "tf.math.square(tensor)"
   ]
  },
  {
   "cell_type": "code",
   "execution_count": 12,
   "id": "ab183032-1581-454d-b844-bb59f847ae51",
   "metadata": {},
   "outputs": [
    {
     "data": {
      "text/plain": [
       "<tf.Tensor: shape=(9,), dtype=float32, numpy=\n",
       "array([1.       , 1.4142135, 1.7320508, 2.       , 2.236068 , 2.4494898,\n",
       "       2.6457512, 2.828427 , 3.       ], dtype=float32)>"
      ]
     },
     "execution_count": 12,
     "metadata": {},
     "output_type": "execute_result"
    }
   ],
   "source": [
    "tf.math.sqrt(tf.cast(tensor,dtype=tf.float32))"
   ]
  },
  {
   "cell_type": "code",
   "execution_count": 14,
   "id": "ce1d148f-3cee-42bf-95a6-a63a6da9a3d0",
   "metadata": {},
   "outputs": [
    {
     "data": {
      "text/plain": [
       "<tf.Tensor: shape=(9,), dtype=float16, numpy=\n",
       "array([0.    , 0.6934, 1.099 , 1.387 , 1.609 , 1.792 , 1.946 , 2.08  ,\n",
       "       2.197 ], dtype=float16)>"
      ]
     },
     "execution_count": 14,
     "metadata": {},
     "output_type": "execute_result"
    }
   ],
   "source": [
    "tf.math.log(tf.cast(tensor,dtype=tf.float16))"
   ]
  },
  {
   "cell_type": "markdown",
   "id": "8b2a79d2-1684-423b-922e-588cd65c3f59",
   "metadata": {},
   "source": [
    "# Tensor with numpy array"
   ]
  },
  {
   "cell_type": "code",
   "execution_count": 16,
   "id": "0f1ff722-a2e0-488a-86c0-b5161e6e7721",
   "metadata": {},
   "outputs": [
    {
     "data": {
      "text/plain": [
       "<tf.Tensor: shape=(4,), dtype=float64, numpy=array([4. , 5. , 6.2, 6. ])>"
      ]
     },
     "execution_count": 16,
     "metadata": {},
     "output_type": "execute_result"
    }
   ],
   "source": [
    "j=tf.constant(np.array([4,5,6.2,6.0]))\n",
    "j"
   ]
  },
  {
   "cell_type": "markdown",
   "id": "360a3e87-1232-4607-8657-b1246fb5cf16",
   "metadata": {},
   "source": [
    "#### numpy array use float64 as default datatype while tensor use float32"
   ]
  },
  {
   "cell_type": "code",
   "execution_count": null,
   "id": "377f440b-fcf4-4a85-8b6c-357351c404b8",
   "metadata": {},
   "outputs": [],
   "source": []
  }
 ],
 "metadata": {
  "kernelspec": {
   "display_name": "Python 3 (ipykernel)",
   "language": "python",
   "name": "python3"
  },
  "language_info": {
   "codemirror_mode": {
    "name": "ipython",
    "version": 3
   },
   "file_extension": ".py",
   "mimetype": "text/x-python",
   "name": "python",
   "nbconvert_exporter": "python",
   "pygments_lexer": "ipython3",
   "version": "3.10.9"
  }
 },
 "nbformat": 4,
 "nbformat_minor": 5
}
