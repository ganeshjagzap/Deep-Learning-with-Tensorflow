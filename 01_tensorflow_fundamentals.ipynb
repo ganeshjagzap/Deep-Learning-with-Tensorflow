{
 "cells": [
  {
   "cell_type": "markdown",
   "id": "7c9100dc-29e2-4b38-8ec0-d32ffd877f67",
   "metadata": {},
   "source": [
    "# creating tensor with .variable ,\n",
    "### In this we can change the value in tensor in future but this not happen in .constant method"
   ]
  },
  {
   "cell_type": "code",
   "execution_count": 1,
   "id": "57480f32-f8eb-468a-9f9c-1c8949e00a01",
   "metadata": {},
   "outputs": [
    {
     "name": "stdout",
     "output_type": "stream",
     "text": [
      "WARNING:tensorflow:From C:\\Users\\ganes\\AppData\\Local\\Programs\\Python\\Python310\\lib\\site-packages\\keras\\src\\losses.py:2976: The name tf.losses.sparse_softmax_cross_entropy is deprecated. Please use tf.compat.v1.losses.sparse_softmax_cross_entropy instead.\n",
      "\n"
     ]
    }
   ],
   "source": [
    "import tensorflow as tf"
   ]
  },
  {
   "cell_type": "code",
   "execution_count": 2,
   "id": "7e3fb72b-0452-4df7-a4c7-16faaa99031f",
   "metadata": {},
   "outputs": [
    {
     "data": {
      "text/plain": [
       "(<tf.Variable 'Variable:0' shape=(2,) dtype=int32, numpy=array([23, 33])>,\n",
       " <tf.Tensor: shape=(2,), dtype=int32, numpy=array([32, 22])>)"
      ]
     },
     "execution_count": 2,
     "metadata": {},
     "output_type": "execute_result"
    }
   ],
   "source": [
    "changeble_tensor=tf.Variable([23,33])\n",
    "unchangeble_tensor=tf.constant([32,22])\n",
    "changeble_tensor,unchangeble_tensor"
   ]
  },
  {
   "cell_type": "code",
   "execution_count": 3,
   "id": "4e03753c-4512-4baa-9b3e-52b9676b8d9f",
   "metadata": {},
   "outputs": [
    {
     "ename": "TypeError",
     "evalue": "'ResourceVariable' object does not support item assignment",
     "output_type": "error",
     "traceback": [
      "\u001b[1;31m---------------------------------------------------------------------------\u001b[0m",
      "\u001b[1;31mTypeError\u001b[0m                                 Traceback (most recent call last)",
      "Cell \u001b[1;32mIn[3], line 1\u001b[0m\n\u001b[1;32m----> 1\u001b[0m \u001b[43mchangeble_tensor\u001b[49m\u001b[43m[\u001b[49m\u001b[38;5;241;43m0\u001b[39;49m\u001b[43m]\u001b[49m\u001b[38;5;241m=\u001b[39m\u001b[38;5;241m3\u001b[39m\n",
      "\u001b[1;31mTypeError\u001b[0m: 'ResourceVariable' object does not support item assignment"
     ]
    }
   ],
   "source": [
    "changeble_tensor[0]=3"
   ]
  },
  {
   "cell_type": "markdown",
   "id": "bf752a9d-913a-44b7-bbf4-4bf02764faf5",
   "metadata": {},
   "source": [
    "### for changing the value of tensor we use .assign fuction"
   ]
  },
  {
   "cell_type": "code",
   "execution_count": 4,
   "id": "17baa248-1b9e-43b5-9568-d5e726336675",
   "metadata": {},
   "outputs": [],
   "source": [
    "changeble_tensor[0].assing=7\n"
   ]
  },
  {
   "cell_type": "markdown",
   "id": "c6e82b19-c6c1-49fe-82c7-21cf632dad3a",
   "metadata": {},
   "source": [
    "# Creating random tensor"
   ]
  },
  {
   "cell_type": "markdown",
   "id": "b617abfe-b026-45d1-9696-f2f1db39799b",
   "metadata": {},
   "source": [
    "### random tensors are tensors of some arbitory size which contain random numbers"
   ]
  },
  {
   "cell_type": "markdown",
   "id": "5639d161-7c41-426d-b09e-69b124dd4dda",
   "metadata": {},
   "source": [
    "## Creating two random (but the same ) tensors"
   ]
  },
  {
   "cell_type": "code",
   "execution_count": 5,
   "id": "60b1ac23-0407-4ceb-b981-47133c40a1c0",
   "metadata": {},
   "outputs": [],
   "source": [
    "random_tensor1=tf.random.Generator.from_seed(42)\n",
    "random_tensor1=random_tensor1.normal(shape=(3,2))\n",
    "\n",
    "random_tensor2=tf.random.Generator.from_seed(42)\n",
    "random_tensor2=random_tensor2.normal(shape=(3,2))"
   ]
  },
  {
   "cell_type": "code",
   "execution_count": 6,
   "id": "a6c8c9e9-0ae7-4961-8003-5da9644e9248",
   "metadata": {},
   "outputs": [
    {
     "data": {
      "text/plain": [
       "(<tf.Tensor: shape=(3, 2), dtype=float32, numpy=\n",
       " array([[-0.7565803 , -0.06854702],\n",
       "        [ 0.07595026, -1.2573844 ],\n",
       "        [-0.23193763, -1.8107855 ]], dtype=float32)>,\n",
       " <tf.Tensor: shape=(3, 2), dtype=float32, numpy=\n",
       " array([[-0.7565803 , -0.06854702],\n",
       "        [ 0.07595026, -1.2573844 ],\n",
       "        [-0.23193763, -1.8107855 ]], dtype=float32)>,\n",
       " <tf.Tensor: shape=(3, 2), dtype=bool, numpy=\n",
       " array([[ True,  True],\n",
       "        [ True,  True],\n",
       "        [ True,  True]])>)"
      ]
     },
     "execution_count": 6,
     "metadata": {},
     "output_type": "execute_result"
    }
   ],
   "source": [
    "random_tensor1,random_tensor2,random_tensor1==random_tensor2"
   ]
  },
  {
   "cell_type": "markdown",
   "id": "19300dab-8250-4171-bcd6-be3e3327c896",
   "metadata": {},
   "source": [
    "## shuffle the order of elements in a tensor"
   ]
  },
  {
   "cell_type": "markdown",
   "id": "d7c4a37e-3fc3-4d56-b72c-dd8d132315e4",
   "metadata": {},
   "source": [
    "### shuffling tensor valuable for whey you want to shuffle your data so that the inherent dosen't affect learning"
   ]
  },
  {
   "cell_type": "code",
   "execution_count": 7,
   "id": "f45b84d1-03a2-48ea-abad-aa6525c3fdac",
   "metadata": {},
   "outputs": [
    {
     "data": {
      "text/plain": [
       "<tf.Tensor: shape=(4, 2), dtype=int32, numpy=\n",
       "array([[10,  4],\n",
       "       [ 4,  5],\n",
       "       [ 6,  7],\n",
       "       [ 6,  2]])>"
      ]
     },
     "execution_count": 7,
     "metadata": {},
     "output_type": "execute_result"
    }
   ],
   "source": [
    "non_shuffle=tf.constant([[10,4],[4,5],[6,7],[6,2]])\n",
    "non_shuffle"
   ]
  },
  {
   "cell_type": "code",
   "execution_count": 12,
   "id": "26131472-92be-4270-a45a-57324c70dcd0",
   "metadata": {},
   "outputs": [
    {
     "data": {
      "text/plain": [
       "<tf.Tensor: shape=(4, 2), dtype=int32, numpy=\n",
       "array([[ 6,  2],\n",
       "       [10,  4],\n",
       "       [ 4,  5],\n",
       "       [ 6,  7]])>"
      ]
     },
     "execution_count": 12,
     "metadata": {},
     "output_type": "execute_result"
    }
   ],
   "source": [
    "shuffled=tf.random.shuffle(non_shuffle)\n",
    "shuffled"
   ]
  },
  {
   "cell_type": "markdown",
   "id": "d6eaca48-494e-4e7e-ad92-074999ac4914",
   "metadata": {},
   "source": [
    "### If we want our shaffled tensors to be in the same order, we've got to use gobal seed as well as operation level seed"
   ]
  },
  {
   "cell_type": "code",
   "execution_count": 22,
   "id": "edfb2fbf-7859-4d2a-9f27-efc987e36991",
   "metadata": {},
   "outputs": [
    {
     "data": {
      "text/plain": [
       "<tf.Tensor: shape=(4, 2), dtype=int32, numpy=\n",
       "array([[ 6,  2],\n",
       "       [ 4,  5],\n",
       "       [ 6,  7],\n",
       "       [10,  4]])>"
      ]
     },
     "execution_count": 22,
     "metadata": {},
     "output_type": "execute_result"
    }
   ],
   "source": [
    "tf.random.set_seed(45) #global seed\n",
    "tf.random.shuffle(non_shuffle,seed=45) # operation-level seed"
   ]
  },
  {
   "cell_type": "markdown",
   "id": "02d9646c-862f-44d8-a3fa-37d1799061fe",
   "metadata": {},
   "source": [
    "# Other ways to make tensor\n",
    "## tf.ones"
   ]
  },
  {
   "cell_type": "code",
   "execution_count": 23,
   "id": "f637d5c4-135a-4546-ae4d-dc0760786e6a",
   "metadata": {},
   "outputs": [
    {
     "data": {
      "text/plain": [
       "<tf.Tensor: shape=(3, 4), dtype=float32, numpy=\n",
       "array([[1., 1., 1., 1.],\n",
       "       [1., 1., 1., 1.],\n",
       "       [1., 1., 1., 1.]], dtype=float32)>"
      ]
     },
     "execution_count": 23,
     "metadata": {},
     "output_type": "execute_result"
    }
   ],
   "source": [
    "tf.ones([3,4])"
   ]
  },
  {
   "cell_type": "code",
   "execution_count": 25,
   "id": "6b56a585-c3cc-4f2a-a906-bd8425b5947a",
   "metadata": {},
   "outputs": [
    {
     "data": {
      "text/plain": [
       "<tf.Tensor: shape=(4, 4), dtype=float32, numpy=\n",
       "array([[1., 1., 1., 1.],\n",
       "       [1., 1., 1., 1.],\n",
       "       [1., 1., 1., 1.],\n",
       "       [1., 1., 1., 1.]], dtype=float32)>"
      ]
     },
     "execution_count": 25,
     "metadata": {},
     "output_type": "execute_result"
    }
   ],
   "source": [
    "tf.ones(shape=(4,4))"
   ]
  },
  {
   "cell_type": "markdown",
   "id": "964a8358-b090-4c7b-b2e7-553cebbef3c2",
   "metadata": {},
   "source": [
    "## tf.zeros"
   ]
  },
  {
   "cell_type": "code",
   "execution_count": 24,
   "id": "e4bc737f-7438-4617-92cb-0ec408834506",
   "metadata": {},
   "outputs": [
    {
     "data": {
      "text/plain": [
       "<tf.Tensor: shape=(4, 4), dtype=float32, numpy=\n",
       "array([[0., 0., 0., 0.],\n",
       "       [0., 0., 0., 0.],\n",
       "       [0., 0., 0., 0.],\n",
       "       [0., 0., 0., 0.]], dtype=float32)>"
      ]
     },
     "execution_count": 24,
     "metadata": {},
     "output_type": "execute_result"
    }
   ],
   "source": [
    "tf.zeros([4,4])"
   ]
  },
  {
   "cell_type": "markdown",
   "id": "08dc26de-2bde-42ca-aeab-a7cbcda00758",
   "metadata": {},
   "source": [
    "## Turn numpy arrays into tensor\n",
    "### The main difference between numpy array and tensorflow tensor is that the tensor can run on gpu"
   ]
  },
  {
   "cell_type": "code",
   "execution_count": 26,
   "id": "b3f96940-0f25-4a98-b3f4-e1c39847d377",
   "metadata": {},
   "outputs": [],
   "source": [
    "import numpy as np"
   ]
  },
  {
   "cell_type": "code",
   "execution_count": 27,
   "id": "f7dbd9bc-2c3b-4baf-8ea5-5995317e65d8",
   "metadata": {},
   "outputs": [
    {
     "data": {
      "text/plain": [
       "array([1, 2, 3, 4, 5, 6, 7, 8, 9])"
      ]
     },
     "execution_count": 27,
     "metadata": {},
     "output_type": "execute_result"
    }
   ],
   "source": [
    "numpy_a=np.arange(1,10,dtype=np.int32)\n",
    "numpy_a"
   ]
  },
  {
   "cell_type": "code",
   "execution_count": 29,
   "id": "afc91515-249f-43b8-9d39-00aabfa3e5b5",
   "metadata": {},
   "outputs": [
    {
     "data": {
      "text/plain": [
       "<tf.Tensor: shape=(3, 3), dtype=int32, numpy=\n",
       "array([[1, 2, 3],\n",
       "       [4, 5, 6],\n",
       "       [7, 8, 9]])>"
      ]
     },
     "execution_count": 29,
     "metadata": {},
     "output_type": "execute_result"
    }
   ],
   "source": [
    "tf.constant(numpy_a,shape=(3,3))"
   ]
  },
  {
   "cell_type": "code",
   "execution_count": 1,
   "id": "779342ea-f626-4d29-adee-bab48329bbd0",
   "metadata": {},
   "outputs": [
    {
     "ename": "NameError",
     "evalue": "name 'rank_4_tensor' is not defined",
     "output_type": "error",
     "traceback": [
      "\u001b[1;31m---------------------------------------------------------------------------\u001b[0m",
      "\u001b[1;31mNameError\u001b[0m                                 Traceback (most recent call last)",
      "Cell \u001b[1;32mIn[1], line 1\u001b[0m\n\u001b[1;32m----> 1\u001b[0m rank_5_tensor \u001b[38;5;241m=\u001b[39m \u001b[43mrank_4_tensor\u001b[49m[\u001b[38;5;241m.\u001b[39m\u001b[38;5;241m.\u001b[39m\u001b[38;5;241m.\u001b[39m, tf\u001b[38;5;241m.\u001b[39mnewaxis]\n",
      "\u001b[1;31mNameError\u001b[0m: name 'rank_4_tensor' is not defined"
     ]
    }
   ],
   "source": []
  },
  {
   "cell_type": "code",
   "execution_count": null,
   "id": "ea876df4-ba93-47d8-8dd6-c736e3f6b304",
   "metadata": {},
   "outputs": [],
   "source": []
  }
 ],
 "metadata": {
  "kernelspec": {
   "display_name": "Python 3 (ipykernel)",
   "language": "python",
   "name": "python3"
  },
  "language_info": {
   "codemirror_mode": {
    "name": "ipython",
    "version": 3
   },
   "file_extension": ".py",
   "mimetype": "text/x-python",
   "name": "python",
   "nbconvert_exporter": "python",
   "pygments_lexer": "ipython3",
   "version": "3.10.9"
  }
 },
 "nbformat": 4,
 "nbformat_minor": 5
}
