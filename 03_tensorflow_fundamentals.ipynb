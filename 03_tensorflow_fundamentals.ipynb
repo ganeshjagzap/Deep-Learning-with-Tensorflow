{
 "cells": [
  {
   "cell_type": "markdown",
   "id": "4b607126-73ad-4546-8803-0ce3456ab8ef",
   "metadata": {},
   "source": [
    "# Aggregating a Tensor"
   ]
  },
  {
   "cell_type": "markdown",
   "id": "fb0ed02d-b94b-4be3-811f-ef78116feca4",
   "metadata": {},
   "source": [
    "### Aggregating tensor=considering them from multiple values down to a smaller amount of value"
   ]
  },
  {
   "cell_type": "code",
   "execution_count": 1,
   "id": "afeced19-6210-44b9-9b6e-14c133976e5e",
   "metadata": {},
   "outputs": [
    {
     "name": "stdout",
     "output_type": "stream",
     "text": [
      "WARNING:tensorflow:From C:\\Users\\ganes\\AppData\\Local\\Programs\\Python\\Python310\\lib\\site-packages\\keras\\src\\losses.py:2976: The name tf.losses.sparse_softmax_cross_entropy is deprecated. Please use tf.compat.v1.losses.sparse_softmax_cross_entropy instead.\n",
      "\n"
     ]
    }
   ],
   "source": [
    "import tensorflow as tf\n",
    "import numpy as np"
   ]
  },
  {
   "cell_type": "code",
   "execution_count": 2,
   "id": "a0b245f6-d578-4469-9dfa-f9336e920084",
   "metadata": {},
   "outputs": [
    {
     "data": {
      "text/plain": [
       "<tf.Tensor: shape=(2,), dtype=int32, numpy=array([-3, -4])>"
      ]
     },
     "execution_count": 2,
     "metadata": {},
     "output_type": "execute_result"
    }
   ],
   "source": [
    "tensor=tf.constant([-3,-4])\n",
    "tensor"
   ]
  },
  {
   "cell_type": "code",
   "execution_count": 3,
   "id": "7c4c3ab5-3c42-436b-852f-284c59e07343",
   "metadata": {},
   "outputs": [
    {
     "data": {
      "text/plain": [
       "<tf.Tensor: shape=(2,), dtype=int32, numpy=array([3, 4])>"
      ]
     },
     "execution_count": 3,
     "metadata": {},
     "output_type": "execute_result"
    }
   ],
   "source": [
    "tf.abs(tensor)"
   ]
  },
  {
   "cell_type": "markdown",
   "id": "6f5fab5a-8515-4d17-bed0-ed876cb67118",
   "metadata": {},
   "source": [
    "# Let's go through the following forms of aggregation\n",
    "### 1. Get the minimum\n",
    "### 2. Get the maximum\n",
    "### 3. Get the mean of a tensor\n",
    "### 4. Get the sum of a tensor"
   ]
  },
  {
   "cell_type": "code",
   "execution_count": 4,
   "id": "7a17d6e0-a734-45ea-878b-b471e7451c7f",
   "metadata": {},
   "outputs": [
    {
     "data": {
      "text/plain": [
       "<tf.Tensor: shape=(50,), dtype=int32, numpy=\n",
       "array([74,  9, 39, 22, 52, 53, 20, 20, 29, 19, 56, 62, 65, 75, 82, 30, 44,\n",
       "       45, 88, 55,  9, 47,  5, 68, 26, 55, 27,  1, 58, 54,  3, 98,  4, 85,\n",
       "       37, 60, 50, 16, 80,  0, 58, 20, 24, 11, 23, 43, 37, 95, 30, 82])>"
      ]
     },
     "execution_count": 4,
     "metadata": {},
     "output_type": "execute_result"
    }
   ],
   "source": [
    "# create a random tensor\n",
    "tensor=tf.constant(np.random.randint(0,100,size=50))\n",
    "tensor"
   ]
  },
  {
   "cell_type": "code",
   "execution_count": 5,
   "id": "c68aa89d-00bb-4077-964d-51b9f2e499ef",
   "metadata": {},
   "outputs": [
    {
     "data": {
      "text/plain": [
       "<tf.Tensor: shape=(), dtype=int32, numpy=0>"
      ]
     },
     "execution_count": 5,
     "metadata": {},
     "output_type": "execute_result"
    }
   ],
   "source": [
    "tf.reduce_min(tensor)"
   ]
  },
  {
   "cell_type": "code",
   "execution_count": 6,
   "id": "62bd0876-039c-4acf-9b08-7c513ff04d2b",
   "metadata": {},
   "outputs": [
    {
     "data": {
      "text/plain": [
       "<tf.Tensor: shape=(), dtype=int32, numpy=98>"
      ]
     },
     "execution_count": 6,
     "metadata": {},
     "output_type": "execute_result"
    }
   ],
   "source": [
    "tf.reduce_max(tensor)"
   ]
  },
  {
   "cell_type": "code",
   "execution_count": 7,
   "id": "dfa36943-1909-4092-8d18-c028bcb4e224",
   "metadata": {},
   "outputs": [
    {
     "data": {
      "text/plain": [
       "<tf.Tensor: shape=(), dtype=int32, numpy=42>"
      ]
     },
     "execution_count": 7,
     "metadata": {},
     "output_type": "execute_result"
    }
   ],
   "source": [
    "tf.reduce_mean(tensor)"
   ]
  },
  {
   "cell_type": "code",
   "execution_count": 8,
   "id": "5c7f0cf5-5ae3-48e7-8d8b-8809ad112fac",
   "metadata": {},
   "outputs": [
    {
     "data": {
      "text/plain": [
       "<tf.Tensor: shape=(), dtype=int32, numpy=2145>"
      ]
     },
     "execution_count": 8,
     "metadata": {},
     "output_type": "execute_result"
    }
   ],
   "source": [
    "tf.reduce_sum(tensor)"
   ]
  },
  {
   "cell_type": "markdown",
   "id": "e2fd532a-cac4-4923-8d28-bd60b8843504",
   "metadata": {},
   "source": [
    "#### Find variance and standard deviation"
   ]
  },
  {
   "cell_type": "code",
   "execution_count": 15,
   "id": "54dbe4bc-86aa-4d17-acb9-5419c8ac9f94",
   "metadata": {},
   "outputs": [
    {
     "name": "stdout",
     "output_type": "stream",
     "text": [
      "WARNING:tensorflow:From C:\\Users\\ganes\\AppData\\Local\\Programs\\Python\\Python310\\lib\\site-packages\\tensorflow_probability\\python\\internal\\backend\\numpy\\_utils.py:48: The name tf.logging.TaskLevelStatusMessage is deprecated. Please use tf.compat.v1.logging.TaskLevelStatusMessage instead.\n",
      "\n",
      "WARNING:tensorflow:From C:\\Users\\ganes\\AppData\\Local\\Programs\\Python\\Python310\\lib\\site-packages\\tensorflow_probability\\python\\internal\\backend\\numpy\\_utils.py:48: The name tf.control_flow_v2_enabled is deprecated. Please use tf.compat.v1.control_flow_v2_enabled instead.\n",
      "\n"
     ]
    }
   ],
   "source": [
    "import tensorflow_probability as tfp"
   ]
  },
  {
   "cell_type": "code",
   "execution_count": 16,
   "id": "1bf1e345-994e-445c-b9d2-99e2d74698c9",
   "metadata": {},
   "outputs": [
    {
     "data": {
      "text/plain": [
       "<tf.Tensor: shape=(), dtype=int32, numpy=715>"
      ]
     },
     "execution_count": 16,
     "metadata": {},
     "output_type": "execute_result"
    }
   ],
   "source": [
    "tfp.stats.variance(tensor)"
   ]
  },
  {
   "cell_type": "code",
   "execution_count": 21,
   "id": "cfeed150-8d39-408a-97c8-8e5c912e6e28",
   "metadata": {},
   "outputs": [
    {
     "data": {
      "text/plain": [
       "<tf.Tensor: shape=(), dtype=float32, numpy=714.53>"
      ]
     },
     "execution_count": 21,
     "metadata": {},
     "output_type": "execute_result"
    }
   ],
   "source": [
    "tf.math.reduce_variance(tf.cast(tensor,dtype=tf.float32))"
   ]
  },
  {
   "cell_type": "code",
   "execution_count": 20,
   "id": "7d491aae-00d7-4656-b64b-0efe53896dbd",
   "metadata": {},
   "outputs": [
    {
     "data": {
      "text/plain": [
       "<tf.Tensor: shape=(), dtype=float32, numpy=26.730694>"
      ]
     },
     "execution_count": 20,
     "metadata": {},
     "output_type": "execute_result"
    }
   ],
   "source": [
    "tf.math.reduce_std(tf.cast(tensor,dtype=tf.float32))"
   ]
  },
  {
   "cell_type": "markdown",
   "id": "8c4fe39a-fc16-4d7e-8fa4-e81ab42f207d",
   "metadata": {},
   "source": [
    "## find positional maximum and minimum of a tensor\n"
   ]
  },
  {
   "cell_type": "code",
   "execution_count": 22,
   "id": "67376574-3568-49d8-b6ec-72fd928fcedb",
   "metadata": {},
   "outputs": [],
   "source": [
    "tf.random.set_seed(42)\n",
    "tensor=tf.random.uniform(shape=[52])"
   ]
  },
  {
   "cell_type": "code",
   "execution_count": 23,
   "id": "cfe36070-c738-4e12-af30-591e18efc934",
   "metadata": {},
   "outputs": [
    {
     "data": {
      "text/plain": [
       "<tf.Tensor: shape=(52,), dtype=float32, numpy=\n",
       "array([0.6645621 , 0.44100678, 0.3528825 , 0.46448255, 0.03366041,\n",
       "       0.68467236, 0.74011743, 0.8724445 , 0.22632635, 0.22319686,\n",
       "       0.3103881 , 0.7223358 , 0.13318717, 0.5480639 , 0.5746088 ,\n",
       "       0.8996835 , 0.00946367, 0.5212307 , 0.6345445 , 0.1993283 ,\n",
       "       0.72942245, 0.54583454, 0.10756552, 0.6767061 , 0.6602763 ,\n",
       "       0.33695042, 0.60141766, 0.21062577, 0.8527372 , 0.44062173,\n",
       "       0.9485276 , 0.23752594, 0.81179297, 0.5263394 , 0.494308  ,\n",
       "       0.21612847, 0.8457197 , 0.8718841 , 0.3083862 , 0.6868038 ,\n",
       "       0.23764038, 0.7817228 , 0.9671384 , 0.06870162, 0.79873943,\n",
       "       0.66028714, 0.5871513 , 0.16461694, 0.7381023 , 0.32054043,\n",
       "       0.6073899 , 0.46523476], dtype=float32)>"
      ]
     },
     "execution_count": 23,
     "metadata": {},
     "output_type": "execute_result"
    }
   ],
   "source": [
    "tensor"
   ]
  },
  {
   "cell_type": "code",
   "execution_count": 24,
   "id": "58277e6e-fcd3-4942-9f70-c9ae225a17c9",
   "metadata": {},
   "outputs": [
    {
     "data": {
      "text/plain": [
       "<tf.Tensor: shape=(), dtype=int64, numpy=42>"
      ]
     },
     "execution_count": 24,
     "metadata": {},
     "output_type": "execute_result"
    }
   ],
   "source": [
    "# argmax return the position of the maximum value\n",
    "tf.argmax(tensor)\n"
   ]
  },
  {
   "cell_type": "code",
   "execution_count": 27,
   "id": "4855fb83-5354-41ba-be96-d2a1234fa656",
   "metadata": {},
   "outputs": [
    {
     "data": {
      "text/plain": [
       "(<tf.Tensor: shape=(), dtype=int64, numpy=16>,\n",
       " <tf.Tensor: shape=(), dtype=float32, numpy=0.009463668>)"
      ]
     },
     "execution_count": 27,
     "metadata": {},
     "output_type": "execute_result"
    }
   ],
   "source": [
    "# argmin return the position of the minimum value\n",
    "tf.argmin(tensor),tensor[tf.argmin(tensor)]"
   ]
  },
  {
   "cell_type": "markdown",
   "id": "eeee8fe9-52e0-4bb4-8f48-690625f8fd21",
   "metadata": {},
   "source": [
    "# Squeezing tensor"
   ]
  },
  {
   "cell_type": "code",
   "execution_count": 28,
   "id": "1a1eb768-83b6-4b10-a00d-a2a9b157d226",
   "metadata": {},
   "outputs": [
    {
     "data": {
      "text/plain": [
       "<tf.Tensor: shape=(1, 1, 1, 1, 1, 50), dtype=float32, numpy=\n",
       "array([[[[[[0.6645621 , 0.44100678, 0.3528825 , 0.46448255,\n",
       "            0.03366041, 0.68467236, 0.74011743, 0.8724445 ,\n",
       "            0.22632635, 0.22319686, 0.3103881 , 0.7223358 ,\n",
       "            0.13318717, 0.5480639 , 0.5746088 , 0.8996835 ,\n",
       "            0.00946367, 0.5212307 , 0.6345445 , 0.1993283 ,\n",
       "            0.72942245, 0.54583454, 0.10756552, 0.6767061 ,\n",
       "            0.6602763 , 0.33695042, 0.60141766, 0.21062577,\n",
       "            0.8527372 , 0.44062173, 0.9485276 , 0.23752594,\n",
       "            0.81179297, 0.5263394 , 0.494308  , 0.21612847,\n",
       "            0.8457197 , 0.8718841 , 0.3083862 , 0.6868038 ,\n",
       "            0.23764038, 0.7817228 , 0.9671384 , 0.06870162,\n",
       "            0.79873943, 0.66028714, 0.5871513 , 0.16461694,\n",
       "            0.7381023 , 0.32054043]]]]]], dtype=float32)>"
      ]
     },
     "execution_count": 28,
     "metadata": {},
     "output_type": "execute_result"
    }
   ],
   "source": [
    "tf.random.set_seed(42)\n",
    "tensor=tf.constant(tf.random.uniform(shape=[50]),shape=[1,1,1,1,1,50])\n",
    "tensor"
   ]
  },
  {
   "cell_type": "code",
   "execution_count": 29,
   "id": "cb4c3836-4495-4d36-8597-ce07fea04968",
   "metadata": {},
   "outputs": [
    {
     "data": {
      "text/plain": [
       "TensorShape([1, 1, 1, 1, 1, 50])"
      ]
     },
     "execution_count": 29,
     "metadata": {},
     "output_type": "execute_result"
    }
   ],
   "source": [
    "tensor.shape"
   ]
  },
  {
   "cell_type": "code",
   "execution_count": 31,
   "id": "e3fd68b4-4693-4892-a4d3-9c9aaa20bc06",
   "metadata": {},
   "outputs": [
    {
     "data": {
      "text/plain": [
       "(TensorShape([50]),\n",
       " <tf.Tensor: shape=(50,), dtype=float32, numpy=\n",
       " array([0.6645621 , 0.44100678, 0.3528825 , 0.46448255, 0.03366041,\n",
       "        0.68467236, 0.74011743, 0.8724445 , 0.22632635, 0.22319686,\n",
       "        0.3103881 , 0.7223358 , 0.13318717, 0.5480639 , 0.5746088 ,\n",
       "        0.8996835 , 0.00946367, 0.5212307 , 0.6345445 , 0.1993283 ,\n",
       "        0.72942245, 0.54583454, 0.10756552, 0.6767061 , 0.6602763 ,\n",
       "        0.33695042, 0.60141766, 0.21062577, 0.8527372 , 0.44062173,\n",
       "        0.9485276 , 0.23752594, 0.81179297, 0.5263394 , 0.494308  ,\n",
       "        0.21612847, 0.8457197 , 0.8718841 , 0.3083862 , 0.6868038 ,\n",
       "        0.23764038, 0.7817228 , 0.9671384 , 0.06870162, 0.79873943,\n",
       "        0.66028714, 0.5871513 , 0.16461694, 0.7381023 , 0.32054043],\n",
       "       dtype=float32)>)"
      ]
     },
     "execution_count": 31,
     "metadata": {},
     "output_type": "execute_result"
    }
   ],
   "source": [
    "tensor_squeeze=tf.squeeze(tensor)\n",
    "tensor_squeeze.shape,tensor_squeeze"
   ]
  },
  {
   "cell_type": "code",
   "execution_count": null,
   "id": "bcba7b7c-def5-4435-8c52-9f23d192a748",
   "metadata": {},
   "outputs": [],
   "source": []
  }
 ],
 "metadata": {
  "kernelspec": {
   "display_name": "Python 3 (ipykernel)",
   "language": "python",
   "name": "python3"
  },
  "language_info": {
   "codemirror_mode": {
    "name": "ipython",
    "version": 3
   },
   "file_extension": ".py",
   "mimetype": "text/x-python",
   "name": "python",
   "nbconvert_exporter": "python",
   "pygments_lexer": "ipython3",
   "version": "3.10.9"
  }
 },
 "nbformat": 4,
 "nbformat_minor": 5
}
