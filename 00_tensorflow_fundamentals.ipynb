{
 "cells": [
  {
   "cell_type": "markdown",
   "id": "31825f2d-9847-4b98-98f9-989ea9534b7b",
   "metadata": {},
   "source": [
    "# Tensorflow fundamentals "
   ]
  },
  {
   "cell_type": "markdown",
   "id": "a4f22639-2f9b-4493-893b-3aafb3e8619a",
   "metadata": {},
   "source": [
    "# Introduction to tensors"
   ]
  },
  {
   "cell_type": "code",
   "execution_count": 1,
   "id": "f5bbde30-40f0-40db-98ba-b958d5b1b17c",
   "metadata": {},
   "outputs": [
    {
     "name": "stdout",
     "output_type": "stream",
     "text": [
      "WARNING:tensorflow:From C:\\Users\\ganes\\AppData\\Local\\Programs\\Python\\Python310\\lib\\site-packages\\keras\\src\\losses.py:2976: The name tf.losses.sparse_softmax_cross_entropy is deprecated. Please use tf.compat.v1.losses.sparse_softmax_cross_entropy instead.\n",
      "\n"
     ]
    }
   ],
   "source": [
    "import tensorflow as tf"
   ]
  },
  {
   "cell_type": "code",
   "execution_count": 2,
   "id": "1d51a8b2-bc34-448d-bb40-0310c9aae9c2",
   "metadata": {},
   "outputs": [
    {
     "data": {
      "text/plain": [
       "'2.15.0'"
      ]
     },
     "execution_count": 2,
     "metadata": {},
     "output_type": "execute_result"
    }
   ],
   "source": [
    "tf.__version__"
   ]
  },
  {
   "cell_type": "markdown",
   "id": "a005da87-d18d-4831-acca-3b7688156ae0",
   "metadata": {},
   "source": [
    "# create tensor with tf.constant"
   ]
  },
  {
   "cell_type": "code",
   "execution_count": 3,
   "id": "21403e6d-9f9f-420e-b864-01d35ea26e36",
   "metadata": {},
   "outputs": [
    {
     "data": {
      "text/plain": [
       "<tf.Tensor: shape=(), dtype=int32, numpy=1>"
      ]
     },
     "execution_count": 3,
     "metadata": {},
     "output_type": "execute_result"
    }
   ],
   "source": [
    "scaler=tf.constant(1)\n",
    "scaler\n"
   ]
  },
  {
   "cell_type": "markdown",
   "id": "4425e9d4-1c56-4071-841a-8dbe7faa1f6e",
   "metadata": {},
   "source": [
    "# number of dimension of tensor"
   ]
  },
  {
   "cell_type": "code",
   "execution_count": 4,
   "id": "ac89e778-c6a5-49bd-aeb8-2d5fc2fe6fa0",
   "metadata": {},
   "outputs": [
    {
     "data": {
      "text/plain": [
       "0"
      ]
     },
     "execution_count": 4,
     "metadata": {},
     "output_type": "execute_result"
    }
   ],
   "source": [
    "scaler.ndim"
   ]
  },
  {
   "cell_type": "markdown",
   "id": "5d718763-b2e9-423f-bbb3-66b8cf94bd57",
   "metadata": {},
   "source": [
    "# create a vector"
   ]
  },
  {
   "cell_type": "code",
   "execution_count": 5,
   "id": "4fe3f112-3709-4a9d-ae58-fdb01a74bc89",
   "metadata": {},
   "outputs": [],
   "source": [
    "vector=tf.constant([2,3,4])"
   ]
  },
  {
   "cell_type": "code",
   "execution_count": 6,
   "id": "2a52bbed-8a4b-4e81-9ef0-e12a32ed3661",
   "metadata": {},
   "outputs": [
    {
     "data": {
      "text/plain": [
       "<tf.Tensor: shape=(3,), dtype=int32, numpy=array([2, 3, 4])>"
      ]
     },
     "execution_count": 6,
     "metadata": {},
     "output_type": "execute_result"
    }
   ],
   "source": [
    "vector"
   ]
  },
  {
   "cell_type": "code",
   "execution_count": 7,
   "id": "2bf8b935-1087-4f25-bf6e-a85edc2d38d1",
   "metadata": {},
   "outputs": [
    {
     "data": {
      "text/plain": [
       "1"
      ]
     },
     "execution_count": 7,
     "metadata": {},
     "output_type": "execute_result"
    }
   ],
   "source": [
    "vector.ndim"
   ]
  },
  {
   "cell_type": "markdown",
   "id": "60a8ab36-e5ee-4745-b306-ddf4b1daa101",
   "metadata": {},
   "source": [
    "# create matrix"
   ]
  },
  {
   "cell_type": "code",
   "execution_count": 9,
   "id": "692bd7be-70a6-4f82-bd2c-d012aa643e20",
   "metadata": {},
   "outputs": [
    {
     "data": {
      "text/plain": [
       "<tf.Tensor: shape=(2, 2), dtype=int32, numpy=\n",
       "array([[23, 45],\n",
       "       [22, 33]])>"
      ]
     },
     "execution_count": 9,
     "metadata": {},
     "output_type": "execute_result"
    }
   ],
   "source": [
    "matrix=tf.constant([[23,45],[22,33]])\n",
    "matrix"
   ]
  },
  {
   "cell_type": "code",
   "execution_count": 10,
   "id": "b7f01337-8830-48d3-a0d4-5cfc0c826c7d",
   "metadata": {},
   "outputs": [
    {
     "data": {
      "text/plain": [
       "2"
      ]
     },
     "execution_count": 10,
     "metadata": {},
     "output_type": "execute_result"
    }
   ],
   "source": [
    "matrix.ndim"
   ]
  },
  {
   "cell_type": "markdown",
   "id": "27dd4e70-950d-45ed-a17e-f851691728ba",
   "metadata": {},
   "source": [
    "# create tensor"
   ]
  },
  {
   "cell_type": "code",
   "execution_count": 16,
   "id": "7077ae72-df14-45e4-a245-a1d4ac67af7a",
   "metadata": {},
   "outputs": [
    {
     "data": {
      "text/plain": [
       "<tf.Tensor: shape=(2, 2, 3), dtype=int32, numpy=\n",
       "array([[[23, 44, 55],\n",
       "        [44, 55, 44]],\n",
       "\n",
       "       [[55, 44, 33],\n",
       "        [11, 21, 12]]])>"
      ]
     },
     "execution_count": 16,
     "metadata": {},
     "output_type": "execute_result"
    }
   ],
   "source": [
    "tensor=tf.constant([[[23,44,55],[44,55,44]],[[55,44,33],[11,21,12]]])\n",
    "tensor"
   ]
  },
  {
   "cell_type": "code",
   "execution_count": 17,
   "id": "40c888a5-3968-4c19-bb42-3a82df0ec638",
   "metadata": {},
   "outputs": [
    {
     "data": {
      "text/plain": [
       "3"
      ]
     },
     "execution_count": 17,
     "metadata": {},
     "output_type": "execute_result"
    }
   ],
   "source": [
    "tensor.ndim"
   ]
  },
  {
   "cell_type": "code",
   "execution_count": null,
   "id": "ad0421e9-1f22-4488-95ba-c5c2cd42df51",
   "metadata": {},
   "outputs": [],
   "source": []
  }
 ],
 "metadata": {
  "kernelspec": {
   "display_name": "Python 3 (ipykernel)",
   "language": "python",
   "name": "python3"
  },
  "language_info": {
   "codemirror_mode": {
    "name": "ipython",
    "version": 3
   },
   "file_extension": ".py",
   "mimetype": "text/x-python",
   "name": "python",
   "nbconvert_exporter": "python",
   "pygments_lexer": "ipython3",
   "version": "3.10.9"
  }
 },
 "nbformat": 4,
 "nbformat_minor": 5
}
