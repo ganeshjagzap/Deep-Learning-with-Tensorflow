{
 "cells": [
  {
   "cell_type": "markdown",
   "id": "64faebd9-659d-436c-b73e-fec0b677dc70",
   "metadata": {},
   "source": [
    "### Getting more information from tensors"
   ]
  },
  {
   "cell_type": "markdown",
   "id": "9cd302dc-bfdf-41f6-923a-2a9cae903112",
   "metadata": {},
   "source": [
    "#### Shape, Axis or Dimension, Rank, Size"
   ]
  },
  {
   "cell_type": "code",
   "execution_count": 1,
   "id": "f2c34d80-bb5d-467f-b2d3-1953da08919f",
   "metadata": {},
   "outputs": [
    {
     "name": "stdout",
     "output_type": "stream",
     "text": [
      "WARNING:tensorflow:From C:\\Users\\ganes\\AppData\\Local\\Programs\\Python\\Python310\\lib\\site-packages\\keras\\src\\losses.py:2976: The name tf.losses.sparse_softmax_cross_entropy is deprecated. Please use tf.compat.v1.losses.sparse_softmax_cross_entropy instead.\n",
      "\n"
     ]
    }
   ],
   "source": [
    "import tensorflow as tf\n",
    "import numpy as np"
   ]
  },
  {
   "cell_type": "code",
   "execution_count": 2,
   "id": "54bb7162-8630-4049-b463-48df668f059e",
   "metadata": {},
   "outputs": [
    {
     "data": {
      "text/plain": [
       "<tf.Tensor: shape=(2, 3, 4, 5), dtype=float32, numpy=\n",
       "array([[[[0., 0., 0., 0., 0.],\n",
       "         [0., 0., 0., 0., 0.],\n",
       "         [0., 0., 0., 0., 0.],\n",
       "         [0., 0., 0., 0., 0.]],\n",
       "\n",
       "        [[0., 0., 0., 0., 0.],\n",
       "         [0., 0., 0., 0., 0.],\n",
       "         [0., 0., 0., 0., 0.],\n",
       "         [0., 0., 0., 0., 0.]],\n",
       "\n",
       "        [[0., 0., 0., 0., 0.],\n",
       "         [0., 0., 0., 0., 0.],\n",
       "         [0., 0., 0., 0., 0.],\n",
       "         [0., 0., 0., 0., 0.]]],\n",
       "\n",
       "\n",
       "       [[[0., 0., 0., 0., 0.],\n",
       "         [0., 0., 0., 0., 0.],\n",
       "         [0., 0., 0., 0., 0.],\n",
       "         [0., 0., 0., 0., 0.]],\n",
       "\n",
       "        [[0., 0., 0., 0., 0.],\n",
       "         [0., 0., 0., 0., 0.],\n",
       "         [0., 0., 0., 0., 0.],\n",
       "         [0., 0., 0., 0., 0.]],\n",
       "\n",
       "        [[0., 0., 0., 0., 0.],\n",
       "         [0., 0., 0., 0., 0.],\n",
       "         [0., 0., 0., 0., 0.],\n",
       "         [0., 0., 0., 0., 0.]]]], dtype=float32)>"
      ]
     },
     "execution_count": 2,
     "metadata": {},
     "output_type": "execute_result"
    }
   ],
   "source": [
    "rank_4_tensor=tf.zeros(shape=[2,3,4,5])\n",
    "rank_4_tensor"
   ]
  },
  {
   "cell_type": "code",
   "execution_count": 3,
   "id": "df03d126-13ba-4c79-92a0-bb1cd804f47e",
   "metadata": {},
   "outputs": [
    {
     "data": {
      "text/plain": [
       "(4, 120, TensorShape([2, 3, 4, 5]))"
      ]
     },
     "execution_count": 3,
     "metadata": {},
     "output_type": "execute_result"
    }
   ],
   "source": [
    "rank_4_tensor.ndim,tf.size(rank_4_tensor).numpy(),rank_4_tensor.shape\n"
   ]
  },
  {
   "cell_type": "code",
   "execution_count": 4,
   "id": "46bdf2be-b5e2-4a0e-b39e-2a82a060075b",
   "metadata": {},
   "outputs": [
    {
     "name": "stdout",
     "output_type": "stream",
     "text": [
      "elements along first axis(0) 2\n",
      "elements along last axis(-1_ 5\n"
     ]
    }
   ],
   "source": [
    "print(\"elements along first axis(0)\",rank_4_tensor.shape[0])\n",
    "print(\"elements along last axis(-1_\",rank_4_tensor.shape[-1])\n"
   ]
  },
  {
   "cell_type": "markdown",
   "id": "3840e3f5-48a5-4f20-b081-53105292f090",
   "metadata": {},
   "source": [
    "# Indexing Tensor"
   ]
  },
  {
   "cell_type": "markdown",
   "id": "157b6b35-1ce8-4893-9392-c6f1d1dcc5db",
   "metadata": {},
   "source": [
    " ### Tensor can be Index just like a python list"
   ]
  },
  {
   "cell_type": "code",
   "execution_count": 5,
   "id": "9badda3d-c6a4-494f-8e8b-de2c8f31c0f0",
   "metadata": {},
   "outputs": [
    {
     "data": {
      "text/plain": [
       "<tf.Tensor: shape=(2, 2, 1, 5), dtype=float32, numpy=\n",
       "array([[[[0., 0., 0., 0., 0.]],\n",
       "\n",
       "        [[0., 0., 0., 0., 0.]]],\n",
       "\n",
       "\n",
       "       [[[0., 0., 0., 0., 0.]],\n",
       "\n",
       "        [[0., 0., 0., 0., 0.]]]], dtype=float32)>"
      ]
     },
     "execution_count": 5,
     "metadata": {},
     "output_type": "execute_result"
    }
   ],
   "source": [
    "rank_4_tensor[:2,:2,:1]"
   ]
  },
  {
   "cell_type": "markdown",
   "id": "464c67c4-98f4-4e14-8b51-0a09b0b3bfdc",
   "metadata": {},
   "source": [
    "### Get the first element from each dimension from each index except for the final one"
   ]
  },
  {
   "cell_type": "code",
   "execution_count": 6,
   "id": "c3e6f1ad-4ed0-4b23-9d3a-87288a6f0046",
   "metadata": {},
   "outputs": [
    {
     "data": {
      "text/plain": [
       "<tf.Tensor: shape=(1, 1, 1, 5), dtype=float32, numpy=array([[[[0., 0., 0., 0., 0.]]]], dtype=float32)>"
      ]
     },
     "execution_count": 6,
     "metadata": {},
     "output_type": "execute_result"
    }
   ],
   "source": [
    "rank_4_tensor[:1,:1,:1]"
   ]
  },
  {
   "cell_type": "markdown",
   "id": "34b9d5f7-0c37-48a3-b21c-fb89a3a0f8e7",
   "metadata": {},
   "source": [
    "## Add extra dimension into the tensor"
   ]
  },
  {
   "cell_type": "code",
   "execution_count": 7,
   "id": "4b667140-ebac-4fc3-ba28-d82b92591880",
   "metadata": {},
   "outputs": [],
   "source": [
    "rank_5_tensor=rank_4_tensor[:,:,:,:, tf.newaxis] \n",
    "# or rank_5_tensor = rank_4_tensor[..., tf.newaxis]"
   ]
  },
  {
   "cell_type": "code",
   "execution_count": 8,
   "id": "6b855b90-f3ae-45df-b23d-e8bcc9b4772e",
   "metadata": {},
   "outputs": [
    {
     "data": {
      "text/plain": [
       "<tf.Tensor: shape=(2, 3, 4, 5, 1), dtype=float32, numpy=\n",
       "array([[[[[0.],\n",
       "          [0.],\n",
       "          [0.],\n",
       "          [0.],\n",
       "          [0.]],\n",
       "\n",
       "         [[0.],\n",
       "          [0.],\n",
       "          [0.],\n",
       "          [0.],\n",
       "          [0.]],\n",
       "\n",
       "         [[0.],\n",
       "          [0.],\n",
       "          [0.],\n",
       "          [0.],\n",
       "          [0.]],\n",
       "\n",
       "         [[0.],\n",
       "          [0.],\n",
       "          [0.],\n",
       "          [0.],\n",
       "          [0.]]],\n",
       "\n",
       "\n",
       "        [[[0.],\n",
       "          [0.],\n",
       "          [0.],\n",
       "          [0.],\n",
       "          [0.]],\n",
       "\n",
       "         [[0.],\n",
       "          [0.],\n",
       "          [0.],\n",
       "          [0.],\n",
       "          [0.]],\n",
       "\n",
       "         [[0.],\n",
       "          [0.],\n",
       "          [0.],\n",
       "          [0.],\n",
       "          [0.]],\n",
       "\n",
       "         [[0.],\n",
       "          [0.],\n",
       "          [0.],\n",
       "          [0.],\n",
       "          [0.]]],\n",
       "\n",
       "\n",
       "        [[[0.],\n",
       "          [0.],\n",
       "          [0.],\n",
       "          [0.],\n",
       "          [0.]],\n",
       "\n",
       "         [[0.],\n",
       "          [0.],\n",
       "          [0.],\n",
       "          [0.],\n",
       "          [0.]],\n",
       "\n",
       "         [[0.],\n",
       "          [0.],\n",
       "          [0.],\n",
       "          [0.],\n",
       "          [0.]],\n",
       "\n",
       "         [[0.],\n",
       "          [0.],\n",
       "          [0.],\n",
       "          [0.],\n",
       "          [0.]]]],\n",
       "\n",
       "\n",
       "\n",
       "       [[[[0.],\n",
       "          [0.],\n",
       "          [0.],\n",
       "          [0.],\n",
       "          [0.]],\n",
       "\n",
       "         [[0.],\n",
       "          [0.],\n",
       "          [0.],\n",
       "          [0.],\n",
       "          [0.]],\n",
       "\n",
       "         [[0.],\n",
       "          [0.],\n",
       "          [0.],\n",
       "          [0.],\n",
       "          [0.]],\n",
       "\n",
       "         [[0.],\n",
       "          [0.],\n",
       "          [0.],\n",
       "          [0.],\n",
       "          [0.]]],\n",
       "\n",
       "\n",
       "        [[[0.],\n",
       "          [0.],\n",
       "          [0.],\n",
       "          [0.],\n",
       "          [0.]],\n",
       "\n",
       "         [[0.],\n",
       "          [0.],\n",
       "          [0.],\n",
       "          [0.],\n",
       "          [0.]],\n",
       "\n",
       "         [[0.],\n",
       "          [0.],\n",
       "          [0.],\n",
       "          [0.],\n",
       "          [0.]],\n",
       "\n",
       "         [[0.],\n",
       "          [0.],\n",
       "          [0.],\n",
       "          [0.],\n",
       "          [0.]]],\n",
       "\n",
       "\n",
       "        [[[0.],\n",
       "          [0.],\n",
       "          [0.],\n",
       "          [0.],\n",
       "          [0.]],\n",
       "\n",
       "         [[0.],\n",
       "          [0.],\n",
       "          [0.],\n",
       "          [0.],\n",
       "          [0.]],\n",
       "\n",
       "         [[0.],\n",
       "          [0.],\n",
       "          [0.],\n",
       "          [0.],\n",
       "          [0.]],\n",
       "\n",
       "         [[0.],\n",
       "          [0.],\n",
       "          [0.],\n",
       "          [0.],\n",
       "          [0.]]]]], dtype=float32)>"
      ]
     },
     "execution_count": 8,
     "metadata": {},
     "output_type": "execute_result"
    }
   ],
   "source": [
    "rank_5_tensor"
   ]
  },
  {
   "cell_type": "markdown",
   "id": "7de7db38-5317-464b-b9c4-d74d018d8f06",
   "metadata": {},
   "source": [
    "## Alternative to tf.newaxis\n"
   ]
  },
  {
   "cell_type": "code",
   "execution_count": 9,
   "id": "bdf5af34-5a48-4ff9-8467-3bd0de00aa1c",
   "metadata": {},
   "outputs": [
    {
     "data": {
      "text/plain": [
       "<tf.Tensor: shape=(2, 3, 1, 4, 5), dtype=float32, numpy=\n",
       "array([[[[[0., 0., 0., 0., 0.],\n",
       "          [0., 0., 0., 0., 0.],\n",
       "          [0., 0., 0., 0., 0.],\n",
       "          [0., 0., 0., 0., 0.]]],\n",
       "\n",
       "\n",
       "        [[[0., 0., 0., 0., 0.],\n",
       "          [0., 0., 0., 0., 0.],\n",
       "          [0., 0., 0., 0., 0.],\n",
       "          [0., 0., 0., 0., 0.]]],\n",
       "\n",
       "\n",
       "        [[[0., 0., 0., 0., 0.],\n",
       "          [0., 0., 0., 0., 0.],\n",
       "          [0., 0., 0., 0., 0.],\n",
       "          [0., 0., 0., 0., 0.]]]],\n",
       "\n",
       "\n",
       "\n",
       "       [[[[0., 0., 0., 0., 0.],\n",
       "          [0., 0., 0., 0., 0.],\n",
       "          [0., 0., 0., 0., 0.],\n",
       "          [0., 0., 0., 0., 0.]]],\n",
       "\n",
       "\n",
       "        [[[0., 0., 0., 0., 0.],\n",
       "          [0., 0., 0., 0., 0.],\n",
       "          [0., 0., 0., 0., 0.],\n",
       "          [0., 0., 0., 0., 0.]]],\n",
       "\n",
       "\n",
       "        [[[0., 0., 0., 0., 0.],\n",
       "          [0., 0., 0., 0., 0.],\n",
       "          [0., 0., 0., 0., 0.],\n",
       "          [0., 0., 0., 0., 0.]]]]], dtype=float32)>"
      ]
     },
     "execution_count": 9,
     "metadata": {},
     "output_type": "execute_result"
    }
   ],
   "source": [
    "tf.expand_dims(rank_4_tensor,axis=2)"
   ]
  },
  {
   "cell_type": "markdown",
   "id": "a7496dc7-8bb4-48c9-a803-730f70e097f4",
   "metadata": {},
   "source": [
    "# Manupulating Tensors"
   ]
  },
  {
   "cell_type": "markdown",
   "id": "e63c6166-f1b2-4afa-b44c-d51659cbbf06",
   "metadata": {},
   "source": [
    "### ** Basic Operations **  + - * /"
   ]
  },
  {
   "cell_type": "code",
   "execution_count": 10,
   "id": "bf55731f-f9d7-4b3e-8af3-3c04848d09ab",
   "metadata": {},
   "outputs": [
    {
     "data": {
      "text/plain": [
       "<tf.Tensor: shape=(2, 3), dtype=int32, numpy=\n",
       "array([[44, 65, 16],\n",
       "       [15, 15, 16]])>"
      ]
     },
     "execution_count": 10,
     "metadata": {},
     "output_type": "execute_result"
    }
   ],
   "source": [
    "# You can add values to a tensor using the addition operation\n",
    "tensor=tf.constant([[34,55,6],[5,5,6]])\n",
    "tensor + 10\n"
   ]
  },
  {
   "cell_type": "code",
   "execution_count": 11,
   "id": "5c5b300c-1456-470f-bb8c-399a1ae420a4",
   "metadata": {},
   "outputs": [
    {
     "data": {
      "text/plain": [
       "<tf.Tensor: shape=(2, 3), dtype=int32, numpy=\n",
       "array([[340, 550,  60],\n",
       "       [ 50,  50,  60]])>"
      ]
     },
     "execution_count": 11,
     "metadata": {},
     "output_type": "execute_result"
    }
   ],
   "source": [
    "tensor *10"
   ]
  },
  {
   "cell_type": "markdown",
   "id": "5c597226-7d97-4915-8b7c-3294c9a68874",
   "metadata": {},
   "source": [
    "## we can use tensorflow built in operation too "
   ]
  },
  {
   "cell_type": "code",
   "execution_count": 12,
   "id": "99b42617-bd4e-44b8-8dbd-fe7da2b2f632",
   "metadata": {},
   "outputs": [
    {
     "data": {
      "text/plain": [
       "<tf.Tensor: shape=(2, 3), dtype=int32, numpy=\n",
       "array([[340, 550,  60],\n",
       "       [ 50,  50,  60]])>"
      ]
     },
     "execution_count": 12,
     "metadata": {},
     "output_type": "execute_result"
    }
   ],
   "source": [
    "tf.multiply(tensor,10)"
   ]
  },
  {
   "cell_type": "markdown",
   "id": "d9c3aa8d-9113-4383-9aed-296a74664b3c",
   "metadata": {},
   "source": [
    "# Matrix Multiplication\n",
    "#### Matrix multiplication is nothing but dot product between rows of first matrix to the columns of second matrix"
   ]
  },
  {
   "cell_type": "code",
   "execution_count": 13,
   "id": "66d35920-1cf3-4a4e-a184-51c918e09b7a",
   "metadata": {},
   "outputs": [
    {
     "data": {
      "text/plain": [
       "<tf.Tensor: shape=(2, 2), dtype=int32, numpy=\n",
       "array([[480, 480],\n",
       "       [ 90,  90]])>"
      ]
     },
     "execution_count": 13,
     "metadata": {},
     "output_type": "execute_result"
    }
   ],
   "source": [
    "tf.matmul(tensor,[[10,10],[2,2],[5,5]])"
   ]
  },
  {
   "cell_type": "code",
   "execution_count": 14,
   "id": "81c572fc-b48a-45a1-8b1e-7753b4575c30",
   "metadata": {},
   "outputs": [
    {
     "data": {
      "text/plain": [
       "<tf.Tensor: shape=(2, 2), dtype=int32, numpy=\n",
       "array([[480, 480],\n",
       "       [ 90,  90]])>"
      ]
     },
     "execution_count": 14,
     "metadata": {},
     "output_type": "execute_result"
    }
   ],
   "source": [
    "# Matrix multiplication with python operator\n",
    "tensor@[[10,10],[2,2],[5,5]]"
   ]
  },
  {
   "cell_type": "code",
   "execution_count": 15,
   "id": "6f15bf3d-7dd9-40cf-a1fd-ea48b7b87180",
   "metadata": {},
   "outputs": [
    {
     "data": {
      "text/plain": [
       "TensorShape([2, 3])"
      ]
     },
     "execution_count": 15,
     "metadata": {},
     "output_type": "execute_result"
    }
   ],
   "source": [
    "tensor.shape"
   ]
  },
  {
   "cell_type": "code",
   "execution_count": 16,
   "id": "0ce5af88-34e6-4bf2-aaad-37a223a0a073",
   "metadata": {},
   "outputs": [
    {
     "data": {
      "text/plain": [
       "<tf.Tensor: shape=(2, 2), dtype=int32, numpy=\n",
       "array([[1516, 2181],\n",
       "       [ 230,  336]])>"
      ]
     },
     "execution_count": 16,
     "metadata": {},
     "output_type": "execute_result"
    }
   ],
   "source": [
    "tensor@tf.reshape(tensor,shape=[3,2])\n"
   ]
  },
  {
   "cell_type": "code",
   "execution_count": 17,
   "id": "017f37af-f66b-4c37-9a2c-614bc8198836",
   "metadata": {},
   "outputs": [
    {
     "data": {
      "text/plain": [
       "(<tf.Tensor: shape=(2, 3), dtype=int32, numpy=\n",
       " array([[34, 55,  6],\n",
       "        [ 5,  5,  6]])>,\n",
       " <tf.Tensor: shape=(3, 2), dtype=int32, numpy=\n",
       " array([[34, 55],\n",
       "        [ 6,  5],\n",
       "        [ 5,  6]])>)"
      ]
     },
     "execution_count": 17,
     "metadata": {},
     "output_type": "execute_result"
    }
   ],
   "source": [
    "tensor,tf.reshape(tensor,shape=[3,2])"
   ]
  },
  {
   "cell_type": "markdown",
   "id": "ef3aadf4-bcd5-4fd9-9822-01f2f275665b",
   "metadata": {},
   "source": [
    "## Transpose of a matrix"
   ]
  },
  {
   "cell_type": "code",
   "execution_count": 18,
   "id": "b096eaeb-3a11-4180-9dac-b25d97b4bea2",
   "metadata": {},
   "outputs": [
    {
     "data": {
      "text/plain": [
       "<tf.Tensor: shape=(3, 2), dtype=int32, numpy=\n",
       "array([[34,  5],\n",
       "       [55,  5],\n",
       "       [ 6,  6]])>"
      ]
     },
     "execution_count": 18,
     "metadata": {},
     "output_type": "execute_result"
    }
   ],
   "source": [
    "tf.transpose(tensor)"
   ]
  },
  {
   "cell_type": "code",
   "execution_count": 19,
   "id": "50446f64-b2a4-43cb-a83c-3542f7ee3888",
   "metadata": {},
   "outputs": [
    {
     "data": {
      "text/plain": [
       "<tf.Tensor: shape=(2, 2), dtype=int32, numpy=\n",
       "array([[4217,  481],\n",
       "       [ 481,   86]])>"
      ]
     },
     "execution_count": 19,
     "metadata": {},
     "output_type": "execute_result"
    }
   ],
   "source": [
    "tensor@tf.transpose(tensor)"
   ]
  },
  {
   "cell_type": "markdown",
   "id": "d1adfa0d-2378-41e5-8066-5fd63e8cfbd4",
   "metadata": {},
   "source": [
    "### Main difference between transpose and reshape is that transpose flip the axises and reshape shuffles the tensors"
   ]
  },
  {
   "cell_type": "markdown",
   "id": "5f7cfc27-65aa-4670-97fb-4ccca7b2c27c",
   "metadata": {},
   "source": [
    "#### Generally, while performing a matrix multiplication task on two tensors and one of the axes doesn't line up then you should perform transpose instead of reshaping it will satisfy the matrix multiplication rule "
   ]
  },
  {
   "cell_type": "markdown",
   "id": "8213210f-e590-4294-b93c-5ea33b43c14f",
   "metadata": {},
   "source": [
    "# Change the data type of a tensor"
   ]
  },
  {
   "cell_type": "code",
   "execution_count": 20,
   "id": "5f1759e7-9024-47b9-9d00-707a422bda75",
   "metadata": {},
   "outputs": [
    {
     "data": {
      "text/plain": [
       "tf.float32"
      ]
     },
     "execution_count": 20,
     "metadata": {},
     "output_type": "execute_result"
    }
   ],
   "source": [
    "#create a new tensor with default datatype\n",
    "tensor=tf.constant([2.3,4.5])\n",
    "tensor.dtype"
   ]
  },
  {
   "cell_type": "code",
   "execution_count": 23,
   "id": "797300c6-41ff-45f1-bcaf-d2c154c37675",
   "metadata": {},
   "outputs": [
    {
     "data": {
      "text/plain": [
       "tf.float16"
      ]
     },
     "execution_count": 23,
     "metadata": {},
     "output_type": "execute_result"
    }
   ],
   "source": [
    "# change from float32 to float16 (reduce precision)\n",
    "tensor=tf.constant([2.3,4.5],dtype=tf.float16)\n",
    "tensor.dtype"
   ]
  },
  {
   "cell_type": "code",
   "execution_count": null,
   "id": "09c293e4-866c-45f9-a352-894d137c91e9",
   "metadata": {},
   "outputs": [],
   "source": []
  }
 ],
 "metadata": {
  "kernelspec": {
   "display_name": "Python 3 (ipykernel)",
   "language": "python",
   "name": "python3"
  },
  "language_info": {
   "codemirror_mode": {
    "name": "ipython",
    "version": 3
   },
   "file_extension": ".py",
   "mimetype": "text/x-python",
   "name": "python",
   "nbconvert_exporter": "python",
   "pygments_lexer": "ipython3",
   "version": "3.10.9"
  }
 },
 "nbformat": 4,
 "nbformat_minor": 5
}
