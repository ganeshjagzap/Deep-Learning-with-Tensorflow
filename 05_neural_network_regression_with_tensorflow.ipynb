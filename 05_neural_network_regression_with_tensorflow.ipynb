{
 "cells": [
  {
   "cell_type": "code",
   "execution_count": 1,
   "id": "5d6b23ac-4c1b-4179-9149-a07cae9a94e4",
   "metadata": {},
   "outputs": [
    {
     "name": "stdout",
     "output_type": "stream",
     "text": [
      "WARNING:tensorflow:From C:\\Users\\ganes\\AppData\\Local\\Programs\\Python\\Python310\\lib\\site-packages\\keras\\src\\losses.py:2976: The name tf.losses.sparse_softmax_cross_entropy is deprecated. Please use tf.compat.v1.losses.sparse_softmax_cross_entropy instead.\n",
      "\n"
     ]
    }
   ],
   "source": [
    "import tensorflow as tf\n",
    "import numpy as np\n",
    "import pandas as pd\n",
    "import matplotlib.pyplot as plt"
   ]
  },
  {
   "cell_type": "code",
   "execution_count": 2,
   "id": "144be7e7-e02c-4a16-9e1f-b0746f5633cc",
   "metadata": {},
   "outputs": [],
   "source": [
    "x=np.array([-7,-4,-1,2,5,8,11])\n",
    "y=np.array([2,5,8,11,14,17,20])"
   ]
  },
  {
   "cell_type": "code",
   "execution_count": 3,
   "id": "dd8f97b7-e9aa-4a50-bbe3-37516dc151d1",
   "metadata": {},
   "outputs": [
    {
     "data": {
      "text/plain": [
       "<matplotlib.collections.PathCollection at 0x205f2215360>"
      ]
     },
     "execution_count": 3,
     "metadata": {},
     "output_type": "execute_result"
    },
    {
     "data": {
      "image/png": "[encoded data removed]",
      "text/plain": [
       "<Figure size 500x300 with 1 Axes>"
      ]
     },
     "metadata": {},
     "output_type": "display_data"
    }
   ],
   "source": [
    "plt.figure(figsize=(5,3))\n",
    "plt.scatter(x,y)"
   ]
  },
  {
   "cell_type": "markdown",
   "id": "704e6f45-5473-4b72-b107-da87a9f65a26",
   "metadata": {},
   "source": [
    "## Steps in modeling with tensorflow\n",
    "#### 1. Creating a model: Define the input and output layers as well as hidden layers of a deep learning model\n",
    "#### 2. Compiling a model: Define loss function,the optimizer and evaluation metrics.\n",
    "#### 3. Fit a model: Letting the model try to find patterns between x & y"
   ]
  },
  {
   "cell_type": "code",
   "execution_count": 4,
   "id": "34c1dd2c-97ea-4c27-82f7-8f0ea8be3d46",
   "metadata": {},
   "outputs": [
    {
     "data": {
      "text/plain": [
       "(<tf.Tensor: shape=(7, 1), dtype=float32, numpy=\n",
       " array([[-7.],\n",
       "        [-4.],\n",
       "        [-1.],\n",
       "        [ 2.],\n",
       "        [ 5.],\n",
       "        [ 8.],\n",
       "        [11.]], dtype=float32)>,\n",
       " <tf.Tensor: shape=(7, 1), dtype=float32, numpy=\n",
       " array([[ 2.],\n",
       "        [ 5.],\n",
       "        [ 8.],\n",
       "        [11.],\n",
       "        [14.],\n",
       "        [17.],\n",
       "        [20.]], dtype=float32)>)"
      ]
     },
     "execution_count": 4,
     "metadata": {},
     "output_type": "execute_result"
    }
   ],
   "source": [
    "X=tf.constant(x.reshape(-1,1),dtype=tf.float32)\n",
    "Y=tf.constant(y.reshape(-1,1),dtype=tf.float32)\n",
    "X,Y"
   ]
  },
  {
   "cell_type": "code",
   "execution_count": 5,
   "id": "4874e8a1-8b84-496b-a63e-a5f810707302",
   "metadata": {},
   "outputs": [],
   "source": [
    "tf.random.set_seed(42)"
   ]
  },
  {
   "cell_type": "code",
   "execution_count": 6,
   "id": "bb580294-40e0-4074-9717-0feffebe5e34",
   "metadata": {},
   "outputs": [
    {
     "name": "stdout",
     "output_type": "stream",
     "text": [
      "WARNING:tensorflow:From C:\\Users\\ganes\\AppData\\Local\\Programs\\Python\\Python310\\lib\\site-packages\\keras\\src\\backend.py:873: The name tf.get_default_graph is deprecated. Please use tf.compat.v1.get_default_graph instead.\n",
      "\n"
     ]
    },
    {
     "name": "stderr",
     "output_type": "stream",
     "text": [
      "WARNING:absl:`lr` is deprecated in Keras optimizer, please use `learning_rate` or use the legacy optimizer, e.g.,tf.keras.optimizers.legacy.Adam.\n"
     ]
    },
    {
     "name": "stdout",
     "output_type": "stream",
     "text": [
      "Epoch 1/10\n",
      "WARNING:tensorflow:From C:\\Users\\ganes\\AppData\\Local\\Programs\\Python\\Python310\\lib\\site-packages\\keras\\src\\utils\\tf_utils.py:492: The name tf.ragged.RaggedTensorValue is deprecated. Please use tf.compat.v1.ragged.RaggedTensorValue instead.\n",
      "\n"
     ]
    },
    {
     "name": "stderr",
     "output_type": "stream",
     "text": [
      "WARNING:tensorflow:From C:\\Users\\ganes\\AppData\\Local\\Programs\\Python\\Python310\\lib\\site-packages\\keras\\src\\utils\\tf_utils.py:492: The name tf.ragged.RaggedTensorValue is deprecated. Please use tf.compat.v1.ragged.RaggedTensorValue instead.\n",
      "\n"
     ]
    },
    {
     "name": "stdout",
     "output_type": "stream",
     "text": [
      "WARNING:tensorflow:From C:\\Users\\ganes\\AppData\\Local\\Programs\\Python\\Python310\\lib\\site-packages\\keras\\src\\engine\\base_layer_utils.py:384: The name tf.executing_eagerly_outside_functions is deprecated. Please use tf.compat.v1.executing_eagerly_outside_functions instead.\n",
      "\n"
     ]
    },
    {
     "name": "stderr",
     "output_type": "stream",
     "text": [
      "WARNING:tensorflow:From C:\\Users\\ganes\\AppData\\Local\\Programs\\Python\\Python310\\lib\\site-packages\\keras\\src\\engine\\base_layer_utils.py:384: The name tf.executing_eagerly_outside_functions is deprecated. Please use tf.compat.v1.executing_eagerly_outside_functions instead.\n",
      "\n"
     ]
    },
    {
     "name": "stdout",
     "output_type": "stream",
     "text": [
      "1/1 [==============================] - 1s 994ms/step - loss: 8.5082 - mae: 8.5082\n",
      "Epoch 2/10\n",
      "1/1 [==============================] - 0s 14ms/step - loss: 8.5052 - mae: 8.5052\n",
      "Epoch 3/10\n",
      "1/1 [==============================] - 0s 14ms/step - loss: 8.5022 - mae: 8.5022\n",
      "Epoch 4/10\n",
      "1/1 [==============================] - 0s 10ms/step - loss: 8.4992 - mae: 8.4992\n",
      "Epoch 5/10\n",
      "1/1 [==============================] - 0s 8ms/step - loss: 8.4962 - mae: 8.4962\n",
      "Epoch 6/10\n",
      "1/1 [==============================] - 0s 9ms/step - loss: 8.4932 - mae: 8.4932\n",
      "Epoch 7/10\n",
      "1/1 [==============================] - 0s 9ms/step - loss: 8.4902 - mae: 8.4902\n",
      "Epoch 8/10\n",
      "1/1 [==============================] - 0s 8ms/step - loss: 8.4872 - mae: 8.4872\n",
      "Epoch 9/10\n",
      "1/1 [==============================] - 0s 8ms/step - loss: 8.4842 - mae: 8.4842\n",
      "Epoch 10/10\n",
      "1/1 [==============================] - 0s 7ms/step - loss: 8.4812 - mae: 8.4812\n"
     ]
    },
    {
     "data": {
      "text/plain": [
       "<keras.src.callbacks.History at 0x205f54c2b30>"
      ]
     },
     "execution_count": 6,
     "metadata": {},
     "output_type": "execute_result"
    }
   ],
   "source": [
    "# Creating a model\n",
    "model=tf.keras.Sequential([\n",
    "    \n",
    "    tf.keras.layers.Dense(1)\n",
    "])\n",
    "\n",
    "# Compling a model\n",
    "model.compile(loss=tf.keras.losses.mae,optimizer=tf.keras.optimizers.Adam(lr=0.001),metrics=[\"mae\"])\n",
    "\n",
    "#fit a model\n",
    "model.fit(X,Y,epochs=10)"
   ]
  },
  {
   "cell_type": "code",
   "execution_count": 7,
   "id": "6bbadbc8-ca61-4e3a-af28-eacb253d87ab",
   "metadata": {},
   "outputs": [
    {
     "name": "stdout",
     "output_type": "stream",
     "text": [
      "1/1 [==============================] - 0s 194ms/step\n"
     ]
    },
    {
     "data": {
      "text/plain": [
       "array([[20.104233]], dtype=float32)"
      ]
     },
     "execution_count": 7,
     "metadata": {},
     "output_type": "execute_result"
    }
   ],
   "source": [
    "model.predict([16])"
   ]
  },
  {
   "cell_type": "markdown",
   "id": "9339289a-2a24-4c8f-bbe1-bba20b541db3",
   "metadata": {},
   "source": [
    "## Improving Model performance\n",
    "### We can improve our model, by altering our steps to create a model.\n",
    "#### 1. <b>Creating a model:</b> Here we might add more layers and increase the number of hidden units(add more neurons) within each hidden layer, changing each layer's activation function.\n",
    "#### 2. <b>Compiling a model: </b>here we might change the optimization function or perhaps the learning rate of the optimization function.\n",
    "#### 3.<b> Fitting a model:</b> here we might fit our model for more epochs or on more data\n",
    "\n"
   ]
  },
  {
   "cell_type": "markdown",
   "id": "01c1c531-e561-4872-8e21-e620e0867b9d",
   "metadata": {},
   "source": [
    "#### <u><i>Try using increasing a hidden layer with 100 neurons</i></u>"
   ]
  },
  {
   "cell_type": "code",
   "execution_count": 8,
   "id": "f96736e2-8690-4794-9578-60cb980f0dc4",
   "metadata": {},
   "outputs": [
    {
     "name": "stderr",
     "output_type": "stream",
     "text": [
      "WARNING:absl:`lr` is deprecated in Keras optimizer, please use `learning_rate` or use the legacy optimizer, e.g.,tf.keras.optimizers.legacy.Adam.\n"
     ]
    },
    {
     "name": "stdout",
     "output_type": "stream",
     "text": [
      "Epoch 1/10\n",
      "1/1 [==============================] - 1s 791ms/step - loss: 11.8939 - mae: 11.8939\n",
      "Epoch 2/10\n",
      "1/1 [==============================] - 0s 9ms/step - loss: 11.8237 - mae: 11.8237\n",
      "Epoch 3/10\n",
      "1/1 [==============================] - 0s 6ms/step - loss: 11.7536 - mae: 11.7536\n",
      "Epoch 4/10\n",
      "1/1 [==============================] - 0s 7ms/step - loss: 11.6838 - mae: 11.6838\n",
      "Epoch 5/10\n",
      "1/1 [==============================] - 0s 7ms/step - loss: 11.6144 - mae: 11.6144\n",
      "Epoch 6/10\n",
      "1/1 [==============================] - 0s 7ms/step - loss: 11.5454 - mae: 11.5454\n",
      "Epoch 7/10\n",
      "1/1 [==============================] - 0s 8ms/step - loss: 11.4764 - mae: 11.4764\n",
      "Epoch 8/10\n",
      "1/1 [==============================] - 0s 7ms/step - loss: 11.4074 - mae: 11.4074\n",
      "Epoch 9/10\n",
      "1/1 [==============================] - 0s 7ms/step - loss: 11.3385 - mae: 11.3385\n",
      "Epoch 10/10\n",
      "1/1 [==============================] - 0s 9ms/step - loss: 11.2699 - mae: 11.2699\n"
     ]
    },
    {
     "data": {
      "text/plain": [
       "<keras.src.callbacks.History at 0x205f587cfd0>"
      ]
     },
     "execution_count": 8,
     "metadata": {},
     "output_type": "execute_result"
    }
   ],
   "source": [
    "\n",
    "\n",
    "# Creating a model\n",
    "model=tf.keras.Sequential([\n",
    "    tf.keras.layers.Dense(100,activation='relu'),\n",
    "    \n",
    "    \n",
    "    tf.keras.layers.Dense(1)\n",
    "])\n",
    "\n",
    "# Compling a model\n",
    "model.compile(loss=tf.keras.losses.mae,optimizer=tf.keras.optimizers.Adam(lr=0.001),metrics=[\"mae\"])\n",
    "\n",
    "#fit a model\n",
    "model.fit(X,Y,epochs=10)"
   ]
  },
  {
   "cell_type": "code",
   "execution_count": 9,
   "id": "49953c8a-1433-4d65-a143-f47e023174c7",
   "metadata": {},
   "outputs": [
    {
     "name": "stdout",
     "output_type": "stream",
     "text": [
      "1/1 [==============================] - 0s 92ms/step\n"
     ]
    },
    {
     "data": {
      "text/plain": [
       "array([[-2.0793183]], dtype=float32)"
      ]
     },
     "execution_count": 9,
     "metadata": {},
     "output_type": "execute_result"
    }
   ],
   "source": [
    "model.predict([16])"
   ]
  },
  {
   "cell_type": "markdown",
   "id": "26d9e443-16bb-42d2-9f48-d5084a084c85",
   "metadata": {},
   "source": [
    "#### <u><i>Try using increasing two hidden layer with 100 neurons</i></u>"
   ]
  },
  {
   "cell_type": "code",
   "execution_count": 10,
   "id": "05ea119a-c6e7-435e-9e74-09c7a91555ad",
   "metadata": {},
   "outputs": [
    {
     "name": "stderr",
     "output_type": "stream",
     "text": [
      "WARNING:absl:`lr` is deprecated in Keras optimizer, please use `learning_rate` or use the legacy optimizer, e.g.,tf.keras.optimizers.legacy.Adam.\n"
     ]
    },
    {
     "name": "stdout",
     "output_type": "stream",
     "text": [
      "Epoch 1/10\n",
      "1/1 [==============================] - 1s 685ms/step - loss: 10.5668 - mae: 10.5668\n",
      "Epoch 2/10\n",
      "1/1 [==============================] - 0s 9ms/step - loss: 10.3382 - mae: 10.3382\n",
      "Epoch 3/10\n",
      "1/1 [==============================] - 0s 8ms/step - loss: 10.1168 - mae: 10.1168\n",
      "Epoch 4/10\n",
      "1/1 [==============================] - 0s 9ms/step - loss: 9.8959 - mae: 9.8959\n",
      "Epoch 5/10\n",
      "1/1 [==============================] - 0s 9ms/step - loss: 9.6798 - mae: 9.6798\n",
      "Epoch 6/10\n",
      "1/1 [==============================] - 0s 9ms/step - loss: 9.5215 - mae: 9.5215\n",
      "Epoch 7/10\n",
      "1/1 [==============================] - 0s 7ms/step - loss: 9.3985 - mae: 9.3985\n",
      "Epoch 8/10\n",
      "1/1 [==============================] - 0s 9ms/step - loss: 9.2810 - mae: 9.2810\n",
      "Epoch 9/10\n",
      "1/1 [==============================] - 0s 7ms/step - loss: 9.1623 - mae: 9.1623\n",
      "Epoch 10/10\n",
      "1/1 [==============================] - 0s 6ms/step - loss: 9.0427 - mae: 9.0427\n"
     ]
    },
    {
     "data": {
      "text/plain": [
       "<keras.src.callbacks.History at 0x205f597a950>"
      ]
     },
     "execution_count": 10,
     "metadata": {},
     "output_type": "execute_result"
    }
   ],
   "source": [
    "# Creating a model\n",
    "model=tf.keras.Sequential([\n",
    "    tf.keras.layers.Dense(100,activation='relu'),\n",
    "    tf.keras.layers.Dense(100,activation='relu'),\n",
    "    tf.keras.layers.Dense(1)\n",
    "])\n",
    "\n",
    "# Compling a model\n",
    "model.compile(loss=tf.keras.losses.mae,optimizer=tf.keras.optimizers.Adam(lr=0.001),metrics=[\"mae\"])\n",
    "\n",
    "#fit a model\n",
    "model.fit(X,Y,epochs=10)"
   ]
  },
  {
   "cell_type": "code",
   "execution_count": 11,
   "id": "bad91543-1763-4218-a3b3-48ddb5daf9b6",
   "metadata": {},
   "outputs": [
    {
     "name": "stdout",
     "output_type": "stream",
     "text": [
      "1/1 [==============================] - 0s 101ms/step\n"
     ]
    },
    {
     "data": {
      "text/plain": [
       "array([[6.8433332]], dtype=float32)"
      ]
     },
     "execution_count": 11,
     "metadata": {},
     "output_type": "execute_result"
    }
   ],
   "source": [
    "model.predict([16])"
   ]
  },
  {
   "cell_type": "markdown",
   "id": "07e7b996-6768-4e28-8e0c-24d3093a1b32",
   "metadata": {},
   "source": [
    "### From the above experiment we observed a small improvement in our model"
   ]
  },
  {
   "cell_type": "markdown",
   "id": "9fafd2b6-3d2c-406d-acc0-d84552bb0b48",
   "metadata": {},
   "source": [
    "#### <u><i>Try using increasing a number of epochs</i></u>"
   ]
  },
  {
   "cell_type": "code",
   "execution_count": 12,
   "id": "0efc7a0d-3fd3-4945-bb6c-52f997fc2170",
   "metadata": {},
   "outputs": [
    {
     "name": "stderr",
     "output_type": "stream",
     "text": [
      "WARNING:absl:`lr` is deprecated in Keras optimizer, please use `learning_rate` or use the legacy optimizer, e.g.,tf.keras.optimizers.legacy.Adam.\n"
     ]
    },
    {
     "name": "stdout",
     "output_type": "stream",
     "text": [
      "Epoch 1/100\n",
      "1/1 [==============================] - 0s 418ms/step - loss: 16.5083 - mae: 16.5083\n",
      "Epoch 2/100\n",
      "1/1 [==============================] - 0s 13ms/step - loss: 16.5027 - mae: 16.5027\n",
      "Epoch 3/100\n",
      "1/1 [==============================] - 0s 12ms/step - loss: 16.4972 - mae: 16.4972\n",
      "Epoch 4/100\n",
      "1/1 [==============================] - 0s 10ms/step - loss: 16.4916 - mae: 16.4916\n",
      "Epoch 5/100\n",
      "1/1 [==============================] - 0s 8ms/step - loss: 16.4860 - mae: 16.4860\n",
      "Epoch 6/100\n",
      "1/1 [==============================] - 0s 9ms/step - loss: 16.4804 - mae: 16.4804\n",
      "Epoch 7/100\n",
      "1/1 [==============================] - 0s 8ms/step - loss: 16.4749 - mae: 16.4749\n",
      "Epoch 8/100\n",
      "1/1 [==============================] - 0s 6ms/step - loss: 16.4693 - mae: 16.4693\n",
      "Epoch 9/100\n",
      "1/1 [==============================] - 0s 5ms/step - loss: 16.4637 - mae: 16.4637\n",
      "Epoch 10/100\n",
      "1/1 [==============================] - 0s 7ms/step - loss: 16.4582 - mae: 16.4582\n",
      "Epoch 11/100\n",
      "1/1 [==============================] - 0s 13ms/step - loss: 16.4526 - mae: 16.4526\n",
      "Epoch 12/100\n",
      "1/1 [==============================] - 0s 7ms/step - loss: 16.4470 - mae: 16.4470\n",
      "Epoch 13/100\n",
      "1/1 [==============================] - 0s 10ms/step - loss: 16.4414 - mae: 16.4414\n",
      "Epoch 14/100\n",
      "1/1 [==============================] - 0s 9ms/step - loss: 16.4359 - mae: 16.4359\n",
      "Epoch 15/100\n",
      "1/1 [==============================] - 0s 7ms/step - loss: 16.4303 - mae: 16.4303\n",
      "Epoch 16/100\n",
      "1/1 [==============================] - 0s 9ms/step - loss: 16.4247 - mae: 16.4247\n",
      "Epoch 17/100\n",
      "1/1 [==============================] - 0s 9ms/step - loss: 16.4192 - mae: 16.4192\n",
      "Epoch 18/100\n",
      "1/1 [==============================] - 0s 7ms/step - loss: 16.4136 - mae: 16.4136\n",
      "Epoch 19/100\n",
      "1/1 [==============================] - 0s 6ms/step - loss: 16.4080 - mae: 16.4080\n",
      "Epoch 20/100\n",
      "1/1 [==============================] - 0s 7ms/step - loss: 16.4024 - mae: 16.4024\n",
      "Epoch 21/100\n",
      "1/1 [==============================] - 0s 6ms/step - loss: 16.3969 - mae: 16.3969\n",
      "Epoch 22/100\n",
      "1/1 [==============================] - 0s 9ms/step - loss: 16.3913 - mae: 16.3913\n",
      "Epoch 23/100\n",
      "1/1 [==============================] - 0s 7ms/step - loss: 16.3857 - mae: 16.3857\n",
      "Epoch 24/100\n",
      "1/1 [==============================] - 0s 10ms/step - loss: 16.3802 - mae: 16.3802\n",
      "Epoch 25/100\n",
      "1/1 [==============================] - 0s 9ms/step - loss: 16.3746 - mae: 16.3746\n",
      "Epoch 26/100\n",
      "1/1 [==============================] - 0s 9ms/step - loss: 16.3690 - mae: 16.3690\n",
      "Epoch 27/100\n",
      "1/1 [==============================] - 0s 10ms/step - loss: 16.3634 - mae: 16.3634\n",
      "Epoch 28/100\n",
      "1/1 [==============================] - 0s 9ms/step - loss: 16.3579 - mae: 16.3579\n",
      "Epoch 29/100\n",
      "1/1 [==============================] - 0s 6ms/step - loss: 16.3523 - mae: 16.3523\n",
      "Epoch 30/100\n",
      "1/1 [==============================] - 0s 7ms/step - loss: 16.3467 - mae: 16.3467\n",
      "Epoch 31/100\n",
      "1/1 [==============================] - 0s 7ms/step - loss: 16.3412 - mae: 16.3412\n",
      "Epoch 32/100\n",
      "1/1 [==============================] - 0s 8ms/step - loss: 16.3356 - mae: 16.3356\n",
      "Epoch 33/100\n",
      "1/1 [==============================] - 0s 7ms/step - loss: 16.3300 - mae: 16.3300\n",
      "Epoch 34/100\n",
      "1/1 [==============================] - 0s 7ms/step - loss: 16.3244 - mae: 16.3244\n",
      "Epoch 35/100\n",
      "1/1 [==============================] - 0s 8ms/step - loss: 16.3189 - mae: 16.3189\n",
      "Epoch 36/100\n",
      "1/1 [==============================] - 0s 6ms/step - loss: 16.3133 - mae: 16.3133\n",
      "Epoch 37/100\n",
      "1/1 [==============================] - 0s 8ms/step - loss: 16.3077 - mae: 16.3077\n",
      "Epoch 38/100\n",
      "1/1 [==============================] - 0s 6ms/step - loss: 16.3021 - mae: 16.3021\n",
      "Epoch 39/100\n",
      "1/1 [==============================] - 0s 6ms/step - loss: 16.2966 - mae: 16.2966\n",
      "Epoch 40/100\n",
      "1/1 [==============================] - 0s 7ms/step - loss: 16.2910 - mae: 16.2910\n",
      "Epoch 41/100\n",
      "1/1 [==============================] - 0s 8ms/step - loss: 16.2854 - mae: 16.2854\n",
      "Epoch 42/100\n",
      "1/1 [==============================] - 0s 7ms/step - loss: 16.2799 - mae: 16.2799\n",
      "Epoch 43/100\n",
      "1/1 [==============================] - 0s 8ms/step - loss: 16.2743 - mae: 16.2743\n",
      "Epoch 44/100\n",
      "1/1 [==============================] - 0s 7ms/step - loss: 16.2687 - mae: 16.2687\n",
      "Epoch 45/100\n",
      "1/1 [==============================] - 0s 7ms/step - loss: 16.2631 - mae: 16.2631\n",
      "Epoch 46/100\n",
      "1/1 [==============================] - 0s 7ms/step - loss: 16.2576 - mae: 16.2576\n",
      "Epoch 47/100\n",
      "1/1 [==============================] - 0s 8ms/step - loss: 16.2520 - mae: 16.2520\n",
      "Epoch 48/100\n",
      "1/1 [==============================] - 0s 10ms/step - loss: 16.2464 - mae: 16.2464\n",
      "Epoch 49/100\n",
      "1/1 [==============================] - 0s 8ms/step - loss: 16.2409 - mae: 16.2409\n",
      "Epoch 50/100\n",
      "1/1 [==============================] - 0s 10ms/step - loss: 16.2353 - mae: 16.2353\n",
      "Epoch 51/100\n",
      "1/1 [==============================] - 0s 8ms/step - loss: 16.2297 - mae: 16.2297\n",
      "Epoch 52/100\n",
      "1/1 [==============================] - 0s 8ms/step - loss: 16.2241 - mae: 16.2241\n",
      "Epoch 53/100\n",
      "1/1 [==============================] - 0s 7ms/step - loss: 16.2186 - mae: 16.2186\n",
      "Epoch 54/100\n",
      "1/1 [==============================] - 0s 8ms/step - loss: 16.2130 - mae: 16.2130\n",
      "Epoch 55/100\n",
      "1/1 [==============================] - 0s 8ms/step - loss: 16.2074 - mae: 16.2074\n",
      "Epoch 56/100\n",
      "1/1 [==============================] - 0s 8ms/step - loss: 16.2019 - mae: 16.2019\n",
      "Epoch 57/100\n",
      "1/1 [==============================] - 0s 6ms/step - loss: 16.1963 - mae: 16.1963\n",
      "Epoch 58/100\n",
      "1/1 [==============================] - 0s 7ms/step - loss: 16.1907 - mae: 16.1907\n",
      "Epoch 59/100\n",
      "1/1 [==============================] - 0s 25ms/step - loss: 16.1851 - mae: 16.1851\n",
      "Epoch 60/100\n",
      "1/1 [==============================] - 0s 11ms/step - loss: 16.1796 - mae: 16.1796\n",
      "Epoch 61/100\n",
      "1/1 [==============================] - 0s 9ms/step - loss: 16.1740 - mae: 16.1740\n",
      "Epoch 62/100\n",
      "1/1 [==============================] - 0s 7ms/step - loss: 16.1684 - mae: 16.1684\n",
      "Epoch 63/100\n",
      "1/1 [==============================] - 0s 6ms/step - loss: 16.1629 - mae: 16.1629\n",
      "Epoch 64/100\n",
      "1/1 [==============================] - 0s 6ms/step - loss: 16.1573 - mae: 16.1573\n",
      "Epoch 65/100\n",
      "1/1 [==============================] - 0s 7ms/step - loss: 16.1517 - mae: 16.1517\n",
      "Epoch 66/100\n",
      "1/1 [==============================] - 0s 9ms/step - loss: 16.1461 - mae: 16.1461\n",
      "Epoch 67/100\n",
      "1/1 [==============================] - 0s 11ms/step - loss: 16.1406 - mae: 16.1406\n",
      "Epoch 68/100\n",
      "1/1 [==============================] - 0s 9ms/step - loss: 16.1350 - mae: 16.1350\n",
      "Epoch 69/100\n",
      "1/1 [==============================] - 0s 9ms/step - loss: 16.1294 - mae: 16.1294\n",
      "Epoch 70/100\n",
      "1/1 [==============================] - 0s 10ms/step - loss: 16.1239 - mae: 16.1239\n",
      "Epoch 71/100\n",
      "1/1 [==============================] - 0s 10ms/step - loss: 16.1183 - mae: 16.1183\n",
      "Epoch 72/100\n",
      "1/1 [==============================] - 0s 11ms/step - loss: 16.1127 - mae: 16.1127\n",
      "Epoch 73/100\n",
      "1/1 [==============================] - 0s 10ms/step - loss: 16.1071 - mae: 16.1071\n",
      "Epoch 74/100\n",
      "1/1 [==============================] - 0s 10ms/step - loss: 16.1016 - mae: 16.1016\n",
      "Epoch 75/100\n",
      "1/1 [==============================] - 0s 7ms/step - loss: 16.0960 - mae: 16.0960\n",
      "Epoch 76/100\n",
      "1/1 [==============================] - 0s 6ms/step - loss: 16.0904 - mae: 16.0904\n",
      "Epoch 77/100\n",
      "1/1 [==============================] - 0s 8ms/step - loss: 16.0849 - mae: 16.0849\n",
      "Epoch 78/100\n",
      "1/1 [==============================] - 0s 9ms/step - loss: 16.0793 - mae: 16.0793\n",
      "Epoch 79/100\n",
      "1/1 [==============================] - 0s 11ms/step - loss: 16.0737 - mae: 16.0737\n",
      "Epoch 80/100\n",
      "1/1 [==============================] - 0s 9ms/step - loss: 16.0681 - mae: 16.0681\n",
      "Epoch 81/100\n",
      "1/1 [==============================] - 0s 8ms/step - loss: 16.0626 - mae: 16.0626\n",
      "Epoch 82/100\n",
      "1/1 [==============================] - 0s 8ms/step - loss: 16.0570 - mae: 16.0570\n",
      "Epoch 83/100\n",
      "1/1 [==============================] - 0s 8ms/step - loss: 16.0514 - mae: 16.0514\n",
      "Epoch 84/100\n",
      "1/1 [==============================] - 0s 7ms/step - loss: 16.0459 - mae: 16.0459\n",
      "Epoch 85/100\n",
      "1/1 [==============================] - 0s 8ms/step - loss: 16.0403 - mae: 16.0403\n",
      "Epoch 86/100\n",
      "1/1 [==============================] - 0s 8ms/step - loss: 16.0347 - mae: 16.0347\n",
      "Epoch 87/100\n",
      "1/1 [==============================] - 0s 9ms/step - loss: 16.0291 - mae: 16.0291\n",
      "Epoch 88/100\n",
      "1/1 [==============================] - 0s 10ms/step - loss: 16.0236 - mae: 16.0236\n",
      "Epoch 89/100\n",
      "1/1 [==============================] - 0s 8ms/step - loss: 16.0180 - mae: 16.0180\n",
      "Epoch 90/100\n",
      "1/1 [==============================] - 0s 9ms/step - loss: 16.0124 - mae: 16.0124\n",
      "Epoch 91/100\n",
      "1/1 [==============================] - 0s 7ms/step - loss: 16.0068 - mae: 16.0068\n",
      "Epoch 92/100\n",
      "1/1 [==============================] - 0s 7ms/step - loss: 16.0013 - mae: 16.0013\n",
      "Epoch 93/100\n",
      "1/1 [==============================] - 0s 9ms/step - loss: 15.9957 - mae: 15.9957\n",
      "Epoch 94/100\n",
      "1/1 [==============================] - 0s 9ms/step - loss: 15.9901 - mae: 15.9901\n",
      "Epoch 95/100\n",
      "1/1 [==============================] - 0s 8ms/step - loss: 15.9846 - mae: 15.9846\n",
      "Epoch 96/100\n",
      "1/1 [==============================] - 0s 7ms/step - loss: 15.9790 - mae: 15.9790\n",
      "Epoch 97/100\n",
      "1/1 [==============================] - 0s 9ms/step - loss: 15.9734 - mae: 15.9734\n",
      "Epoch 98/100\n",
      "1/1 [==============================] - 0s 9ms/step - loss: 15.9678 - mae: 15.9678\n",
      "Epoch 99/100\n",
      "1/1 [==============================] - 0s 7ms/step - loss: 15.9623 - mae: 15.9623\n",
      "Epoch 100/100\n",
      "1/1 [==============================] - 0s 6ms/step - loss: 15.9567 - mae: 15.9567\n",
      "1/1 [==============================] - 0s 73ms/step\n"
     ]
    },
    {
     "data": {
      "text/plain": [
       "array([[-21.659084]], dtype=float32)"
      ]
     },
     "execution_count": 12,
     "metadata": {},
     "output_type": "execute_result"
    }
   ],
   "source": [
    "# Creating a model\n",
    "model=tf.keras.Sequential([\n",
    "    \n",
    "    tf.keras.layers.Dense(1)\n",
    "])\n",
    "\n",
    "# Compling a model\n",
    "model.compile(loss=tf.keras.losses.mae,optimizer=tf.keras.optimizers.Adam(lr=0.001),metrics=[\"mae\"])\n",
    "\n",
    "#fit a model\n",
    "model.fit(X,Y,epochs=100)\n",
    "\n",
    "model.predict([16])"
   ]
  },
  {
   "cell_type": "markdown",
   "id": "fb747233-b2a0-41f7-9998-581fc45f241a",
   "metadata": {},
   "source": [
    "#### <u><i>Try using changing the optimizer and changing learning rate</i></u>"
   ]
  },
  {
   "cell_type": "code",
   "execution_count": 13,
   "id": "f293e2e7-34dd-4c99-b3fb-0d5d2f2a4b7d",
   "metadata": {},
   "outputs": [
    {
     "name": "stderr",
     "output_type": "stream",
     "text": [
      "WARNING:absl:`lr` is deprecated in Keras optimizer, please use `learning_rate` or use the legacy optimizer, e.g.,tf.keras.optimizers.legacy.Adam.\n"
     ]
    },
    {
     "name": "stdout",
     "output_type": "stream",
     "text": [
      "Epoch 1/10\n",
      "1/1 [==============================] - 0s 400ms/step - loss: 11.2704 - mae: 11.2704\n",
      "Epoch 2/10\n",
      "1/1 [==============================] - 0s 11ms/step - loss: 11.2674 - mae: 11.2674\n",
      "Epoch 3/10\n",
      "1/1 [==============================] - 0s 11ms/step - loss: 11.2644 - mae: 11.2644\n",
      "Epoch 4/10\n",
      "1/1 [==============================] - 0s 10ms/step - loss: 11.2614 - mae: 11.2614\n",
      "Epoch 5/10\n",
      "1/1 [==============================] - 0s 11ms/step - loss: 11.2584 - mae: 11.2584\n",
      "Epoch 6/10\n",
      "1/1 [==============================] - 0s 12ms/step - loss: 11.2554 - mae: 11.2554\n",
      "Epoch 7/10\n",
      "1/1 [==============================] - 0s 12ms/step - loss: 11.2524 - mae: 11.2524\n",
      "Epoch 8/10\n",
      "1/1 [==============================] - 0s 10ms/step - loss: 11.2494 - mae: 11.2494\n",
      "Epoch 9/10\n",
      "1/1 [==============================] - 0s 9ms/step - loss: 11.2464 - mae: 11.2464\n",
      "Epoch 10/10\n",
      "1/1 [==============================] - 0s 8ms/step - loss: 11.2434 - mae: 11.2434\n"
     ]
    },
    {
     "data": {
      "text/plain": [
       "<keras.src.callbacks.History at 0x205f9311c60>"
      ]
     },
     "execution_count": 13,
     "metadata": {},
     "output_type": "execute_result"
    }
   ],
   "source": [
    "# Creating a model\n",
    "model=tf.keras.Sequential([\n",
    "    \n",
    "    tf.keras.layers.Dense(1)\n",
    "])\n",
    "\n",
    "# Compling a model\n",
    "model.compile(loss=tf.keras.losses.mae,optimizer=tf.keras.optimizers.Adam(lr=0.01),metrics=[\"mae\"])\n",
    "\n",
    "#fit a model\n",
    "model.fit(X,Y,epochs=10)"
   ]
  },
  {
   "cell_type": "markdown",
   "id": "4b79bdd6-10bd-4e91-be6a-edf5f4d309d5",
   "metadata": {},
   "source": [
    "#### <u><i>Try using increasing a hidden layer with 100 neurons , changing learning  rate and increasing epochs</i></u>"
   ]
  },
  {
   "cell_type": "code",
   "execution_count": 14,
   "id": "4b1797ec-6972-41ec-9e56-6dfde94db34b",
   "metadata": {},
   "outputs": [
    {
     "name": "stderr",
     "output_type": "stream",
     "text": [
      "WARNING:absl:`lr` is deprecated in Keras optimizer, please use `learning_rate` or use the legacy optimizer, e.g.,tf.keras.optimizers.legacy.Adam.\n"
     ]
    },
    {
     "name": "stdout",
     "output_type": "stream",
     "text": [
      "Epoch 1/200\n",
      "1/1 [==============================] - 1s 755ms/step - loss: 11.4778 - mae: 11.4778\n",
      "Epoch 2/200\n",
      "1/1 [==============================] - 0s 17ms/step - loss: 11.1623 - mae: 11.1623\n",
      "Epoch 3/200\n",
      "1/1 [==============================] - 0s 12ms/step - loss: 10.8496 - mae: 10.8496\n",
      "Epoch 4/200\n",
      "1/1 [==============================] - 0s 15ms/step - loss: 10.5360 - mae: 10.5360\n",
      "Epoch 5/200\n",
      "1/1 [==============================] - 0s 13ms/step - loss: 10.2262 - mae: 10.2262\n",
      "Epoch 6/200\n",
      "1/1 [==============================] - 0s 9ms/step - loss: 9.9163 - mae: 9.9163\n",
      "Epoch 7/200\n",
      "1/1 [==============================] - 0s 9ms/step - loss: 9.6087 - mae: 9.6087\n",
      "Epoch 8/200\n",
      "1/1 [==============================] - 0s 11ms/step - loss: 9.3043 - mae: 9.3043\n",
      "Epoch 9/200\n",
      "1/1 [==============================] - 0s 7ms/step - loss: 9.0190 - mae: 9.0190\n",
      "Epoch 10/200\n",
      "1/1 [==============================] - 0s 15ms/step - loss: 8.7909 - mae: 8.7909\n",
      "Epoch 11/200\n",
      "1/1 [==============================] - 0s 7ms/step - loss: 8.5698 - mae: 8.5698\n",
      "Epoch 12/200\n",
      "1/1 [==============================] - 0s 12ms/step - loss: 8.3511 - mae: 8.3511\n",
      "Epoch 13/200\n",
      "1/1 [==============================] - 0s 8ms/step - loss: 8.1376 - mae: 8.1376\n",
      "Epoch 14/200\n",
      "1/1 [==============================] - 0s 10ms/step - loss: 7.9353 - mae: 7.9353\n",
      "Epoch 15/200\n",
      "1/1 [==============================] - 0s 10ms/step - loss: 7.7355 - mae: 7.7355\n",
      "Epoch 16/200\n",
      "1/1 [==============================] - 0s 7ms/step - loss: 7.5338 - mae: 7.5338\n",
      "Epoch 17/200\n",
      "1/1 [==============================] - 0s 12ms/step - loss: 7.3286 - mae: 7.3286\n",
      "Epoch 18/200\n",
      "1/1 [==============================] - 0s 7ms/step - loss: 7.1230 - mae: 7.1230\n",
      "Epoch 19/200\n",
      "1/1 [==============================] - 0s 6ms/step - loss: 6.9191 - mae: 6.9191\n",
      "Epoch 20/200\n",
      "1/1 [==============================] - 0s 11ms/step - loss: 6.7109 - mae: 6.7109\n",
      "Epoch 21/200\n",
      "1/1 [==============================] - 0s 7ms/step - loss: 6.5005 - mae: 6.5005\n",
      "Epoch 22/200\n",
      "1/1 [==============================] - 0s 7ms/step - loss: 6.2908 - mae: 6.2908\n",
      "Epoch 23/200\n",
      "1/1 [==============================] - 0s 8ms/step - loss: 6.0788 - mae: 6.0788\n",
      "Epoch 24/200\n",
      "1/1 [==============================] - 0s 11ms/step - loss: 5.8611 - mae: 5.8611\n",
      "Epoch 25/200\n",
      "1/1 [==============================] - 0s 9ms/step - loss: 5.6373 - mae: 5.6373\n",
      "Epoch 26/200\n",
      "1/1 [==============================] - 0s 12ms/step - loss: 5.4074 - mae: 5.4074\n",
      "Epoch 27/200\n",
      "1/1 [==============================] - 0s 6ms/step - loss: 5.1716 - mae: 5.1716\n",
      "Epoch 28/200\n",
      "1/1 [==============================] - 0s 10ms/step - loss: 4.9297 - mae: 4.9297\n",
      "Epoch 29/200\n",
      "1/1 [==============================] - 0s 12ms/step - loss: 4.6833 - mae: 4.6833\n",
      "Epoch 30/200\n",
      "1/1 [==============================] - 0s 7ms/step - loss: 4.4309 - mae: 4.4309\n",
      "Epoch 31/200\n",
      "1/1 [==============================] - 0s 11ms/step - loss: 4.1691 - mae: 4.1691\n",
      "Epoch 32/200\n",
      "1/1 [==============================] - 0s 10ms/step - loss: 3.8987 - mae: 3.8987\n",
      "Epoch 33/200\n",
      "1/1 [==============================] - 0s 9ms/step - loss: 3.6421 - mae: 3.6421\n",
      "Epoch 34/200\n",
      "1/1 [==============================] - 0s 15ms/step - loss: 3.5927 - mae: 3.5927\n",
      "Epoch 35/200\n",
      "1/1 [==============================] - 0s 7ms/step - loss: 3.5452 - mae: 3.5452\n",
      "Epoch 36/200\n",
      "1/1 [==============================] - 0s 8ms/step - loss: 3.4993 - mae: 3.4993\n",
      "Epoch 37/200\n",
      "1/1 [==============================] - 0s 9ms/step - loss: 3.4547 - mae: 3.4547\n",
      "Epoch 38/200\n",
      "1/1 [==============================] - 0s 11ms/step - loss: 3.4919 - mae: 3.4919\n",
      "Epoch 39/200\n",
      "1/1 [==============================] - 0s 6ms/step - loss: 3.5643 - mae: 3.5643\n",
      "Epoch 40/200\n",
      "1/1 [==============================] - 0s 7ms/step - loss: 3.6198 - mae: 3.6198\n",
      "Epoch 41/200\n",
      "1/1 [==============================] - 0s 8ms/step - loss: 3.6608 - mae: 3.6608\n",
      "Epoch 42/200\n",
      "1/1 [==============================] - 0s 9ms/step - loss: 3.6876 - mae: 3.6876\n",
      "Epoch 43/200\n",
      "1/1 [==============================] - 0s 10ms/step - loss: 3.7014 - mae: 3.7014\n",
      "Epoch 44/200\n",
      "1/1 [==============================] - 0s 11ms/step - loss: 3.7040 - mae: 3.7040\n",
      "Epoch 45/200\n",
      "1/1 [==============================] - 0s 10ms/step - loss: 3.6954 - mae: 3.6954\n",
      "Epoch 46/200\n",
      "1/1 [==============================] - 0s 13ms/step - loss: 3.6774 - mae: 3.6774\n",
      "Epoch 47/200\n",
      "1/1 [==============================] - 0s 6ms/step - loss: 3.6512 - mae: 3.6512\n",
      "Epoch 48/200\n",
      "1/1 [==============================] - 0s 8ms/step - loss: 3.6174 - mae: 3.6174\n",
      "Epoch 49/200\n",
      "1/1 [==============================] - 0s 12ms/step - loss: 3.5768 - mae: 3.5768\n",
      "Epoch 50/200\n",
      "1/1 [==============================] - 0s 7ms/step - loss: 3.5305 - mae: 3.5305\n",
      "Epoch 51/200\n",
      "1/1 [==============================] - 0s 10ms/step - loss: 3.4826 - mae: 3.4826\n",
      "Epoch 52/200\n",
      "1/1 [==============================] - 0s 7ms/step - loss: 3.4322 - mae: 3.4322\n",
      "Epoch 53/200\n",
      "1/1 [==============================] - 0s 8ms/step - loss: 3.3782 - mae: 3.3782\n",
      "Epoch 54/200\n",
      "1/1 [==============================] - 0s 9ms/step - loss: 3.3484 - mae: 3.3484\n",
      "Epoch 55/200\n",
      "1/1 [==============================] - 0s 8ms/step - loss: 3.3631 - mae: 3.3631\n",
      "Epoch 56/200\n",
      "1/1 [==============================] - 0s 8ms/step - loss: 3.3738 - mae: 3.3738\n",
      "Epoch 57/200\n",
      "1/1 [==============================] - 0s 9ms/step - loss: 3.3812 - mae: 3.3812\n",
      "Epoch 58/200\n",
      "1/1 [==============================] - 0s 9ms/step - loss: 3.3855 - mae: 3.3855\n",
      "Epoch 59/200\n",
      "1/1 [==============================] - 0s 15ms/step - loss: 3.3870 - mae: 3.3870\n",
      "Epoch 60/200\n",
      "1/1 [==============================] - 0s 7ms/step - loss: 3.3859 - mae: 3.3859\n",
      "Epoch 61/200\n",
      "1/1 [==============================] - 0s 12ms/step - loss: 3.3822 - mae: 3.3822\n",
      "Epoch 62/200\n",
      "1/1 [==============================] - 0s 8ms/step - loss: 3.3772 - mae: 3.3772\n",
      "Epoch 63/200\n",
      "1/1 [==============================] - 0s 7ms/step - loss: 3.3718 - mae: 3.3718\n",
      "Epoch 64/200\n",
      "1/1 [==============================] - 0s 9ms/step - loss: 3.3644 - mae: 3.3644\n",
      "Epoch 65/200\n",
      "1/1 [==============================] - 0s 8ms/step - loss: 3.3568 - mae: 3.3568\n",
      "Epoch 66/200\n",
      "1/1 [==============================] - 0s 9ms/step - loss: 3.3474 - mae: 3.3474\n",
      "Epoch 67/200\n",
      "1/1 [==============================] - 0s 11ms/step - loss: 3.3363 - mae: 3.3363\n",
      "Epoch 68/200\n",
      "1/1 [==============================] - 0s 10ms/step - loss: 3.3232 - mae: 3.3232\n",
      "Epoch 69/200\n",
      "1/1 [==============================] - 0s 8ms/step - loss: 3.3090 - mae: 3.3090\n",
      "Epoch 70/200\n",
      "1/1 [==============================] - 0s 10ms/step - loss: 3.2931 - mae: 3.2931\n",
      "Epoch 71/200\n",
      "1/1 [==============================] - 0s 7ms/step - loss: 3.2819 - mae: 3.2819\n",
      "Epoch 72/200\n",
      "1/1 [==============================] - 0s 9ms/step - loss: 3.2607 - mae: 3.2607\n",
      "Epoch 73/200\n",
      "1/1 [==============================] - 0s 7ms/step - loss: 3.2436 - mae: 3.2436\n",
      "Epoch 74/200\n",
      "1/1 [==============================] - 0s 8ms/step - loss: 3.2251 - mae: 3.2251\n",
      "Epoch 75/200\n",
      "1/1 [==============================] - 0s 10ms/step - loss: 3.2420 - mae: 3.2420\n",
      "Epoch 76/200\n",
      "1/1 [==============================] - 0s 11ms/step - loss: 3.2526 - mae: 3.2526\n",
      "Epoch 77/200\n",
      "1/1 [==============================] - 0s 10ms/step - loss: 3.2510 - mae: 3.2510\n",
      "Epoch 78/200\n",
      "1/1 [==============================] - 0s 10ms/step - loss: 3.2381 - mae: 3.2381\n",
      "Epoch 79/200\n",
      "1/1 [==============================] - 0s 9ms/step - loss: 3.2156 - mae: 3.2156\n",
      "Epoch 80/200\n",
      "1/1 [==============================] - 0s 7ms/step - loss: 3.1911 - mae: 3.1911\n",
      "Epoch 81/200\n",
      "1/1 [==============================] - 0s 8ms/step - loss: 3.1841 - mae: 3.1841\n",
      "Epoch 82/200\n",
      "1/1 [==============================] - 0s 8ms/step - loss: 3.1875 - mae: 3.1875\n",
      "Epoch 83/200\n",
      "1/1 [==============================] - 0s 6ms/step - loss: 3.1873 - mae: 3.1873\n",
      "Epoch 84/200\n",
      "1/1 [==============================] - 0s 9ms/step - loss: 3.1811 - mae: 3.1811\n",
      "Epoch 85/200\n",
      "1/1 [==============================] - 0s 8ms/step - loss: 3.1733 - mae: 3.1733\n",
      "Epoch 86/200\n",
      "1/1 [==============================] - 0s 8ms/step - loss: 3.1623 - mae: 3.1623\n",
      "Epoch 87/200\n",
      "1/1 [==============================] - 0s 7ms/step - loss: 3.1477 - mae: 3.1477\n",
      "Epoch 88/200\n",
      "1/1 [==============================] - 0s 10ms/step - loss: 3.1291 - mae: 3.1291\n",
      "Epoch 89/200\n",
      "1/1 [==============================] - 0s 7ms/step - loss: 3.1177 - mae: 3.1177\n",
      "Epoch 90/200\n",
      "1/1 [==============================] - 0s 8ms/step - loss: 3.1029 - mae: 3.1029\n",
      "Epoch 91/200\n",
      "1/1 [==============================] - 0s 10ms/step - loss: 3.1022 - mae: 3.1022\n",
      "Epoch 92/200\n",
      "1/1 [==============================] - 0s 7ms/step - loss: 3.0836 - mae: 3.0836\n",
      "Epoch 93/200\n",
      "1/1 [==============================] - 0s 8ms/step - loss: 3.0724 - mae: 3.0724\n",
      "Epoch 94/200\n",
      "1/1 [==============================] - 0s 7ms/step - loss: 3.0690 - mae: 3.0690\n",
      "Epoch 95/200\n",
      "1/1 [==============================] - 0s 6ms/step - loss: 3.0613 - mae: 3.0613\n",
      "Epoch 96/200\n",
      "1/1 [==============================] - 0s 8ms/step - loss: 3.0493 - mae: 3.0493\n",
      "Epoch 97/200\n",
      "1/1 [==============================] - 0s 9ms/step - loss: 3.0386 - mae: 3.0386\n",
      "Epoch 98/200\n",
      "1/1 [==============================] - 0s 7ms/step - loss: 3.0177 - mae: 3.0177\n",
      "Epoch 99/200\n",
      "1/1 [==============================] - 0s 9ms/step - loss: 3.0115 - mae: 3.0115\n",
      "Epoch 100/200\n",
      "1/1 [==============================] - 0s 8ms/step - loss: 3.0026 - mae: 3.0026\n",
      "Epoch 101/200\n",
      "1/1 [==============================] - 0s 16ms/step - loss: 2.9812 - mae: 2.9812\n",
      "Epoch 102/200\n",
      "1/1 [==============================] - 0s 9ms/step - loss: 2.9706 - mae: 2.9706\n",
      "Epoch 103/200\n",
      "1/1 [==============================] - 0s 8ms/step - loss: 2.9548 - mae: 2.9548\n",
      "Epoch 104/200\n",
      "1/1 [==============================] - 0s 8ms/step - loss: 2.9551 - mae: 2.9551\n",
      "Epoch 105/200\n",
      "1/1 [==============================] - 0s 8ms/step - loss: 2.9351 - mae: 2.9351\n",
      "Epoch 106/200\n",
      "1/1 [==============================] - 0s 6ms/step - loss: 2.9191 - mae: 2.9191\n",
      "Epoch 107/200\n",
      "1/1 [==============================] - 0s 7ms/step - loss: 2.9215 - mae: 2.9215\n",
      "Epoch 108/200\n",
      "1/1 [==============================] - 0s 10ms/step - loss: 2.8887 - mae: 2.8887\n",
      "Epoch 109/200\n",
      "1/1 [==============================] - 0s 7ms/step - loss: 2.8672 - mae: 2.8672\n",
      "Epoch 110/200\n",
      "1/1 [==============================] - 0s 9ms/step - loss: 2.8583 - mae: 2.8583\n",
      "Epoch 111/200\n",
      "1/1 [==============================] - 0s 9ms/step - loss: 2.8438 - mae: 2.8438\n",
      "Epoch 112/200\n",
      "1/1 [==============================] - 0s 8ms/step - loss: 2.8229 - mae: 2.8229\n",
      "Epoch 113/200\n",
      "1/1 [==============================] - 0s 9ms/step - loss: 2.8100 - mae: 2.8100\n",
      "Epoch 114/200\n",
      "1/1 [==============================] - 0s 7ms/step - loss: 2.7918 - mae: 2.7918\n",
      "Epoch 115/200\n",
      "1/1 [==============================] - 0s 8ms/step - loss: 2.7762 - mae: 2.7762\n",
      "Epoch 116/200\n",
      "1/1 [==============================] - 0s 9ms/step - loss: 2.7751 - mae: 2.7751\n",
      "Epoch 117/200\n",
      "1/1 [==============================] - 0s 9ms/step - loss: 2.7602 - mae: 2.7602\n",
      "Epoch 118/200\n",
      "1/1 [==============================] - 0s 8ms/step - loss: 2.7353 - mae: 2.7353\n",
      "Epoch 119/200\n",
      "1/1 [==============================] - 0s 9ms/step - loss: 2.7244 - mae: 2.7244\n",
      "Epoch 120/200\n",
      "1/1 [==============================] - 0s 11ms/step - loss: 2.7074 - mae: 2.7074\n",
      "Epoch 121/200\n",
      "1/1 [==============================] - 0s 10ms/step - loss: 2.6850 - mae: 2.6850\n",
      "Epoch 122/200\n",
      "1/1 [==============================] - 0s 8ms/step - loss: 2.6810 - mae: 2.6810\n",
      "Epoch 123/200\n",
      "1/1 [==============================] - 0s 10ms/step - loss: 2.6611 - mae: 2.6611\n",
      "Epoch 124/200\n",
      "1/1 [==============================] - 0s 10ms/step - loss: 2.6276 - mae: 2.6276\n",
      "Epoch 125/200\n",
      "1/1 [==============================] - 0s 11ms/step - loss: 2.6170 - mae: 2.6170\n",
      "Epoch 126/200\n",
      "1/1 [==============================] - 0s 9ms/step - loss: 2.5890 - mae: 2.5890\n",
      "Epoch 127/200\n",
      "1/1 [==============================] - 0s 9ms/step - loss: 2.5729 - mae: 2.5729\n",
      "Epoch 128/200\n",
      "1/1 [==============================] - 0s 8ms/step - loss: 2.5480 - mae: 2.5480\n",
      "Epoch 129/200\n",
      "1/1 [==============================] - 0s 9ms/step - loss: 2.5395 - mae: 2.5395\n",
      "Epoch 130/200\n",
      "1/1 [==============================] - 0s 10ms/step - loss: 2.5245 - mae: 2.5245\n",
      "Epoch 131/200\n",
      "1/1 [==============================] - 0s 11ms/step - loss: 2.5008 - mae: 2.5008\n",
      "Epoch 132/200\n",
      "1/1 [==============================] - 0s 6ms/step - loss: 2.4711 - mae: 2.4711\n",
      "Epoch 133/200\n",
      "1/1 [==============================] - 0s 7ms/step - loss: 2.4353 - mae: 2.4353\n",
      "Epoch 134/200\n",
      "1/1 [==============================] - 0s 6ms/step - loss: 2.4455 - mae: 2.4455\n",
      "Epoch 135/200\n",
      "1/1 [==============================] - 0s 11ms/step - loss: 2.3967 - mae: 2.3967\n",
      "Epoch 136/200\n",
      "1/1 [==============================] - 0s 9ms/step - loss: 2.3535 - mae: 2.3535\n",
      "Epoch 137/200\n",
      "1/1 [==============================] - 0s 11ms/step - loss: 2.3245 - mae: 2.3245\n",
      "Epoch 138/200\n",
      "1/1 [==============================] - 0s 8ms/step - loss: 2.3024 - mae: 2.3024\n",
      "Epoch 139/200\n",
      "1/1 [==============================] - 0s 5ms/step - loss: 2.2731 - mae: 2.2731\n",
      "Epoch 140/200\n",
      "1/1 [==============================] - 0s 8ms/step - loss: 2.2356 - mae: 2.2356\n",
      "Epoch 141/200\n",
      "1/1 [==============================] - 0s 8ms/step - loss: 2.2238 - mae: 2.2238\n",
      "Epoch 142/200\n",
      "1/1 [==============================] - 0s 7ms/step - loss: 2.1923 - mae: 2.1923\n",
      "Epoch 143/200\n",
      "1/1 [==============================] - 0s 10ms/step - loss: 2.1370 - mae: 2.1370\n",
      "Epoch 144/200\n",
      "1/1 [==============================] - 0s 9ms/step - loss: 2.1035 - mae: 2.1035\n",
      "Epoch 145/200\n",
      "1/1 [==============================] - 0s 9ms/step - loss: 2.0970 - mae: 2.0970\n",
      "Epoch 146/200\n",
      "1/1 [==============================] - 0s 9ms/step - loss: 2.0479 - mae: 2.0479\n",
      "Epoch 147/200\n",
      "1/1 [==============================] - 0s 9ms/step - loss: 2.0224 - mae: 2.0224\n",
      "Epoch 148/200\n",
      "1/1 [==============================] - 0s 9ms/step - loss: 1.9872 - mae: 1.9872\n",
      "Epoch 149/200\n",
      "1/1 [==============================] - 0s 9ms/step - loss: 1.9703 - mae: 1.9703\n",
      "Epoch 150/200\n",
      "1/1 [==============================] - 0s 12ms/step - loss: 1.9317 - mae: 1.9317\n",
      "Epoch 151/200\n",
      "1/1 [==============================] - 0s 9ms/step - loss: 1.8894 - mae: 1.8894\n",
      "Epoch 152/200\n",
      "1/1 [==============================] - 0s 9ms/step - loss: 1.8556 - mae: 1.8556\n",
      "Epoch 153/200\n",
      "1/1 [==============================] - 0s 14ms/step - loss: 1.8073 - mae: 1.8073\n",
      "Epoch 154/200\n",
      "1/1 [==============================] - 0s 15ms/step - loss: 1.7696 - mae: 1.7696\n",
      "Epoch 155/200\n",
      "1/1 [==============================] - 0s 7ms/step - loss: 1.7424 - mae: 1.7424\n",
      "Epoch 156/200\n",
      "1/1 [==============================] - 0s 6ms/step - loss: 1.6878 - mae: 1.6878\n",
      "Epoch 157/200\n",
      "1/1 [==============================] - 0s 10ms/step - loss: 1.6554 - mae: 1.6554\n",
      "Epoch 158/200\n",
      "1/1 [==============================] - 0s 7ms/step - loss: 1.6108 - mae: 1.6108\n",
      "Epoch 159/200\n",
      "1/1 [==============================] - 0s 7ms/step - loss: 1.5564 - mae: 1.5564\n",
      "Epoch 160/200\n",
      "1/1 [==============================] - 0s 10ms/step - loss: 1.5339 - mae: 1.5339\n",
      "Epoch 161/200\n",
      "1/1 [==============================] - 0s 9ms/step - loss: 1.4895 - mae: 1.4895\n",
      "Epoch 162/200\n",
      "1/1 [==============================] - 0s 8ms/step - loss: 1.4219 - mae: 1.4219\n",
      "Epoch 163/200\n",
      "1/1 [==============================] - 0s 10ms/step - loss: 1.3820 - mae: 1.3820\n",
      "Epoch 164/200\n",
      "1/1 [==============================] - 0s 9ms/step - loss: 1.3396 - mae: 1.3396\n",
      "Epoch 165/200\n",
      "1/1 [==============================] - 0s 7ms/step - loss: 1.2796 - mae: 1.2796\n",
      "Epoch 166/200\n",
      "1/1 [==============================] - 0s 9ms/step - loss: 1.2195 - mae: 1.2195\n",
      "Epoch 167/200\n",
      "1/1 [==============================] - 0s 9ms/step - loss: 1.1405 - mae: 1.1405\n",
      "Epoch 168/200\n",
      "1/1 [==============================] - 0s 8ms/step - loss: 1.0947 - mae: 1.0947\n",
      "Epoch 169/200\n",
      "1/1 [==============================] - 0s 10ms/step - loss: 1.0603 - mae: 1.0603\n",
      "Epoch 170/200\n",
      "1/1 [==============================] - 0s 6ms/step - loss: 1.0102 - mae: 1.0102\n",
      "Epoch 171/200\n",
      "1/1 [==============================] - 0s 10ms/step - loss: 0.9441 - mae: 0.9441\n",
      "Epoch 172/200\n",
      "1/1 [==============================] - 0s 10ms/step - loss: 0.9106 - mae: 0.9106\n",
      "Epoch 173/200\n",
      "1/1 [==============================] - 0s 6ms/step - loss: 0.8575 - mae: 0.8575\n",
      "Epoch 174/200\n",
      "1/1 [==============================] - 0s 10ms/step - loss: 0.7779 - mae: 0.7779\n",
      "Epoch 175/200\n",
      "1/1 [==============================] - 0s 9ms/step - loss: 0.7373 - mae: 0.7373\n",
      "Epoch 176/200\n",
      "1/1 [==============================] - 0s 10ms/step - loss: 0.6908 - mae: 0.6908\n",
      "Epoch 177/200\n",
      "1/1 [==============================] - 0s 9ms/step - loss: 0.6277 - mae: 0.6277\n",
      "Epoch 178/200\n",
      "1/1 [==============================] - 0s 9ms/step - loss: 0.5776 - mae: 0.5776\n",
      "Epoch 179/200\n",
      "1/1 [==============================] - 0s 8ms/step - loss: 0.4810 - mae: 0.4810\n",
      "Epoch 180/200\n",
      "1/1 [==============================] - 0s 6ms/step - loss: 0.4095 - mae: 0.4095\n",
      "Epoch 181/200\n",
      "1/1 [==============================] - 0s 6ms/step - loss: 0.4035 - mae: 0.4035\n",
      "Epoch 182/200\n",
      "1/1 [==============================] - 0s 7ms/step - loss: 0.3463 - mae: 0.3463\n",
      "Epoch 183/200\n",
      "1/1 [==============================] - 0s 9ms/step - loss: 0.4003 - mae: 0.4003\n",
      "Epoch 184/200\n",
      "1/1 [==============================] - 0s 8ms/step - loss: 0.4228 - mae: 0.4228\n",
      "Epoch 185/200\n",
      "1/1 [==============================] - 0s 10ms/step - loss: 0.3894 - mae: 0.3894\n",
      "Epoch 186/200\n",
      "1/1 [==============================] - 0s 15ms/step - loss: 0.3509 - mae: 0.3509\n",
      "Epoch 187/200\n",
      "1/1 [==============================] - 0s 11ms/step - loss: 0.4146 - mae: 0.4146\n",
      "Epoch 188/200\n",
      "1/1 [==============================] - 0s 9ms/step - loss: 0.4005 - mae: 0.4005\n",
      "Epoch 189/200\n",
      "1/1 [==============================] - 0s 31ms/step - loss: 0.3629 - mae: 0.3629\n",
      "Epoch 190/200\n",
      "1/1 [==============================] - 0s 9ms/step - loss: 0.3720 - mae: 0.3720\n",
      "Epoch 191/200\n",
      "1/1 [==============================] - 0s 7ms/step - loss: 0.3886 - mae: 0.3886\n",
      "Epoch 192/200\n",
      "1/1 [==============================] - 0s 6ms/step - loss: 0.3544 - mae: 0.3544\n",
      "Epoch 193/200\n",
      "1/1 [==============================] - 0s 10ms/step - loss: 0.3511 - mae: 0.3511\n",
      "Epoch 194/200\n",
      "1/1 [==============================] - 0s 7ms/step - loss: 0.2942 - mae: 0.2942\n",
      "Epoch 195/200\n",
      "1/1 [==============================] - 0s 6ms/step - loss: 0.3062 - mae: 0.3062\n",
      "Epoch 196/200\n",
      "1/1 [==============================] - 0s 7ms/step - loss: 0.3327 - mae: 0.3327\n",
      "Epoch 197/200\n",
      "1/1 [==============================] - 0s 7ms/step - loss: 0.2618 - mae: 0.2618\n",
      "Epoch 198/200\n",
      "1/1 [==============================] - 0s 9ms/step - loss: 0.3067 - mae: 0.3067\n",
      "Epoch 199/200\n",
      "1/1 [==============================] - 0s 8ms/step - loss: 0.2520 - mae: 0.2520\n",
      "Epoch 200/200\n",
      "1/1 [==============================] - 0s 8ms/step - loss: 0.2926 - mae: 0.2926\n"
     ]
    },
    {
     "data": {
      "text/plain": [
       "<keras.src.callbacks.History at 0x205f93113c0>"
      ]
     },
     "execution_count": 14,
     "metadata": {},
     "output_type": "execute_result"
    }
   ],
   "source": [
    "# Creating a model\n",
    "model=tf.keras.Sequential([\n",
    "    tf.keras.layers.Dense(100,activation='relu'),\n",
    "    tf.keras.layers.Dense(100,activation='relu'),\n",
    "    tf.keras.layers.Dense(1)\n",
    "])\n",
    "\n",
    "# Compling a model\n",
    "model.compile(loss=tf.keras.losses.mae,optimizer=tf.keras.optimizers.Adam(lr=0.01),metrics=[\"mae\"])\n",
    "\n",
    "#fit a model\n",
    "model.fit(X,Y,epochs=200)"
   ]
  },
  {
   "cell_type": "code",
   "execution_count": 15,
   "id": "7bec9036-aa01-4d5b-9bf7-e3f1d7225cf1",
   "metadata": {},
   "outputs": [
    {
     "name": "stdout",
     "output_type": "stream",
     "text": [
      "WARNING:tensorflow:5 out of the last 5 calls to <function Model.make_predict_function.<locals>.predict_function at 0x00000205F93CD090> triggered tf.function retracing. Tracing is expensive and the excessive number of tracings could be due to (1) creating @tf.function repeatedly in a loop, (2) passing tensors with different shapes, (3) passing Python objects instead of tensors. For (1), please define your @tf.function outside of the loop. For (2), @tf.function has reduce_retracing=True option that can avoid unnecessary retracing. For (3), please refer to https://www.tensorflow.org/guide/function#controlling_retracing and https://www.tensorflow.org/api_docs/python/tf/function for  more details.\n"
     ]
    },
    {
     "name": "stderr",
     "output_type": "stream",
     "text": [
      "WARNING:tensorflow:5 out of the last 5 calls to <function Model.make_predict_function.<locals>.predict_function at 0x00000205F93CD090> triggered tf.function retracing. Tracing is expensive and the excessive number of tracings could be due to (1) creating @tf.function repeatedly in a loop, (2) passing tensors with different shapes, (3) passing Python objects instead of tensors. For (1), please define your @tf.function outside of the loop. For (2), @tf.function has reduce_retracing=True option that can avoid unnecessary retracing. For (3), please refer to https://www.tensorflow.org/guide/function#controlling_retracing and https://www.tensorflow.org/api_docs/python/tf/function for  more details.\n"
     ]
    },
    {
     "name": "stdout",
     "output_type": "stream",
     "text": [
      "1/1 [==============================] - 0s 105ms/step\n"
     ]
    },
    {
     "data": {
      "text/plain": [
       "array([[26.476118]], dtype=float32)"
      ]
     },
     "execution_count": 15,
     "metadata": {},
     "output_type": "execute_result"
    }
   ],
   "source": [
    "model.predict([16])"
   ]
  },
  {
   "cell_type": "markdown",
   "id": "3e97e5a7-05de-4bb3-84a3-5b55d2a4589b",
   "metadata": {},
   "source": [
    "## <u><b><i> Hurrey!!!! we got so close</i></b></u>"
   ]
  },
  {
   "cell_type": "markdown",
   "id": "6993b81f-2057-4127-bce9-0b96cb54be88",
   "metadata": {},
   "source": [
    "## While evaluating it's a good idea to visualize.\n",
    "#### 1. The Data.\n",
    "#### 2. The model itself: what does our model look like?\n",
    "#### 3. The training of a model: how does a model perform while it learns?\n",
    "#### 4. The prediction of a model"
   ]
  },
  {
   "cell_type": "code",
   "execution_count": 16,
   "id": "47e26a35-0812-4dda-9491-c9c826059d19",
   "metadata": {},
   "outputs": [],
   "source": [
    "# Make bigger dataset\n",
    "X=tf.range(-100,100,4)"
   ]
  },
  {
   "cell_type": "code",
   "execution_count": 17,
   "id": "0a4fe96a-be1c-48b2-8209-819bba56efca",
   "metadata": {},
   "outputs": [
    {
     "data": {
      "text/plain": [
       "<tf.Tensor: shape=(50,), dtype=int32, numpy=\n",
       "array([-100,  -96,  -92,  -88,  -84,  -80,  -76,  -72,  -68,  -64,  -60,\n",
       "        -56,  -52,  -48,  -44,  -40,  -36,  -32,  -28,  -24,  -20,  -16,\n",
       "        -12,   -8,   -4,    0,    4,    8,   12,   16,   20,   24,   28,\n",
       "         32,   36,   40,   44,   48,   52,   56,   60,   64,   68,   72,\n",
       "         76,   80,   84,   88,   92,   96])>"
      ]
     },
     "execution_count": 17,
     "metadata": {},
     "output_type": "execute_result"
    }
   ],
   "source": [
    "X"
   ]
  },
  {
   "cell_type": "code",
   "execution_count": 18,
   "id": "94a811d3-7864-490b-ad50-51e96bf114b0",
   "metadata": {},
   "outputs": [
    {
     "data": {
      "text/plain": [
       "<tf.Tensor: shape=(50,), dtype=int32, numpy=\n",
       "array([-90, -86, -82, -78, -74, -70, -66, -62, -58, -54, -50, -46, -42,\n",
       "       -38, -34, -30, -26, -22, -18, -14, -10,  -6,  -2,   2,   6,  10,\n",
       "        14,  18,  22,  26,  30,  34,  38,  42,  46,  50,  54,  58,  62,\n",
       "        66,  70,  74,  78,  82,  86,  90,  94,  98, 102, 106])>"
      ]
     },
     "execution_count": 18,
     "metadata": {},
     "output_type": "execute_result"
    }
   ],
   "source": [
    "Y=X+10\n",
    "Y"
   ]
  },
  {
   "cell_type": "code",
   "execution_count": 19,
   "id": "78508bd6-c47f-4b1e-b3a0-b62693d60e61",
   "metadata": {},
   "outputs": [
    {
     "data": {
      "text/plain": [
       "<matplotlib.collections.PathCollection at 0x205fa4fc790>"
      ]
     },
     "execution_count": 19,
     "metadata": {},
     "output_type": "execute_result"
    },
    {
     "data": {
      "image/png": "[encoded data removed]",
      "text/plain": [
       "<Figure size 640x480 with 1 Axes>"
      ]
     },
     "metadata": {},
     "output_type": "display_data"
    }
   ],
   "source": [
    "plt.scatter(X,Y)"
   ]
  },
  {
   "cell_type": "markdown",
   "id": "9f3989a2-cabc-4f5f-9431-b793022b35b7",
   "metadata": {},
   "source": [
    "# 3 Sets...\n",
    "#### 1 Training set: 70-80%\n",
    "#### 2 Validation set:<i>(used for tuning)</i> 10-15%\n",
    "#### 3 Test set: 10-15%\n"
   ]
  },
  {
   "cell_type": "code",
   "execution_count": 20,
   "id": "4c7a21ee-8363-45cb-89e6-0183b0ca25c0",
   "metadata": {},
   "outputs": [],
   "source": [
    "# X=X[:,tf.newaxis]\n",
    "# Y=Y[:,tf.newaxis]\n",
    "\n"
   ]
  },
  {
   "cell_type": "code",
   "execution_count": 21,
   "id": "947cbef7-fa91-4e0f-95c7-8bd9d48d51f2",
   "metadata": {},
   "outputs": [
    {
     "data": {
      "text/plain": [
       "<tf.Tensor: shape=(), dtype=int32, numpy=40>"
      ]
     },
     "execution_count": 21,
     "metadata": {},
     "output_type": "execute_result"
    }
   ],
   "source": [
    "# fit the data into train test set\n",
    "x_train=X[:40]\n",
    "y_train=Y[:40]\n",
    "\n",
    "x_test=X[40:]\n",
    "y_test=Y[40:]\n",
    "tf.size(x_train)\n"
   ]
  },
  {
   "cell_type": "markdown",
   "id": "1d3f7cfd-5b76-46fa-85d9-c5772acd1fc2",
   "metadata": {},
   "source": [
    "# Visualize the data"
   ]
  },
  {
   "cell_type": "code",
   "execution_count": 22,
   "id": "9fba5e1e-0700-497a-afa2-2b56a686ed8d",
   "metadata": {},
   "outputs": [
    {
     "data": {
      "text/plain": [
       "<matplotlib.legend.Legend at 0x205fa54af20>"
      ]
     },
     "execution_count": 22,
     "metadata": {},
     "output_type": "execute_result"
    },
    {
     "data": {
      "image/png": "[encoded data removed]",
      "text/plain": [
       "<Figure size 640x480 with 1 Axes>"
      ]
     },
     "metadata": {},
     "output_type": "display_data"
    }
   ],
   "source": [
    "plt.scatter(x_train,y_train,c='b',label='training data')\n",
    "plt.scatter(x_test,y_test,c='g',label='test data')\n",
    "plt.legend()\n"
   ]
  },
  {
   "cell_type": "code",
   "execution_count": 23,
   "id": "5a0c4335-bda5-4e6b-9421-4c65bca51a03",
   "metadata": {},
   "outputs": [
    {
     "name": "stdout",
     "output_type": "stream",
     "text": [
      "Epoch 1/200\n",
      "2/2 [==============================] - 0s 10ms/step - loss: 44.5380 - mae: 44.5380\n",
      "Epoch 2/200\n",
      "2/2 [==============================] - 0s 10ms/step - loss: 14.3374 - mae: 14.3374\n",
      "Epoch 3/200\n",
      "2/2 [==============================] - 0s 6ms/step - loss: 13.2842 - mae: 13.2842\n",
      "Epoch 4/200\n",
      "2/2 [==============================] - 0s 6ms/step - loss: 7.5792 - mae: 7.5792\n",
      "Epoch 5/200\n",
      "2/2 [==============================] - 0s 5ms/step - loss: 12.0179 - mae: 12.0179\n",
      "Epoch 6/200\n",
      "2/2 [==============================] - 0s 7ms/step - loss: 9.2991 - mae: 9.2991\n",
      "Epoch 7/200\n",
      "2/2 [==============================] - 0s 6ms/step - loss: 8.4619 - mae: 8.4619\n",
      "Epoch 8/200\n",
      "2/2 [==============================] - 0s 6ms/step - loss: 9.0433 - mae: 9.0433\n",
      "Epoch 9/200\n",
      "2/2 [==============================] - 0s 5ms/step - loss: 18.4639 - mae: 18.4639\n",
      "Epoch 10/200\n",
      "2/2 [==============================] - 0s 8ms/step - loss: 9.9603 - mae: 9.9603\n",
      "Epoch 11/200\n",
      "2/2 [==============================] - 0s 5ms/step - loss: 8.3434 - mae: 8.3434\n",
      "Epoch 12/200\n",
      "2/2 [==============================] - 0s 8ms/step - loss: 10.5424 - mae: 10.5424\n",
      "Epoch 13/200\n",
      "2/2 [==============================] - 0s 6ms/step - loss: 9.7547 - mae: 9.7547\n",
      "Epoch 14/200\n",
      "2/2 [==============================] - 0s 7ms/step - loss: 15.7024 - mae: 15.7024\n",
      "Epoch 15/200\n",
      "2/2 [==============================] - 0s 6ms/step - loss: 11.6592 - mae: 11.6592\n",
      "Epoch 16/200\n",
      "2/2 [==============================] - 0s 6ms/step - loss: 8.4744 - mae: 8.4744\n",
      "Epoch 17/200\n",
      "2/2 [==============================] - 0s 9ms/step - loss: 13.4751 - mae: 13.4751\n",
      "Epoch 18/200\n",
      "2/2 [==============================] - 0s 9ms/step - loss: 11.2610 - mae: 11.2610\n",
      "Epoch 19/200\n",
      "2/2 [==============================] - 0s 8ms/step - loss: 18.2707 - mae: 18.2707\n",
      "Epoch 20/200\n",
      "2/2 [==============================] - 0s 7ms/step - loss: 14.9785 - mae: 14.9785\n",
      "Epoch 21/200\n",
      "2/2 [==============================] - 0s 5ms/step - loss: 10.8587 - mae: 10.8587\n",
      "Epoch 22/200\n",
      "2/2 [==============================] - 0s 5ms/step - loss: 8.6106 - mae: 8.6106\n",
      "Epoch 23/200\n",
      "2/2 [==============================] - 0s 6ms/step - loss: 9.7126 - mae: 9.7126\n",
      "Epoch 24/200\n",
      "2/2 [==============================] - 0s 6ms/step - loss: 10.9715 - mae: 10.9715\n",
      "Epoch 25/200\n",
      "2/2 [==============================] - 0s 6ms/step - loss: 9.1717 - mae: 9.1717\n",
      "Epoch 26/200\n",
      "2/2 [==============================] - 0s 5ms/step - loss: 13.2098 - mae: 13.2098\n",
      "Epoch 27/200\n",
      "2/2 [==============================] - 0s 9ms/step - loss: 10.6789 - mae: 10.6789\n",
      "Epoch 28/200\n",
      "2/2 [==============================] - 0s 8ms/step - loss: 12.9028 - mae: 12.9028\n",
      "Epoch 29/200\n",
      "2/2 [==============================] - 0s 6ms/step - loss: 9.5193 - mae: 9.5193\n",
      "Epoch 30/200\n",
      "2/2 [==============================] - 0s 9ms/step - loss: 16.4315 - mae: 16.4315\n",
      "Epoch 31/200\n",
      "2/2 [==============================] - 0s 8ms/step - loss: 23.5664 - mae: 23.5664\n",
      "Epoch 32/200\n",
      "2/2 [==============================] - 0s 9ms/step - loss: 7.6151 - mae: 7.6151\n",
      "Epoch 33/200\n",
      "2/2 [==============================] - 0s 8ms/step - loss: 9.3112 - mae: 9.3112\n",
      "Epoch 34/200\n",
      "2/2 [==============================] - 0s 5ms/step - loss: 13.6777 - mae: 13.6777\n",
      "Epoch 35/200\n",
      "2/2 [==============================] - 0s 9ms/step - loss: 11.1678 - mae: 11.1678\n",
      "Epoch 36/200\n",
      "2/2 [==============================] - 0s 8ms/step - loss: 13.3943 - mae: 13.3943\n",
      "Epoch 37/200\n",
      "2/2 [==============================] - 0s 8ms/step - loss: 9.4560 - mae: 9.4560\n",
      "Epoch 38/200\n",
      "2/2 [==============================] - 0s 8ms/step - loss: 10.1069 - mae: 10.1069\n",
      "Epoch 39/200\n",
      "2/2 [==============================] - 0s 9ms/step - loss: 8.9829 - mae: 8.9829\n",
      "Epoch 40/200\n",
      "2/2 [==============================] - 0s 7ms/step - loss: 9.6117 - mae: 9.6117\n",
      "Epoch 41/200\n",
      "2/2 [==============================] - 0s 10ms/step - loss: 10.5731 - mae: 10.5731\n",
      "Epoch 42/200\n",
      "2/2 [==============================] - 0s 6ms/step - loss: 10.6274 - mae: 10.6274\n",
      "Epoch 43/200\n",
      "2/2 [==============================] - 0s 10ms/step - loss: 7.2151 - mae: 7.2151\n",
      "Epoch 44/200\n",
      "2/2 [==============================] - 0s 7ms/step - loss: 8.0240 - mae: 8.0240\n",
      "Epoch 45/200\n",
      "2/2 [==============================] - 0s 7ms/step - loss: 9.8276 - mae: 9.8276\n",
      "Epoch 46/200\n",
      "2/2 [==============================] - 0s 8ms/step - loss: 8.9081 - mae: 8.9081\n",
      "Epoch 47/200\n",
      "2/2 [==============================] - 0s 7ms/step - loss: 7.5692 - mae: 7.5692\n",
      "Epoch 48/200\n",
      "2/2 [==============================] - 0s 6ms/step - loss: 8.5298 - mae: 8.5298\n",
      "Epoch 49/200\n",
      "2/2 [==============================] - 0s 8ms/step - loss: 10.0401 - mae: 10.0401\n",
      "Epoch 50/200\n",
      "2/2 [==============================] - 0s 7ms/step - loss: 8.9752 - mae: 8.9752\n",
      "Epoch 51/200\n",
      "2/2 [==============================] - 0s 6ms/step - loss: 10.7180 - mae: 10.7180\n",
      "Epoch 52/200\n",
      "2/2 [==============================] - 0s 6ms/step - loss: 15.2568 - mae: 15.2568\n",
      "Epoch 53/200\n",
      "2/2 [==============================] - 0s 8ms/step - loss: 14.2886 - mae: 14.2886\n",
      "Epoch 54/200\n",
      "2/2 [==============================] - 0s 5ms/step - loss: 21.5316 - mae: 21.5316\n",
      "Epoch 55/200\n",
      "2/2 [==============================] - 0s 9ms/step - loss: 16.0621 - mae: 16.0621\n",
      "Epoch 56/200\n",
      "2/2 [==============================] - 0s 7ms/step - loss: 10.2391 - mae: 10.2391\n",
      "Epoch 57/200\n",
      "2/2 [==============================] - 0s 10ms/step - loss: 9.8042 - mae: 9.8042\n",
      "Epoch 58/200\n",
      "2/2 [==============================] - 0s 6ms/step - loss: 9.0858 - mae: 9.0858\n",
      "Epoch 59/200\n",
      "2/2 [==============================] - 0s 9ms/step - loss: 8.2896 - mae: 8.2896\n",
      "Epoch 60/200\n",
      "2/2 [==============================] - 0s 9ms/step - loss: 9.3814 - mae: 9.3814\n",
      "Epoch 61/200\n",
      "2/2 [==============================] - 0s 4ms/step - loss: 11.2142 - mae: 11.2142\n",
      "Epoch 62/200\n",
      "2/2 [==============================] - 0s 6ms/step - loss: 12.0256 - mae: 12.0256\n",
      "Epoch 63/200\n",
      "2/2 [==============================] - 0s 6ms/step - loss: 7.2767 - mae: 7.2767\n",
      "Epoch 64/200\n",
      "2/2 [==============================] - 0s 7ms/step - loss: 12.4750 - mae: 12.4750\n",
      "Epoch 65/200\n",
      "2/2 [==============================] - 0s 8ms/step - loss: 10.5500 - mae: 10.5500\n",
      "Epoch 66/200\n",
      "2/2 [==============================] - 0s 7ms/step - loss: 15.5576 - mae: 15.5576\n",
      "Epoch 67/200\n",
      "2/2 [==============================] - 0s 7ms/step - loss: 9.9749 - mae: 9.9749\n",
      "Epoch 68/200\n",
      "2/2 [==============================] - 0s 6ms/step - loss: 8.7084 - mae: 8.7084\n",
      "Epoch 69/200\n",
      "2/2 [==============================] - 0s 5ms/step - loss: 13.4336 - mae: 13.4336\n",
      "Epoch 70/200\n",
      "2/2 [==============================] - 0s 7ms/step - loss: 7.4728 - mae: 7.4728\n",
      "Epoch 71/200\n",
      "2/2 [==============================] - 0s 5ms/step - loss: 12.2769 - mae: 12.2769\n",
      "Epoch 72/200\n",
      "2/2 [==============================] - 0s 6ms/step - loss: 8.5053 - mae: 8.5053\n",
      "Epoch 73/200\n",
      "2/2 [==============================] - 0s 5ms/step - loss: 6.8727 - mae: 6.8727\n",
      "Epoch 74/200\n",
      "2/2 [==============================] - 0s 6ms/step - loss: 11.1470 - mae: 11.1470\n",
      "Epoch 75/200\n",
      "2/2 [==============================] - 0s 8ms/step - loss: 9.3730 - mae: 9.3730\n",
      "Epoch 76/200\n",
      "2/2 [==============================] - 0s 5ms/step - loss: 10.8344 - mae: 10.8344\n",
      "Epoch 77/200\n",
      "2/2 [==============================] - 0s 9ms/step - loss: 14.7063 - mae: 14.7063\n",
      "Epoch 78/200\n",
      "2/2 [==============================] - 0s 5ms/step - loss: 11.1621 - mae: 11.1621\n",
      "Epoch 79/200\n",
      "2/2 [==============================] - 0s 5ms/step - loss: 14.7199 - mae: 14.7199\n",
      "Epoch 80/200\n",
      "2/2 [==============================] - 0s 5ms/step - loss: 8.9279 - mae: 8.9279\n",
      "Epoch 81/200\n",
      "2/2 [==============================] - 0s 6ms/step - loss: 10.7673 - mae: 10.7673\n",
      "Epoch 82/200\n",
      "2/2 [==============================] - 0s 7ms/step - loss: 8.4064 - mae: 8.4064\n",
      "Epoch 83/200\n",
      "2/2 [==============================] - 0s 6ms/step - loss: 9.2254 - mae: 9.2254\n",
      "Epoch 84/200\n",
      "2/2 [==============================] - 0s 8ms/step - loss: 8.9481 - mae: 8.9481\n",
      "Epoch 85/200\n",
      "2/2 [==============================] - 0s 5ms/step - loss: 13.1881 - mae: 13.1881\n",
      "Epoch 86/200\n",
      "2/2 [==============================] - 0s 5ms/step - loss: 13.7194 - mae: 13.7194\n",
      "Epoch 87/200\n",
      "2/2 [==============================] - 0s 8ms/step - loss: 13.2041 - mae: 13.2041\n",
      "Epoch 88/200\n",
      "2/2 [==============================] - 0s 6ms/step - loss: 11.5314 - mae: 11.5314\n",
      "Epoch 89/200\n",
      "2/2 [==============================] - 0s 4ms/step - loss: 7.8154 - mae: 7.8154\n",
      "Epoch 90/200\n",
      "2/2 [==============================] - 0s 5ms/step - loss: 10.9463 - mae: 10.9463\n",
      "Epoch 91/200\n",
      "2/2 [==============================] - 0s 6ms/step - loss: 6.7580 - mae: 6.7580\n",
      "Epoch 92/200\n",
      "2/2 [==============================] - 0s 9ms/step - loss: 10.1391 - mae: 10.1391\n",
      "Epoch 93/200\n",
      "2/2 [==============================] - 0s 7ms/step - loss: 7.6112 - mae: 7.6112\n",
      "Epoch 94/200\n",
      "2/2 [==============================] - 0s 8ms/step - loss: 9.2436 - mae: 9.2436\n",
      "Epoch 95/200\n",
      "2/2 [==============================] - 0s 7ms/step - loss: 10.8288 - mae: 10.8288\n",
      "Epoch 96/200\n",
      "2/2 [==============================] - 0s 7ms/step - loss: 10.3110 - mae: 10.3110\n",
      "Epoch 97/200\n",
      "2/2 [==============================] - 0s 7ms/step - loss: 7.6814 - mae: 7.6814\n",
      "Epoch 98/200\n",
      "2/2 [==============================] - 0s 7ms/step - loss: 8.6179 - mae: 8.6179\n",
      "Epoch 99/200\n",
      "2/2 [==============================] - 0s 7ms/step - loss: 9.3958 - mae: 9.3958\n",
      "Epoch 100/200\n",
      "2/2 [==============================] - 0s 7ms/step - loss: 8.8435 - mae: 8.8435\n",
      "Epoch 101/200\n",
      "2/2 [==============================] - 0s 7ms/step - loss: 12.4659 - mae: 12.4659\n",
      "Epoch 102/200\n",
      "2/2 [==============================] - 0s 7ms/step - loss: 10.8350 - mae: 10.8350\n",
      "Epoch 103/200\n",
      "2/2 [==============================] - 0s 6ms/step - loss: 10.4181 - mae: 10.4181\n",
      "Epoch 104/200\n",
      "2/2 [==============================] - 0s 6ms/step - loss: 15.9383 - mae: 15.9383\n",
      "Epoch 105/200\n",
      "2/2 [==============================] - 0s 6ms/step - loss: 12.9866 - mae: 12.9866\n",
      "Epoch 106/200\n",
      "2/2 [==============================] - 0s 5ms/step - loss: 8.4207 - mae: 8.4207\n",
      "Epoch 107/200\n",
      "2/2 [==============================] - 0s 8ms/step - loss: 12.3415 - mae: 12.3415\n",
      "Epoch 108/200\n",
      "2/2 [==============================] - 0s 7ms/step - loss: 10.1154 - mae: 10.1154\n",
      "Epoch 109/200\n",
      "2/2 [==============================] - 0s 7ms/step - loss: 8.5081 - mae: 8.5081\n",
      "Epoch 110/200\n",
      "2/2 [==============================] - 0s 6ms/step - loss: 9.0574 - mae: 9.0574\n",
      "Epoch 111/200\n",
      "2/2 [==============================] - 0s 7ms/step - loss: 11.2917 - mae: 11.2917\n",
      "Epoch 112/200\n",
      "2/2 [==============================] - 0s 6ms/step - loss: 8.6301 - mae: 8.6301\n",
      "Epoch 113/200\n",
      "2/2 [==============================] - 0s 5ms/step - loss: 7.9791 - mae: 7.9791\n",
      "Epoch 114/200\n",
      "2/2 [==============================] - 0s 5ms/step - loss: 11.9878 - mae: 11.9878\n",
      "Epoch 115/200\n",
      "2/2 [==============================] - 0s 5ms/step - loss: 12.4777 - mae: 12.4777\n",
      "Epoch 116/200\n",
      "2/2 [==============================] - 0s 5ms/step - loss: 9.0234 - mae: 9.0234\n",
      "Epoch 117/200\n",
      "2/2 [==============================] - 0s 4ms/step - loss: 9.5803 - mae: 9.5803\n",
      "Epoch 118/200\n",
      "2/2 [==============================] - 0s 5ms/step - loss: 11.9545 - mae: 11.9545\n",
      "Epoch 119/200\n",
      "2/2 [==============================] - 0s 4ms/step - loss: 7.3274 - mae: 7.3274\n",
      "Epoch 120/200\n",
      "2/2 [==============================] - 0s 6ms/step - loss: 14.1553 - mae: 14.1553\n",
      "Epoch 121/200\n",
      "2/2 [==============================] - 0s 6ms/step - loss: 7.2914 - mae: 7.2914\n",
      "Epoch 122/200\n",
      "2/2 [==============================] - 0s 5ms/step - loss: 10.9589 - mae: 10.9589\n",
      "Epoch 123/200\n",
      "2/2 [==============================] - 0s 7ms/step - loss: 19.0056 - mae: 19.0056\n",
      "Epoch 124/200\n",
      "2/2 [==============================] - 0s 5ms/step - loss: 15.4226 - mae: 15.4226\n",
      "Epoch 125/200\n",
      "2/2 [==============================] - 0s 4ms/step - loss: 8.7867 - mae: 8.7867\n",
      "Epoch 126/200\n",
      "2/2 [==============================] - 0s 6ms/step - loss: 8.9416 - mae: 8.9416\n",
      "Epoch 127/200\n",
      "2/2 [==============================] - 0s 16ms/step - loss: 9.8604 - mae: 9.8604\n",
      "Epoch 128/200\n",
      "2/2 [==============================] - 0s 5ms/step - loss: 16.6821 - mae: 16.6821\n",
      "Epoch 129/200\n",
      "2/2 [==============================] - 0s 5ms/step - loss: 12.2165 - mae: 12.2165\n",
      "Epoch 130/200\n",
      "2/2 [==============================] - 0s 6ms/step - loss: 13.0530 - mae: 13.0530\n",
      "Epoch 131/200\n",
      "2/2 [==============================] - 0s 6ms/step - loss: 11.9217 - mae: 11.9217\n",
      "Epoch 132/200\n",
      "2/2 [==============================] - 0s 6ms/step - loss: 11.1963 - mae: 11.1963\n",
      "Epoch 133/200\n",
      "2/2 [==============================] - 0s 7ms/step - loss: 9.1856 - mae: 9.1856\n",
      "Epoch 134/200\n",
      "2/2 [==============================] - 0s 7ms/step - loss: 12.3024 - mae: 12.3024\n",
      "Epoch 135/200\n",
      "2/2 [==============================] - 0s 6ms/step - loss: 8.2978 - mae: 8.2978\n",
      "Epoch 136/200\n",
      "2/2 [==============================] - 0s 5ms/step - loss: 10.9317 - mae: 10.9317\n",
      "Epoch 137/200\n",
      "2/2 [==============================] - 0s 5ms/step - loss: 6.2448 - mae: 6.2448\n",
      "Epoch 138/200\n",
      "2/2 [==============================] - 0s 6ms/step - loss: 9.2740 - mae: 9.2740\n",
      "Epoch 139/200\n",
      "2/2 [==============================] - 0s 6ms/step - loss: 9.8102 - mae: 9.8102\n",
      "Epoch 140/200\n",
      "2/2 [==============================] - 0s 7ms/step - loss: 10.0641 - mae: 10.0641\n",
      "Epoch 141/200\n",
      "2/2 [==============================] - 0s 6ms/step - loss: 9.7790 - mae: 9.7790\n",
      "Epoch 142/200\n",
      "2/2 [==============================] - 0s 6ms/step - loss: 19.2197 - mae: 19.2197\n",
      "Epoch 143/200\n",
      "2/2 [==============================] - 0s 8ms/step - loss: 12.1856 - mae: 12.1856\n",
      "Epoch 144/200\n",
      "2/2 [==============================] - 0s 6ms/step - loss: 9.9725 - mae: 9.9725\n",
      "Epoch 145/200\n",
      "2/2 [==============================] - 0s 7ms/step - loss: 16.6417 - mae: 16.6417\n",
      "Epoch 146/200\n",
      "2/2 [==============================] - 0s 6ms/step - loss: 10.4698 - mae: 10.4698\n",
      "Epoch 147/200\n",
      "2/2 [==============================] - 0s 7ms/step - loss: 8.4101 - mae: 8.4101\n",
      "Epoch 148/200\n",
      "2/2 [==============================] - 0s 7ms/step - loss: 11.0579 - mae: 11.0579\n",
      "Epoch 149/200\n",
      "2/2 [==============================] - 0s 6ms/step - loss: 9.6157 - mae: 9.6157\n",
      "Epoch 150/200\n",
      "2/2 [==============================] - 0s 6ms/step - loss: 7.5757 - mae: 7.5757\n",
      "Epoch 151/200\n",
      "2/2 [==============================] - 0s 7ms/step - loss: 8.4986 - mae: 8.4986\n",
      "Epoch 152/200\n",
      "2/2 [==============================] - 0s 7ms/step - loss: 11.1771 - mae: 11.1771\n",
      "Epoch 153/200\n",
      "2/2 [==============================] - 0s 7ms/step - loss: 12.7417 - mae: 12.7417\n",
      "Epoch 154/200\n",
      "2/2 [==============================] - 0s 7ms/step - loss: 9.6224 - mae: 9.6224\n",
      "Epoch 155/200\n",
      "2/2 [==============================] - 0s 7ms/step - loss: 6.0708 - mae: 6.0708\n",
      "Epoch 156/200\n",
      "2/2 [==============================] - 0s 8ms/step - loss: 13.6119 - mae: 13.6119\n",
      "Epoch 157/200\n",
      "2/2 [==============================] - 0s 7ms/step - loss: 17.6602 - mae: 17.6602\n",
      "Epoch 158/200\n",
      "2/2 [==============================] - 0s 7ms/step - loss: 14.8587 - mae: 14.8587\n",
      "Epoch 159/200\n",
      "2/2 [==============================] - 0s 6ms/step - loss: 7.7093 - mae: 7.7093\n",
      "Epoch 160/200\n",
      "2/2 [==============================] - 0s 5ms/step - loss: 11.1823 - mae: 11.1823\n",
      "Epoch 161/200\n",
      "2/2 [==============================] - 0s 5ms/step - loss: 10.2095 - mae: 10.2095\n",
      "Epoch 162/200\n",
      "2/2 [==============================] - 0s 5ms/step - loss: 8.5916 - mae: 8.5916\n",
      "Epoch 163/200\n",
      "2/2 [==============================] - 0s 18ms/step - loss: 8.8871 - mae: 8.8871\n",
      "Epoch 164/200\n",
      "2/2 [==============================] - 0s 5ms/step - loss: 7.1763 - mae: 7.1763\n",
      "Epoch 165/200\n",
      "2/2 [==============================] - 0s 7ms/step - loss: 7.6204 - mae: 7.6204\n",
      "Epoch 166/200\n",
      "2/2 [==============================] - 0s 6ms/step - loss: 7.1015 - mae: 7.1015\n",
      "Epoch 167/200\n",
      "2/2 [==============================] - 0s 6ms/step - loss: 11.7633 - mae: 11.7633\n",
      "Epoch 168/200\n",
      "2/2 [==============================] - 0s 6ms/step - loss: 8.1430 - mae: 8.1430\n",
      "Epoch 169/200\n",
      "2/2 [==============================] - 0s 7ms/step - loss: 13.0698 - mae: 13.0698\n",
      "Epoch 170/200\n",
      "2/2 [==============================] - 0s 7ms/step - loss: 7.5513 - mae: 7.5513\n",
      "Epoch 171/200\n",
      "2/2 [==============================] - 0s 6ms/step - loss: 8.1376 - mae: 8.1376\n",
      "Epoch 172/200\n",
      "2/2 [==============================] - 0s 7ms/step - loss: 6.9520 - mae: 6.9520\n",
      "Epoch 173/200\n",
      "2/2 [==============================] - 0s 7ms/step - loss: 10.9713 - mae: 10.9713\n",
      "Epoch 174/200\n",
      "2/2 [==============================] - 0s 8ms/step - loss: 8.1642 - mae: 8.1642\n",
      "Epoch 175/200\n",
      "2/2 [==============================] - 0s 7ms/step - loss: 12.4693 - mae: 12.4693\n",
      "Epoch 176/200\n",
      "2/2 [==============================] - 0s 7ms/step - loss: 9.2752 - mae: 9.2752\n",
      "Epoch 177/200\n",
      "2/2 [==============================] - 0s 6ms/step - loss: 8.2966 - mae: 8.2966\n",
      "Epoch 178/200\n",
      "2/2 [==============================] - 0s 7ms/step - loss: 10.8128 - mae: 10.8128\n",
      "Epoch 179/200\n",
      "2/2 [==============================] - 0s 7ms/step - loss: 9.9332 - mae: 9.9332\n",
      "Epoch 180/200\n",
      "2/2 [==============================] - 0s 6ms/step - loss: 6.8447 - mae: 6.8447\n",
      "Epoch 181/200\n",
      "2/2 [==============================] - 0s 5ms/step - loss: 11.6464 - mae: 11.6464\n",
      "Epoch 182/200\n",
      "2/2 [==============================] - 0s 7ms/step - loss: 9.9543 - mae: 9.9543\n",
      "Epoch 183/200\n",
      "2/2 [==============================] - 0s 6ms/step - loss: 7.4137 - mae: 7.4137\n",
      "Epoch 184/200\n",
      "2/2 [==============================] - 0s 6ms/step - loss: 24.4702 - mae: 24.4702\n",
      "Epoch 185/200\n",
      "2/2 [==============================] - 0s 6ms/step - loss: 8.1759 - mae: 8.1759\n",
      "Epoch 186/200\n",
      "2/2 [==============================] - 0s 5ms/step - loss: 8.6962 - mae: 8.6962\n",
      "Epoch 187/200\n",
      "2/2 [==============================] - 0s 5ms/step - loss: 8.0980 - mae: 8.0980\n",
      "Epoch 188/200\n",
      "2/2 [==============================] - 0s 7ms/step - loss: 7.7775 - mae: 7.7775\n",
      "Epoch 189/200\n",
      "2/2 [==============================] - 0s 4ms/step - loss: 7.2767 - mae: 7.2767\n",
      "Epoch 190/200\n",
      "2/2 [==============================] - 0s 7ms/step - loss: 8.5301 - mae: 8.5301\n",
      "Epoch 191/200\n",
      "2/2 [==============================] - 0s 4ms/step - loss: 10.4080 - mae: 10.4080\n",
      "Epoch 192/200\n",
      "2/2 [==============================] - 0s 6ms/step - loss: 7.9407 - mae: 7.9407\n",
      "Epoch 193/200\n",
      "2/2 [==============================] - 0s 6ms/step - loss: 18.6133 - mae: 18.6133\n",
      "Epoch 194/200\n",
      "2/2 [==============================] - 0s 6ms/step - loss: 7.9889 - mae: 7.9889\n",
      "Epoch 195/200\n",
      "2/2 [==============================] - 0s 6ms/step - loss: 7.0635 - mae: 7.0635\n",
      "Epoch 196/200\n",
      "2/2 [==============================] - 0s 8ms/step - loss: 11.4502 - mae: 11.4502\n",
      "Epoch 197/200\n",
      "2/2 [==============================] - 0s 7ms/step - loss: 10.0095 - mae: 10.0095\n",
      "Epoch 198/200\n",
      "2/2 [==============================] - 0s 6ms/step - loss: 6.9896 - mae: 6.9896\n",
      "Epoch 199/200\n",
      "2/2 [==============================] - 0s 23ms/step - loss: 12.5450 - mae: 12.5450\n",
      "Epoch 200/200\n",
      "2/2 [==============================] - 0s 5ms/step - loss: 6.1385 - mae: 6.1385\n"
     ]
    },
    {
     "data": {
      "text/plain": [
       "<keras.src.callbacks.History at 0x205fa727eb0>"
      ]
     },
     "execution_count": 23,
     "metadata": {},
     "output_type": "execute_result"
    }
   ],
   "source": [
    "tf.random.set_seed(42)\n",
    "# creating a model\n",
    "model=tf.keras.Sequential([\n",
    "    tf.keras.layers.Dense(1,input_shape=[1],name=\"Input_layer\")\n",
    "    # tf.keras.layers.Dense(1)\n",
    "    \n",
    "],name='ganesh')\n",
    "\n",
    "model.compile(loss='mae',optimizer=tf.optimizers.SGD(),metrics=['mae'])\n",
    "\n",
    "model.fit(x_train,y_train,epochs=200)"
   ]
  },
  {
   "cell_type": "code",
   "execution_count": 24,
   "id": "f4bacf27-c403-46b8-a005-8e9b2538bd88",
   "metadata": {},
   "outputs": [
    {
     "name": "stdout",
     "output_type": "stream",
     "text": [
      "Model: \"ganesh\"\n",
      "_________________________________________________________________\n",
      " Layer (type)                Output Shape              Param #   \n",
      "=================================================================\n",
      " Input_layer (Dense)         (None, 1)                 2         \n",
      "                                                                 \n",
      "=================================================================\n",
      "Total params: 2 (8.00 Byte)\n",
      "Trainable params: 2 (8.00 Byte)\n",
      "Non-trainable params: 0 (0.00 Byte)\n",
      "_________________________________________________________________\n"
     ]
    }
   ],
   "source": [
    "model.summary()"
   ]
  },
  {
   "cell_type": "markdown",
   "id": "8ed31eb6-a1d0-4468-b5df-1409d69c164c",
   "metadata": {},
   "source": [
    "#### <b>Total param</b>: Total number of parameters in the model\n",
    "#### <b>Trainable params</b>: These are the parameters (patterns) the model can update as it trains.\n",
    "#### <b>Non-trainable params</b>: These parameters aren't updated during training (These are typical when you bring in already learned patterns or parameters from other model during <b><u>transfer learning</u></b>)"
   ]
  },
  {
   "cell_type": "code",
   "execution_count": 25,
   "id": "78af17d9-4759-49ff-b40a-aa721311bed7",
   "metadata": {},
   "outputs": [],
   "source": [
    "from tensorflow.keras.utils import plot_model"
   ]
  },
  {
   "cell_type": "code",
   "execution_count": 26,
   "id": "3f209b71-3cf7-4f7f-824c-92895bff983f",
   "metadata": {},
   "outputs": [
    {
     "name": "stdout",
     "output_type": "stream",
     "text": [
      "You must install pydot (`pip install pydot`) and install graphviz (see instructions at https://graphviz.gitlab.io/download/) for plot_model to work.\n"
     ]
    }
   ],
   "source": [
    "plot_model(model=model,show_shapes=True)"
   ]
  },
  {
   "cell_type": "markdown",
   "id": "2b865739-b9d8-457d-a651-40c4ff8010d5",
   "metadata": {},
   "source": [
    "## Visualized model's performance"
   ]
  },
  {
   "cell_type": "code",
   "execution_count": 27,
   "id": "0303d791-7f56-4939-8fa8-572cb1d3a6a6",
   "metadata": {},
   "outputs": [
    {
     "name": "stdout",
     "output_type": "stream",
     "text": [
      "WARNING:tensorflow:6 out of the last 6 calls to <function Model.make_predict_function.<locals>.predict_function at 0x00000205FA593BE0> triggered tf.function retracing. Tracing is expensive and the excessive number of tracings could be due to (1) creating @tf.function repeatedly in a loop, (2) passing tensors with different shapes, (3) passing Python objects instead of tensors. For (1), please define your @tf.function outside of the loop. For (2), @tf.function has reduce_retracing=True option that can avoid unnecessary retracing. For (3), please refer to https://www.tensorflow.org/guide/function#controlling_retracing and https://www.tensorflow.org/api_docs/python/tf/function for  more details.\n"
     ]
    },
    {
     "name": "stderr",
     "output_type": "stream",
     "text": [
      "WARNING:tensorflow:6 out of the last 6 calls to <function Model.make_predict_function.<locals>.predict_function at 0x00000205FA593BE0> triggered tf.function retracing. Tracing is expensive and the excessive number of tracings could be due to (1) creating @tf.function repeatedly in a loop, (2) passing tensors with different shapes, (3) passing Python objects instead of tensors. For (1), please define your @tf.function outside of the loop. For (2), @tf.function has reduce_retracing=True option that can avoid unnecessary retracing. For (3), please refer to https://www.tensorflow.org/guide/function#controlling_retracing and https://www.tensorflow.org/api_docs/python/tf/function for  more details.\n"
     ]
    },
    {
     "name": "stdout",
     "output_type": "stream",
     "text": [
      "1/1 [==============================] - 0s 77ms/step\n"
     ]
    }
   ],
   "source": [
    "y_pred=model.predict(x_test)"
   ]
  },
  {
   "cell_type": "code",
   "execution_count": 28,
   "id": "2af943b0-d5b3-41bf-b18c-9b20a392c0fe",
   "metadata": {},
   "outputs": [
    {
     "data": {
      "text/plain": [
       "(array([[51.568745],\n",
       "        [54.83512 ],\n",
       "        [58.101498],\n",
       "        [61.36787 ],\n",
       "        [64.63425 ],\n",
       "        [67.90063 ],\n",
       "        [71.167   ],\n",
       "        [74.43337 ],\n",
       "        [77.699745],\n",
       "        [80.966125]], dtype=float32),\n",
       " <tf.Tensor: shape=(10,), dtype=int32, numpy=array([ 70,  74,  78,  82,  86,  90,  94,  98, 102, 106])>)"
      ]
     },
     "execution_count": 28,
     "metadata": {},
     "output_type": "execute_result"
    }
   ],
   "source": [
    "y_pred,y_test"
   ]
  },
  {
   "cell_type": "code",
   "execution_count": 29,
   "id": "2f9d5e83-2e70-457b-abf3-7f2ef18e0d5e",
   "metadata": {},
   "outputs": [],
   "source": [
    "def plot_graph(train_data=x_train,\n",
    "               train_labels=y_train,\n",
    "               test_data=x_test,\n",
    "               test_labels=y_test,\n",
    "               predictions=y_pred):\n",
    "    plt.figure(figsize=(10,5))\n",
    "    plt.scatter(train_data,train_labels,c='b',label='training data')\n",
    "    plt.scatter(test_data,test_labels,c='g',label='test data')\n",
    "    plt.scatter(predictions,test_labels,c='red',label='prediction')\n",
    "    plt.legend();"
   ]
  },
  {
   "cell_type": "code",
   "execution_count": 30,
   "id": "78e54fd2-34fc-451e-9560-9aa8550ce41e",
   "metadata": {},
   "outputs": [
    {
     "data": {
      "image/png": "[encoded data removed]",
      "text/plain": [
       "<Figure size 1000x500 with 1 Axes>"
      ]
     },
     "metadata": {},
     "output_type": "display_data"
    }
   ],
   "source": [
    "plot_graph()"
   ]
  },
  {
   "cell_type": "markdown",
   "id": "52d0924f-414e-48d0-b8f3-27a810772e6f",
   "metadata": {},
   "source": [
    "## Evaluating the model prediction based on regression evaluation metrics"
   ]
  },
  {
   "cell_type": "markdown",
   "id": "abba8666-b93a-4dfa-8267-c9fa7bc7aa0f",
   "metadata": {},
   "source": [
    "#### depending on the problem you're working on, there will be different evaluation metrics to evaluate you model's performance.\n",
    "#### Since we are working on a regression, two of the main metrics is \n",
    "#### 1. MAE - mean absolute error \"on average, how wrong is each of my model's predictions.\n",
    "#### 2. MSE - mean square error, \"square the average error\"."
   ]
  },
  {
   "cell_type": "code",
   "execution_count": 31,
   "id": "0bd5b2f8-6fc9-4571-90cf-dbb777a4ca36",
   "metadata": {},
   "outputs": [
    {
     "name": "stdout",
     "output_type": "stream",
     "text": [
      "1/1 [==============================] - 0s 255ms/step - loss: 21.7326 - mae: 21.7326\n"
     ]
    },
    {
     "data": {
      "text/plain": [
       "[21.73256492614746, 21.73256492614746]"
      ]
     },
     "execution_count": 31,
     "metadata": {},
     "output_type": "execute_result"
    }
   ],
   "source": [
    "model.evaluate(x_test,y_test)"
   ]
  },
  {
   "cell_type": "code",
   "execution_count": 32,
   "id": "d4fc45ac-6700-4398-88ba-5f9613c2783c",
   "metadata": {},
   "outputs": [
    {
     "data": {
      "text/plain": [
       "<tf.Tensor: shape=(10,), dtype=float32, numpy=\n",
       "array([36.431255 , 33.16488  , 29.898502 , 26.63213  , 23.365753 ,\n",
       "       20.099373 , 17.0664   , 14.539976 , 12.5801525, 11.21355  ],\n",
       "      dtype=float32)>"
      ]
     },
     "execution_count": 32,
     "metadata": {},
     "output_type": "execute_result"
    }
   ],
   "source": [
    "tf.keras.losses.mae(y_test,y_pred)"
   ]
  },
  {
   "cell_type": "code",
   "execution_count": 33,
   "id": "570ce227-65a9-4fff-b757-fdae2c9892b5",
   "metadata": {},
   "outputs": [
    {
     "data": {
      "text/plain": [
       "<tf.Tensor: shape=(10, 1), dtype=float32, numpy=\n",
       "array([[51.568745],\n",
       "       [54.83512 ],\n",
       "       [58.101498],\n",
       "       [61.36787 ],\n",
       "       [64.63425 ],\n",
       "       [67.90063 ],\n",
       "       [71.167   ],\n",
       "       [74.43337 ],\n",
       "       [77.699745],\n",
       "       [80.966125]], dtype=float32)>"
      ]
     },
     "execution_count": 33,
     "metadata": {},
     "output_type": "execute_result"
    }
   ],
   "source": [
    "y_pred=tf.constant(y_pred)\n",
    "y_pred"
   ]
  },
  {
   "cell_type": "code",
   "execution_count": 34,
   "id": "d540cb35-c780-4935-b83f-367a80b11be3",
   "metadata": {},
   "outputs": [
    {
     "data": {
      "text/plain": [
       "<tf.Tensor: shape=(10,), dtype=int32, numpy=array([ 70,  74,  78,  82,  86,  90,  94,  98, 102, 106])>"
      ]
     },
     "execution_count": 34,
     "metadata": {},
     "output_type": "execute_result"
    }
   ],
   "source": [
    "y_test"
   ]
  },
  {
   "cell_type": "code",
   "execution_count": 35,
   "id": "d5c49ad4-fa0b-4e08-b0c7-e4f385cb34f0",
   "metadata": {},
   "outputs": [
    {
     "data": {
      "text/plain": [
       "<tf.Tensor: shape=(10,), dtype=float32, numpy=\n",
       "array([51.568745, 54.83512 , 58.101498, 61.36787 , 64.63425 , 67.90063 ,\n",
       "       71.167   , 74.43337 , 77.699745, 80.966125], dtype=float32)>"
      ]
     },
     "execution_count": 35,
     "metadata": {},
     "output_type": "execute_result"
    }
   ],
   "source": [
    "y_pred=tf.squeeze(y_pred)\n",
    "y_pred"
   ]
  },
  {
   "cell_type": "code",
   "execution_count": 36,
   "id": "2e37fcb9-7f79-4e74-8306-662cf7427ed6",
   "metadata": {},
   "outputs": [
    {
     "data": {
      "text/plain": [
       "<tf.Tensor: shape=(), dtype=float32, numpy=21.732565>"
      ]
     },
     "execution_count": 36,
     "metadata": {},
     "output_type": "execute_result"
    }
   ],
   "source": [
    "tf.metrics.mean_absolute_error(y_test,y_pred)"
   ]
  },
  {
   "cell_type": "code",
   "execution_count": 37,
   "id": "6ec5e4fd-35ee-419d-a143-c2d5e4c30329",
   "metadata": {},
   "outputs": [
    {
     "data": {
      "text/plain": [
       "<tf.Tensor: shape=(), dtype=float32, numpy=476.74457>"
      ]
     },
     "execution_count": 37,
     "metadata": {},
     "output_type": "execute_result"
    }
   ],
   "source": [
    "# Calculate the mean squared error\n",
    "tf.metrics.mean_squared_error(y_test,y_pred)"
   ]
  },
  {
   "cell_type": "markdown",
   "id": "81732158-65dd-43b5-825c-a9c908cd8dff",
   "metadata": {},
   "source": [
    "## Experiment different models"
   ]
  },
  {
   "cell_type": "code",
   "execution_count": 38,
   "id": "4f5f6947-23b6-4450-8895-f3d930c666ea",
   "metadata": {},
   "outputs": [
    {
     "name": "stdout",
     "output_type": "stream",
     "text": [
      "Epoch 1/100\n",
      "2/2 [==============================] - 0s 7ms/step - loss: 10.0910 - mae: 10.0910\n",
      "Epoch 2/100\n",
      "2/2 [==============================] - 0s 7ms/step - loss: 9.3706 - mae: 9.3706\n",
      "Epoch 3/100\n",
      "2/2 [==============================] - 0s 6ms/step - loss: 11.7913 - mae: 11.7913\n",
      "Epoch 4/100\n",
      "2/2 [==============================] - 0s 8ms/step - loss: 9.2713 - mae: 9.2713\n",
      "Epoch 5/100\n",
      "2/2 [==============================] - 0s 6ms/step - loss: 10.1363 - mae: 10.1363\n",
      "Epoch 6/100\n",
      "2/2 [==============================] - 0s 11ms/step - loss: 9.4022 - mae: 9.4022\n",
      "Epoch 7/100\n",
      "2/2 [==============================] - 0s 7ms/step - loss: 8.5464 - mae: 8.5464\n",
      "Epoch 8/100\n",
      "2/2 [==============================] - 0s 7ms/step - loss: 9.0388 - mae: 9.0388\n",
      "Epoch 9/100\n",
      "2/2 [==============================] - 0s 11ms/step - loss: 18.6982 - mae: 18.6982\n",
      "Epoch 10/100\n",
      "2/2 [==============================] - 0s 6ms/step - loss: 10.0820 - mae: 10.0820\n",
      "Epoch 11/100\n",
      "2/2 [==============================] - 0s 10ms/step - loss: 8.3833 - mae: 8.3833\n",
      "Epoch 12/100\n",
      "2/2 [==============================] - 0s 9ms/step - loss: 10.6374 - mae: 10.6374\n",
      "Epoch 13/100\n",
      "2/2 [==============================] - 0s 5ms/step - loss: 9.7850 - mae: 9.7850\n",
      "Epoch 14/100\n",
      "2/2 [==============================] - 0s 9ms/step - loss: 15.9538 - mae: 15.9538\n",
      "Epoch 15/100\n",
      "2/2 [==============================] - 0s 5ms/step - loss: 11.4467 - mae: 11.4467\n",
      "Epoch 16/100\n",
      "2/2 [==============================] - 0s 11ms/step - loss: 8.5233 - mae: 8.5233\n",
      "Epoch 17/100\n",
      "2/2 [==============================] - 0s 11ms/step - loss: 13.6016 - mae: 13.6016\n",
      "Epoch 18/100\n",
      "2/2 [==============================] - 0s 11ms/step - loss: 11.4224 - mae: 11.4224\n",
      "Epoch 19/100\n",
      "2/2 [==============================] - 0s 8ms/step - loss: 17.9568 - mae: 17.9568\n",
      "Epoch 20/100\n",
      "2/2 [==============================] - 0s 10ms/step - loss: 15.0911 - mae: 15.0911\n",
      "Epoch 21/100\n",
      "2/2 [==============================] - 0s 8ms/step - loss: 11.0554 - mae: 11.0554\n",
      "Epoch 22/100\n",
      "2/2 [==============================] - 0s 11ms/step - loss: 8.1859 - mae: 8.1859\n",
      "Epoch 23/100\n",
      "2/2 [==============================] - 0s 8ms/step - loss: 9.4856 - mae: 9.4856\n",
      "Epoch 24/100\n",
      "2/2 [==============================] - 0s 9ms/step - loss: 7.6659 - mae: 7.6659\n",
      "Epoch 25/100\n",
      "2/2 [==============================] - 0s 9ms/step - loss: 13.1272 - mae: 13.1272\n",
      "Epoch 26/100\n",
      "2/2 [==============================] - 0s 8ms/step - loss: 16.4621 - mae: 16.4621\n",
      "Epoch 27/100\n",
      "2/2 [==============================] - 0s 10ms/step - loss: 13.1994 - mae: 13.1994\n",
      "Epoch 28/100\n",
      "2/2 [==============================] - 0s 7ms/step - loss: 14.2993 - mae: 14.2993\n",
      "Epoch 29/100\n",
      "2/2 [==============================] - 0s 10ms/step - loss: 10.0766 - mae: 10.0766\n",
      "Epoch 30/100\n",
      "2/2 [==============================] - 0s 10ms/step - loss: 16.4075 - mae: 16.4075\n",
      "Epoch 31/100\n",
      "2/2 [==============================] - 0s 10ms/step - loss: 23.5812 - mae: 23.5812\n",
      "Epoch 32/100\n",
      "2/2 [==============================] - 0s 9ms/step - loss: 7.6084 - mae: 7.6084\n",
      "Epoch 33/100\n",
      "2/2 [==============================] - 0s 11ms/step - loss: 9.3058 - mae: 9.3058\n",
      "Epoch 34/100\n",
      "2/2 [==============================] - 0s 9ms/step - loss: 13.6828 - mae: 13.6828\n",
      "Epoch 35/100\n",
      "2/2 [==============================] - 0s 6ms/step - loss: 11.1517 - mae: 11.1517\n",
      "Epoch 36/100\n",
      "2/2 [==============================] - 0s 7ms/step - loss: 13.3732 - mae: 13.3732\n",
      "Epoch 37/100\n",
      "2/2 [==============================] - 0s 7ms/step - loss: 9.4526 - mae: 9.4526\n",
      "Epoch 38/100\n",
      "2/2 [==============================] - 0s 6ms/step - loss: 10.1052 - mae: 10.1052\n",
      "Epoch 39/100\n",
      "2/2 [==============================] - 0s 7ms/step - loss: 10.2037 - mae: 10.2037\n",
      "Epoch 40/100\n",
      "2/2 [==============================] - 0s 13ms/step - loss: 10.9482 - mae: 10.9482\n",
      "Epoch 41/100\n",
      "2/2 [==============================] - 0s 9ms/step - loss: 7.9238 - mae: 7.9238\n",
      "Epoch 42/100\n",
      "2/2 [==============================] - 0s 6ms/step - loss: 10.5833 - mae: 10.5833\n",
      "Epoch 43/100\n",
      "2/2 [==============================] - 0s 6ms/step - loss: 7.2085 - mae: 7.2085\n",
      "Epoch 44/100\n",
      "2/2 [==============================] - 0s 10ms/step - loss: 7.9964 - mae: 7.9964\n",
      "Epoch 45/100\n",
      "2/2 [==============================] - 0s 9ms/step - loss: 9.7898 - mae: 9.7898\n",
      "Epoch 46/100\n",
      "2/2 [==============================] - 0s 9ms/step - loss: 8.8661 - mae: 8.8661\n",
      "Epoch 47/100\n",
      "2/2 [==============================] - 0s 7ms/step - loss: 7.5708 - mae: 7.5708\n",
      "Epoch 48/100\n",
      "2/2 [==============================] - 0s 9ms/step - loss: 8.5709 - mae: 8.5709\n",
      "Epoch 49/100\n",
      "2/2 [==============================] - 0s 7ms/step - loss: 9.9952 - mae: 9.9952\n",
      "Epoch 50/100\n",
      "2/2 [==============================] - 0s 6ms/step - loss: 9.0225 - mae: 9.0225\n",
      "Epoch 51/100\n",
      "2/2 [==============================] - 0s 10ms/step - loss: 10.6650 - mae: 10.6650\n",
      "Epoch 52/100\n",
      "2/2 [==============================] - 0s 11ms/step - loss: 15.2950 - mae: 15.2950\n",
      "Epoch 53/100\n",
      "2/2 [==============================] - 0s 10ms/step - loss: 14.3162 - mae: 14.3162\n",
      "Epoch 54/100\n",
      "2/2 [==============================] - 0s 9ms/step - loss: 21.6122 - mae: 21.6122\n",
      "Epoch 55/100\n",
      "2/2 [==============================] - 0s 8ms/step - loss: 15.9894 - mae: 15.9894\n",
      "Epoch 56/100\n",
      "2/2 [==============================] - 0s 8ms/step - loss: 10.2872 - mae: 10.2872\n",
      "Epoch 57/100\n",
      "2/2 [==============================] - 0s 12ms/step - loss: 9.7648 - mae: 9.7648\n",
      "Epoch 58/100\n",
      "2/2 [==============================] - 0s 10ms/step - loss: 9.0506 - mae: 9.0506\n",
      "Epoch 59/100\n",
      "2/2 [==============================] - 0s 8ms/step - loss: 8.2556 - mae: 8.2556\n",
      "Epoch 60/100\n",
      "2/2 [==============================] - 0s 10ms/step - loss: 9.3525 - mae: 9.3525\n",
      "Epoch 61/100\n",
      "2/2 [==============================] - 0s 10ms/step - loss: 11.1611 - mae: 11.1611\n",
      "Epoch 62/100\n",
      "2/2 [==============================] - 0s 8ms/step - loss: 12.0759 - mae: 12.0759\n",
      "Epoch 63/100\n",
      "2/2 [==============================] - 0s 10ms/step - loss: 7.2669 - mae: 7.2669\n",
      "Epoch 64/100\n",
      "2/2 [==============================] - 0s 11ms/step - loss: 12.4278 - mae: 12.4278\n",
      "Epoch 65/100\n",
      "2/2 [==============================] - 0s 8ms/step - loss: 10.4970 - mae: 10.4970\n",
      "Epoch 66/100\n",
      "2/2 [==============================] - 0s 10ms/step - loss: 15.6089 - mae: 15.6089\n",
      "Epoch 67/100\n",
      "2/2 [==============================] - 0s 8ms/step - loss: 10.0099 - mae: 10.0099\n",
      "Epoch 68/100\n",
      "2/2 [==============================] - 0s 8ms/step - loss: 8.7195 - mae: 8.7195\n",
      "Epoch 69/100\n",
      "2/2 [==============================] - 0s 10ms/step - loss: 13.4855 - mae: 13.4855\n",
      "Epoch 70/100\n",
      "2/2 [==============================] - 0s 10ms/step - loss: 7.4662 - mae: 7.4662\n",
      "Epoch 71/100\n",
      "2/2 [==============================] - 0s 9ms/step - loss: 12.2239 - mae: 12.2239\n",
      "Epoch 72/100\n",
      "2/2 [==============================] - 0s 10ms/step - loss: 8.5305 - mae: 8.5305\n",
      "Epoch 73/100\n",
      "2/2 [==============================] - 0s 6ms/step - loss: 7.0367 - mae: 7.0367\n",
      "Epoch 74/100\n",
      "2/2 [==============================] - 0s 8ms/step - loss: 9.9284 - mae: 9.9284\n",
      "Epoch 75/100\n",
      "2/2 [==============================] - 0s 8ms/step - loss: 9.9342 - mae: 9.9342\n",
      "Epoch 76/100\n",
      "2/2 [==============================] - 0s 8ms/step - loss: 10.1007 - mae: 10.1007\n",
      "Epoch 77/100\n",
      "2/2 [==============================] - 0s 9ms/step - loss: 12.9499 - mae: 12.9499\n",
      "Epoch 78/100\n",
      "2/2 [==============================] - 0s 9ms/step - loss: 11.1464 - mae: 11.1464\n",
      "Epoch 79/100\n",
      "2/2 [==============================] - 0s 7ms/step - loss: 14.6995 - mae: 14.6995\n",
      "Epoch 80/100\n",
      "2/2 [==============================] - 0s 9ms/step - loss: 8.9224 - mae: 8.9224\n",
      "Epoch 81/100\n",
      "2/2 [==============================] - 0s 8ms/step - loss: 10.7655 - mae: 10.7655\n",
      "Epoch 82/100\n",
      "2/2 [==============================] - 0s 8ms/step - loss: 8.3866 - mae: 8.3866\n",
      "Epoch 83/100\n",
      "2/2 [==============================] - 0s 5ms/step - loss: 9.2220 - mae: 9.2220\n",
      "Epoch 84/100\n",
      "2/2 [==============================] - 0s 7ms/step - loss: 8.9397 - mae: 8.9397\n",
      "Epoch 85/100\n",
      "2/2 [==============================] - 0s 5ms/step - loss: 13.1972 - mae: 13.1972\n",
      "Epoch 86/100\n",
      "2/2 [==============================] - 0s 6ms/step - loss: 13.7025 - mae: 13.7025\n",
      "Epoch 87/100\n",
      "2/2 [==============================] - 0s 6ms/step - loss: 13.1868 - mae: 13.1868\n",
      "Epoch 88/100\n",
      "2/2 [==============================] - 0s 7ms/step - loss: 11.5123 - mae: 11.5123\n",
      "Epoch 89/100\n",
      "2/2 [==============================] - 0s 9ms/step - loss: 7.8011 - mae: 7.8011\n",
      "Epoch 90/100\n",
      "2/2 [==============================] - 0s 8ms/step - loss: 10.9268 - mae: 10.9268\n",
      "Epoch 91/100\n",
      "2/2 [==============================] - 0s 7ms/step - loss: 6.7468 - mae: 6.7468\n",
      "Epoch 92/100\n",
      "2/2 [==============================] - 0s 7ms/step - loss: 10.1193 - mae: 10.1193\n",
      "Epoch 93/100\n",
      "2/2 [==============================] - 0s 10ms/step - loss: 7.6051 - mae: 7.6051\n",
      "Epoch 94/100\n",
      "2/2 [==============================] - 0s 8ms/step - loss: 9.2374 - mae: 9.2374\n",
      "Epoch 95/100\n",
      "2/2 [==============================] - 0s 5ms/step - loss: 10.8270 - mae: 10.8270\n",
      "Epoch 96/100\n",
      "2/2 [==============================] - 0s 8ms/step - loss: 10.2924 - mae: 10.2924\n",
      "Epoch 97/100\n",
      "2/2 [==============================] - 0s 9ms/step - loss: 7.6771 - mae: 7.6771\n",
      "Epoch 98/100\n",
      "2/2 [==============================] - 0s 6ms/step - loss: 8.6122 - mae: 8.6122\n",
      "Epoch 99/100\n",
      "2/2 [==============================] - 0s 8ms/step - loss: 9.3907 - mae: 9.3907\n",
      "Epoch 100/100\n",
      "2/2 [==============================] - 0s 9ms/step - loss: 8.8365 - mae: 8.8365\n"
     ]
    },
    {
     "data": {
      "text/plain": [
       "<keras.src.callbacks.History at 0x205fa69eec0>"
      ]
     },
     "execution_count": 38,
     "metadata": {},
     "output_type": "execute_result"
    }
   ],
   "source": [
    "model1=tf.keras.Sequential([\n",
    "    tf.keras.layers.Dense(1,input_shape=[1])\n",
    "])\n",
    "\n",
    "model1.compile(loss=tf.keras.losses.mae,optimizer=tf.keras.optimizers.SGD(),metrics=['mae'])\n",
    "\n",
    "model1.fit(x_train,y_train,epochs=100)"
   ]
  },
  {
   "cell_type": "code",
   "execution_count": 39,
   "id": "ac117adb-82c0-4d08-a335-7b380b7a125e",
   "metadata": {},
   "outputs": [
    {
     "name": "stdout",
     "output_type": "stream",
     "text": [
      "1/1 [==============================] - 0s 100ms/step\n"
     ]
    }
   ],
   "source": [
    "y_pred1=model1.predict(x_test)"
   ]
  },
  {
   "cell_type": "code",
   "execution_count": 40,
   "id": "f3862c5d-63bd-4eb0-97df-05fb7d7fcdb2",
   "metadata": {},
   "outputs": [
    {
     "data": {
      "image/png": "[encoded data removed]",
      "text/plain": [
       "<Figure size 1000x500 with 1 Axes>"
      ]
     },
     "metadata": {},
     "output_type": "display_data"
    }
   ],
   "source": [
    "plot_graph(predictions=y_pred1)"
   ]
  },
  {
   "cell_type": "code",
   "execution_count": 41,
   "id": "8c0f632b-101a-47c5-9d3c-75174ec4dc9e",
   "metadata": {},
   "outputs": [
    {
     "data": {
      "text/plain": [
       "(<tf.Tensor: shape=(), dtype=float32, numpy=8.636036>,\n",
       " <tf.Tensor: shape=(), dtype=float32, numpy=81.09791>)"
      ]
     },
     "execution_count": 41,
     "metadata": {},
     "output_type": "execute_result"
    }
   ],
   "source": [
    "mae1=tf.keras.losses.mae(y_test,tf.squeeze(y_pred1))\n",
    "mse1=tf.keras.losses.mse(y_test,tf.squeeze(y_pred1))\n",
    "mae1,mse1"
   ]
  },
  {
   "cell_type": "code",
   "execution_count": 42,
   "id": "c8f40d6f-eef9-4bbe-96e0-f9d64e6f7a1c",
   "metadata": {},
   "outputs": [
    {
     "name": "stdout",
     "output_type": "stream",
     "text": [
      "Epoch 1/100\n",
      "2/2 [==============================] - 0s 7ms/step - loss: 32.3107 - mae: 32.3107\n",
      "Epoch 2/100\n",
      "2/2 [==============================] - 0s 9ms/step - loss: 26.8535 - mae: 26.8535\n",
      "Epoch 3/100\n",
      "2/2 [==============================] - 0s 8ms/step - loss: 13.9617 - mae: 13.9617\n",
      "Epoch 4/100\n",
      "2/2 [==============================] - 0s 9ms/step - loss: 14.4619 - mae: 14.4619\n",
      "Epoch 5/100\n",
      "2/2 [==============================] - 0s 7ms/step - loss: 11.9907 - mae: 11.9907\n",
      "Epoch 6/100\n",
      "2/2 [==============================] - 0s 6ms/step - loss: 7.9837 - mae: 7.9837\n",
      "Epoch 7/100\n",
      "2/2 [==============================] - 0s 9ms/step - loss: 11.3249 - mae: 11.3249\n",
      "Epoch 8/100\n",
      "2/2 [==============================] - 0s 12ms/step - loss: 11.8884 - mae: 11.8884\n",
      "Epoch 9/100\n",
      "2/2 [==============================] - 0s 6ms/step - loss: 30.7978 - mae: 30.7978\n",
      "Epoch 10/100\n",
      "2/2 [==============================] - 0s 9ms/step - loss: 17.7294 - mae: 17.7294\n",
      "Epoch 11/100\n",
      "2/2 [==============================] - 0s 13ms/step - loss: 8.4720 - mae: 8.4720\n",
      "Epoch 12/100\n",
      "2/2 [==============================] - 0s 10ms/step - loss: 19.7653 - mae: 19.7653\n",
      "Epoch 13/100\n",
      "2/2 [==============================] - 0s 8ms/step - loss: 5.8089 - mae: 5.8089\n",
      "Epoch 14/100\n",
      "2/2 [==============================] - 0s 9ms/step - loss: 18.5124 - mae: 18.5124\n",
      "Epoch 15/100\n",
      "2/2 [==============================] - 0s 7ms/step - loss: 7.7974 - mae: 7.7974\n",
      "Epoch 16/100\n",
      "2/2 [==============================] - 0s 14ms/step - loss: 10.9623 - mae: 10.9623\n",
      "Epoch 17/100\n",
      "2/2 [==============================] - 0s 7ms/step - loss: 16.1106 - mae: 16.1106\n",
      "Epoch 18/100\n",
      "2/2 [==============================] - 0s 10ms/step - loss: 11.6467 - mae: 11.6467\n",
      "Epoch 19/100\n",
      "2/2 [==============================] - 0s 8ms/step - loss: 9.5309 - mae: 9.5309\n",
      "Epoch 20/100\n",
      "2/2 [==============================] - 0s 7ms/step - loss: 5.4199 - mae: 5.4199\n",
      "Epoch 21/100\n",
      "2/2 [==============================] - 0s 7ms/step - loss: 12.4920 - mae: 12.4920\n",
      "Epoch 22/100\n",
      "2/2 [==============================] - 0s 15ms/step - loss: 18.7830 - mae: 18.7830\n",
      "Epoch 23/100\n",
      "2/2 [==============================] - 0s 14ms/step - loss: 8.7032 - mae: 8.7032\n",
      "Epoch 24/100\n",
      "2/2 [==============================] - 0s 6ms/step - loss: 12.6074 - mae: 12.6074\n",
      "Epoch 25/100\n",
      "2/2 [==============================] - 0s 11ms/step - loss: 16.5395 - mae: 16.5395\n",
      "Epoch 26/100\n",
      "2/2 [==============================] - 0s 9ms/step - loss: 17.9001 - mae: 17.9001\n",
      "Epoch 27/100\n",
      "2/2 [==============================] - 0s 10ms/step - loss: 11.7666 - mae: 11.7666\n",
      "Epoch 28/100\n",
      "2/2 [==============================] - 0s 7ms/step - loss: 11.0448 - mae: 11.0448\n",
      "Epoch 29/100\n",
      "2/2 [==============================] - 0s 5ms/step - loss: 5.2195 - mae: 5.2195\n",
      "Epoch 30/100\n",
      "2/2 [==============================] - 0s 8ms/step - loss: 22.6095 - mae: 22.6095\n",
      "Epoch 31/100\n",
      "2/2 [==============================] - 0s 9ms/step - loss: 9.7737 - mae: 9.7737\n",
      "Epoch 32/100\n",
      "2/2 [==============================] - 0s 12ms/step - loss: 11.9316 - mae: 11.9316\n",
      "Epoch 33/100\n",
      "2/2 [==============================] - 0s 9ms/step - loss: 8.6515 - mae: 8.6515\n",
      "Epoch 34/100\n",
      "2/2 [==============================] - 0s 9ms/step - loss: 14.7496 - mae: 14.7496\n",
      "Epoch 35/100\n",
      "2/2 [==============================] - 0s 11ms/step - loss: 7.8026 - mae: 7.8026\n",
      "Epoch 36/100\n",
      "2/2 [==============================] - 0s 8ms/step - loss: 17.6792 - mae: 17.6792\n",
      "Epoch 37/100\n",
      "2/2 [==============================] - 0s 8ms/step - loss: 7.1915 - mae: 7.1915\n",
      "Epoch 38/100\n",
      "2/2 [==============================] - 0s 8ms/step - loss: 11.3217 - mae: 11.3217\n",
      "Epoch 39/100\n",
      "2/2 [==============================] - 0s 11ms/step - loss: 15.6658 - mae: 15.6658\n",
      "Epoch 40/100\n",
      "2/2 [==============================] - 0s 7ms/step - loss: 13.2339 - mae: 13.2339\n",
      "Epoch 41/100\n",
      "2/2 [==============================] - 0s 8ms/step - loss: 6.8512 - mae: 6.8512\n",
      "Epoch 42/100\n",
      "2/2 [==============================] - 0s 9ms/step - loss: 11.8691 - mae: 11.8691\n",
      "Epoch 43/100\n",
      "2/2 [==============================] - 0s 8ms/step - loss: 9.4146 - mae: 9.4146\n",
      "Epoch 44/100\n",
      "2/2 [==============================] - 0s 9ms/step - loss: 23.3107 - mae: 23.3107\n",
      "Epoch 45/100\n",
      "2/2 [==============================] - 0s 9ms/step - loss: 13.9532 - mae: 13.9532\n",
      "Epoch 46/100\n",
      "2/2 [==============================] - 0s 8ms/step - loss: 6.5190 - mae: 6.5190\n",
      "Epoch 47/100\n",
      "2/2 [==============================] - 0s 13ms/step - loss: 8.5560 - mae: 8.5560\n",
      "Epoch 48/100\n",
      "2/2 [==============================] - 0s 10ms/step - loss: 10.6550 - mae: 10.6550\n",
      "Epoch 49/100\n",
      "2/2 [==============================] - 0s 10ms/step - loss: 8.9247 - mae: 8.9247\n",
      "Epoch 50/100\n",
      "2/2 [==============================] - 0s 9ms/step - loss: 12.3954 - mae: 12.3954\n",
      "Epoch 51/100\n",
      "2/2 [==============================] - 0s 8ms/step - loss: 9.0839 - mae: 9.0839\n",
      "Epoch 52/100\n",
      "2/2 [==============================] - 0s 12ms/step - loss: 18.6420 - mae: 18.6420\n",
      "Epoch 53/100\n",
      "2/2 [==============================] - 0s 11ms/step - loss: 8.3411 - mae: 8.3411\n",
      "Epoch 54/100\n",
      "2/2 [==============================] - 0s 7ms/step - loss: 14.5615 - mae: 14.5615\n",
      "Epoch 55/100\n",
      "2/2 [==============================] - 0s 10ms/step - loss: 21.6805 - mae: 21.6805\n",
      "Epoch 56/100\n",
      "2/2 [==============================] - 0s 9ms/step - loss: 13.1040 - mae: 13.1040\n",
      "Epoch 57/100\n",
      "2/2 [==============================] - 0s 8ms/step - loss: 6.7992 - mae: 6.7992\n",
      "Epoch 58/100\n",
      "2/2 [==============================] - 0s 9ms/step - loss: 6.6038 - mae: 6.6038\n",
      "Epoch 59/100\n",
      "2/2 [==============================] - 0s 9ms/step - loss: 12.7243 - mae: 12.7243\n",
      "Epoch 60/100\n",
      "2/2 [==============================] - 0s 9ms/step - loss: 11.4627 - mae: 11.4627\n",
      "Epoch 61/100\n",
      "2/2 [==============================] - 0s 8ms/step - loss: 15.0628 - mae: 15.0628\n",
      "Epoch 62/100\n",
      "2/2 [==============================] - 0s 8ms/step - loss: 7.8126 - mae: 7.8126\n",
      "Epoch 63/100\n",
      "2/2 [==============================] - 0s 8ms/step - loss: 7.0883 - mae: 7.0883\n",
      "Epoch 64/100\n",
      "2/2 [==============================] - 0s 11ms/step - loss: 16.5933 - mae: 16.5933\n",
      "Epoch 65/100\n",
      "2/2 [==============================] - 0s 10ms/step - loss: 12.6139 - mae: 12.6139\n",
      "Epoch 66/100\n",
      "2/2 [==============================] - 0s 8ms/step - loss: 10.5540 - mae: 10.5540\n",
      "Epoch 67/100\n",
      "2/2 [==============================] - 0s 8ms/step - loss: 6.2682 - mae: 6.2682\n",
      "Epoch 68/100\n",
      "2/2 [==============================] - 0s 8ms/step - loss: 11.2340 - mae: 11.2340\n",
      "Epoch 69/100\n",
      "2/2 [==============================] - 0s 7ms/step - loss: 19.9243 - mae: 19.9243\n",
      "Epoch 70/100\n",
      "2/2 [==============================] - 0s 10ms/step - loss: 9.6606 - mae: 9.6606\n",
      "Epoch 71/100\n",
      "2/2 [==============================] - 0s 8ms/step - loss: 9.4261 - mae: 9.4261\n",
      "Epoch 72/100\n",
      "2/2 [==============================] - 0s 9ms/step - loss: 11.9029 - mae: 11.9029\n",
      "Epoch 73/100\n",
      "2/2 [==============================] - 0s 7ms/step - loss: 10.8217 - mae: 10.8217\n",
      "Epoch 74/100\n",
      "2/2 [==============================] - 0s 5ms/step - loss: 25.3896 - mae: 25.3896\n",
      "Epoch 75/100\n",
      "2/2 [==============================] - 0s 7ms/step - loss: 4.4406 - mae: 4.4406\n",
      "Epoch 76/100\n",
      "2/2 [==============================] - 0s 8ms/step - loss: 14.6495 - mae: 14.6495\n",
      "Epoch 77/100\n",
      "2/2 [==============================] - 0s 8ms/step - loss: 12.8704 - mae: 12.8704\n",
      "Epoch 78/100\n",
      "2/2 [==============================] - 0s 8ms/step - loss: 6.7612 - mae: 6.7612\n",
      "Epoch 79/100\n",
      "2/2 [==============================] - 0s 6ms/step - loss: 15.1417 - mae: 15.1417\n",
      "Epoch 80/100\n",
      "2/2 [==============================] - 0s 5ms/step - loss: 24.0731 - mae: 24.0731\n",
      "Epoch 81/100\n",
      "2/2 [==============================] - 0s 5ms/step - loss: 10.4201 - mae: 10.4201\n",
      "Epoch 82/100\n",
      "2/2 [==============================] - 0s 5ms/step - loss: 15.1509 - mae: 15.1509\n",
      "Epoch 83/100\n",
      "2/2 [==============================] - 0s 6ms/step - loss: 5.1584 - mae: 5.1584\n",
      "Epoch 84/100\n",
      "2/2 [==============================] - 0s 9ms/step - loss: 7.9383 - mae: 7.9383\n",
      "Epoch 85/100\n",
      "2/2 [==============================] - 0s 8ms/step - loss: 15.6463 - mae: 15.6463\n",
      "Epoch 86/100\n",
      "2/2 [==============================] - 0s 6ms/step - loss: 12.6274 - mae: 12.6274\n",
      "Epoch 87/100\n",
      "2/2 [==============================] - 0s 5ms/step - loss: 10.8884 - mae: 10.8884\n",
      "Epoch 88/100\n",
      "2/2 [==============================] - 0s 5ms/step - loss: 9.2372 - mae: 9.2372\n",
      "Epoch 89/100\n",
      "2/2 [==============================] - 0s 6ms/step - loss: 6.7067 - mae: 6.7067\n",
      "Epoch 90/100\n",
      "2/2 [==============================] - 0s 7ms/step - loss: 16.1145 - mae: 16.1145\n",
      "Epoch 91/100\n",
      "2/2 [==============================] - 0s 7ms/step - loss: 11.4773 - mae: 11.4773\n",
      "Epoch 92/100\n",
      "2/2 [==============================] - 0s 10ms/step - loss: 8.9936 - mae: 8.9936\n",
      "Epoch 93/100\n",
      "2/2 [==============================] - 0s 9ms/step - loss: 9.2326 - mae: 9.2326\n",
      "Epoch 94/100\n",
      "2/2 [==============================] - 0s 10ms/step - loss: 12.6717 - mae: 12.6717\n",
      "Epoch 95/100\n",
      "2/2 [==============================] - 0s 5ms/step - loss: 15.0660 - mae: 15.0660\n",
      "Epoch 96/100\n",
      "2/2 [==============================] - 0s 5ms/step - loss: 7.9752 - mae: 7.9752\n",
      "Epoch 97/100\n",
      "2/2 [==============================] - 0s 6ms/step - loss: 9.3715 - mae: 9.3715\n",
      "Epoch 98/100\n",
      "2/2 [==============================] - 0s 5ms/step - loss: 8.0760 - mae: 8.0760\n",
      "Epoch 99/100\n",
      "2/2 [==============================] - 0s 7ms/step - loss: 8.9549 - mae: 8.9549\n",
      "Epoch 100/100\n",
      "2/2 [==============================] - 0s 6ms/step - loss: 17.4045 - mae: 17.4045\n"
     ]
    },
    {
     "data": {
      "text/plain": [
       "<keras.src.callbacks.History at 0x205fa917fd0>"
      ]
     },
     "execution_count": 42,
     "metadata": {},
     "output_type": "execute_result"
    }
   ],
   "source": [
    "# model2\n",
    "model2=tf.keras.Sequential([\n",
    "    tf.keras.layers.Dense(100,input_shape=[1],activation='relu'),\n",
    "    tf.keras.layers.Dense(1)\n",
    "])\n",
    "model2.compile(loss=tf.keras.losses.mae,optimizer=tf.keras.optimizers.SGD(),metrics=['mae'])\n",
    "\n",
    "model2.fit(x_train,y_train,epochs=100)"
   ]
  },
  {
   "cell_type": "code",
   "execution_count": 43,
   "id": "3084457c-5cde-4b71-95c0-e780b0921c27",
   "metadata": {},
   "outputs": [
    {
     "name": "stdout",
     "output_type": "stream",
     "text": [
      "1/1 [==============================] - 0s 115ms/step\n"
     ]
    }
   ],
   "source": [
    "y_pred2=model2.predict(x_test)"
   ]
  },
  {
   "cell_type": "code",
   "execution_count": 44,
   "id": "cd5035fe-cb17-4dd8-be22-bd08547bd698",
   "metadata": {},
   "outputs": [
    {
     "data": {
      "image/png": "[encoded data removed]",
      "text/plain": [
       "<Figure size 1000x500 with 1 Axes>"
      ]
     },
     "metadata": {},
     "output_type": "display_data"
    }
   ],
   "source": [
    "plot_graph(predictions=y_pred2)"
   ]
  },
  {
   "cell_type": "code",
   "execution_count": 45,
   "id": "4eb180c2-c463-4ce3-b0a2-a86a43195a79",
   "metadata": {},
   "outputs": [
    {
     "data": {
      "text/plain": [
       "(<tf.Tensor: shape=(), dtype=float32, numpy=12.816312>,\n",
       " <tf.Tensor: shape=(), dtype=float32, numpy=164.52597>)"
      ]
     },
     "execution_count": 45,
     "metadata": {},
     "output_type": "execute_result"
    }
   ],
   "source": [
    "mae2=tf.keras.losses.mae(y_test,tf.squeeze(y_pred2))\n",
    "mse2=tf.keras.losses.mse(y_test,tf.squeeze(y_pred2))\n",
    "mae2,mse2"
   ]
  },
  {
   "cell_type": "code",
   "execution_count": 46,
   "id": "1ffa5c1d-270a-40b7-b56b-8b3e06c58e26",
   "metadata": {},
   "outputs": [
    {
     "name": "stdout",
     "output_type": "stream",
     "text": [
      "Epoch 1/500\n",
      "2/2 [==============================] - 0s 6ms/step - loss: 33.3441 - mae: 33.3441\n",
      "Epoch 2/500\n",
      "2/2 [==============================] - 0s 10ms/step - loss: 18.9837 - mae: 18.9837\n",
      "Epoch 3/500\n",
      "2/2 [==============================] - 0s 7ms/step - loss: 24.6076 - mae: 24.6076\n",
      "Epoch 4/500\n",
      "2/2 [==============================] - 0s 7ms/step - loss: 15.0100 - mae: 15.0100\n",
      "Epoch 5/500\n",
      "2/2 [==============================] - 0s 9ms/step - loss: 8.6699 - mae: 8.6699\n",
      "Epoch 6/500\n",
      "2/2 [==============================] - 0s 9ms/step - loss: 8.1079 - mae: 8.1079\n",
      "Epoch 7/500\n",
      "2/2 [==============================] - 0s 8ms/step - loss: 15.0334 - mae: 15.0334\n",
      "Epoch 8/500\n",
      "2/2 [==============================] - 0s 9ms/step - loss: 8.0788 - mae: 8.0788\n",
      "Epoch 9/500\n",
      "2/2 [==============================] - 0s 8ms/step - loss: 23.0024 - mae: 23.0024\n",
      "Epoch 10/500\n",
      "2/2 [==============================] - 0s 9ms/step - loss: 12.1072 - mae: 12.1072\n",
      "Epoch 11/500\n",
      "2/2 [==============================] - 0s 11ms/step - loss: 11.4508 - mae: 11.4508\n",
      "Epoch 12/500\n",
      "2/2 [==============================] - 0s 8ms/step - loss: 19.3485 - mae: 19.3485\n",
      "Epoch 13/500\n",
      "2/2 [==============================] - 0s 9ms/step - loss: 5.7759 - mae: 5.7759\n",
      "Epoch 14/500\n",
      "2/2 [==============================] - 0s 7ms/step - loss: 20.9066 - mae: 20.9066\n",
      "Epoch 15/500\n",
      "2/2 [==============================] - 0s 13ms/step - loss: 8.9032 - mae: 8.9032\n",
      "Epoch 16/500\n",
      "2/2 [==============================] - 0s 12ms/step - loss: 10.5426 - mae: 10.5426\n",
      "Epoch 17/500\n",
      "2/2 [==============================] - 0s 8ms/step - loss: 15.6547 - mae: 15.6547\n",
      "Epoch 18/500\n",
      "2/2 [==============================] - 0s 6ms/step - loss: 11.7667 - mae: 11.7667\n",
      "Epoch 19/500\n",
      "2/2 [==============================] - 0s 9ms/step - loss: 9.7404 - mae: 9.7404\n",
      "Epoch 20/500\n",
      "2/2 [==============================] - 0s 9ms/step - loss: 5.3052 - mae: 5.3052\n",
      "Epoch 21/500\n",
      "2/2 [==============================] - 0s 9ms/step - loss: 12.2654 - mae: 12.2654\n",
      "Epoch 22/500\n",
      "2/2 [==============================] - 0s 9ms/step - loss: 18.9218 - mae: 18.9218\n",
      "Epoch 23/500\n",
      "2/2 [==============================] - 0s 8ms/step - loss: 8.6656 - mae: 8.6656\n",
      "Epoch 24/500\n",
      "2/2 [==============================] - 0s 9ms/step - loss: 11.9879 - mae: 11.9879\n",
      "Epoch 25/500\n",
      "2/2 [==============================] - 0s 6ms/step - loss: 15.9618 - mae: 15.9618\n",
      "Epoch 26/500\n",
      "2/2 [==============================] - 0s 8ms/step - loss: 19.8698 - mae: 19.8698\n",
      "Epoch 27/500\n",
      "2/2 [==============================] - 0s 5ms/step - loss: 14.5113 - mae: 14.5113\n",
      "Epoch 28/500\n",
      "2/2 [==============================] - 0s 6ms/step - loss: 14.4861 - mae: 14.4861\n",
      "Epoch 29/500\n",
      "2/2 [==============================] - 0s 7ms/step - loss: 5.2225 - mae: 5.2225\n",
      "Epoch 30/500\n",
      "2/2 [==============================] - 0s 9ms/step - loss: 22.7333 - mae: 22.7333\n",
      "Epoch 31/500\n",
      "2/2 [==============================] - 0s 10ms/step - loss: 9.4564 - mae: 9.4564\n",
      "Epoch 32/500\n",
      "2/2 [==============================] - 0s 8ms/step - loss: 11.9539 - mae: 11.9539\n",
      "Epoch 33/500\n",
      "2/2 [==============================] - 0s 9ms/step - loss: 5.0544 - mae: 5.0544\n",
      "Epoch 34/500\n",
      "2/2 [==============================] - 0s 10ms/step - loss: 17.7889 - mae: 17.7889\n",
      "Epoch 35/500\n",
      "2/2 [==============================] - 0s 7ms/step - loss: 7.1750 - mae: 7.1750\n",
      "Epoch 36/500\n",
      "2/2 [==============================] - 0s 8ms/step - loss: 18.0847 - mae: 18.0847\n",
      "Epoch 37/500\n",
      "2/2 [==============================] - 0s 5ms/step - loss: 7.7586 - mae: 7.7586\n",
      "Epoch 38/500\n",
      "2/2 [==============================] - 0s 10ms/step - loss: 9.6792 - mae: 9.6792\n",
      "Epoch 39/500\n",
      "2/2 [==============================] - 0s 7ms/step - loss: 15.0313 - mae: 15.0313\n",
      "Epoch 40/500\n",
      "2/2 [==============================] - 0s 8ms/step - loss: 13.3388 - mae: 13.3388\n",
      "Epoch 41/500\n",
      "2/2 [==============================] - 0s 9ms/step - loss: 6.9377 - mae: 6.9377\n",
      "Epoch 42/500\n",
      "2/2 [==============================] - 0s 9ms/step - loss: 11.8677 - mae: 11.8677\n",
      "Epoch 43/500\n",
      "2/2 [==============================] - 0s 12ms/step - loss: 9.3150 - mae: 9.3150\n",
      "Epoch 44/500\n",
      "2/2 [==============================] - 0s 11ms/step - loss: 17.0833 - mae: 17.0833\n",
      "Epoch 45/500\n",
      "2/2 [==============================] - 0s 9ms/step - loss: 9.1804 - mae: 9.1804\n",
      "Epoch 46/500\n",
      "2/2 [==============================] - 0s 11ms/step - loss: 9.8076 - mae: 9.8076\n",
      "Epoch 47/500\n",
      "2/2 [==============================] - 0s 10ms/step - loss: 5.7232 - mae: 5.7232\n",
      "Epoch 48/500\n",
      "2/2 [==============================] - 0s 8ms/step - loss: 10.6658 - mae: 10.6658\n",
      "Epoch 49/500\n",
      "2/2 [==============================] - 0s 10ms/step - loss: 8.9442 - mae: 8.9442\n",
      "Epoch 50/500\n",
      "2/2 [==============================] - 0s 11ms/step - loss: 12.4095 - mae: 12.4095\n",
      "Epoch 51/500\n",
      "2/2 [==============================] - 0s 9ms/step - loss: 9.0084 - mae: 9.0084\n",
      "Epoch 52/500\n",
      "2/2 [==============================] - 0s 7ms/step - loss: 18.6579 - mae: 18.6579\n",
      "Epoch 53/500\n",
      "2/2 [==============================] - 0s 9ms/step - loss: 8.3358 - mae: 8.3358\n",
      "Epoch 54/500\n",
      "2/2 [==============================] - 0s 8ms/step - loss: 14.5747 - mae: 14.5747\n",
      "Epoch 55/500\n",
      "2/2 [==============================] - 0s 11ms/step - loss: 21.6913 - mae: 21.6913\n",
      "Epoch 56/500\n",
      "2/2 [==============================] - 0s 9ms/step - loss: 13.1173 - mae: 13.1173\n",
      "Epoch 57/500\n",
      "2/2 [==============================] - 0s 8ms/step - loss: 6.7546 - mae: 6.7546\n",
      "Epoch 58/500\n",
      "2/2 [==============================] - 0s 8ms/step - loss: 6.5972 - mae: 6.5972\n",
      "Epoch 59/500\n",
      "2/2 [==============================] - 0s 12ms/step - loss: 12.7295 - mae: 12.7295\n",
      "Epoch 60/500\n",
      "2/2 [==============================] - 0s 7ms/step - loss: 11.4475 - mae: 11.4475\n",
      "Epoch 61/500\n",
      "2/2 [==============================] - 0s 9ms/step - loss: 15.0688 - mae: 15.0688\n",
      "Epoch 62/500\n",
      "2/2 [==============================] - 0s 8ms/step - loss: 7.8168 - mae: 7.8168\n",
      "Epoch 63/500\n",
      "2/2 [==============================] - 0s 9ms/step - loss: 7.0483 - mae: 7.0483\n",
      "Epoch 64/500\n",
      "2/2 [==============================] - 0s 9ms/step - loss: 16.5000 - mae: 16.5000\n",
      "Epoch 65/500\n",
      "2/2 [==============================] - 0s 11ms/step - loss: 12.6511 - mae: 12.6511\n",
      "Epoch 66/500\n",
      "2/2 [==============================] - 0s 10ms/step - loss: 11.2924 - mae: 11.2924\n",
      "Epoch 67/500\n",
      "2/2 [==============================] - 0s 9ms/step - loss: 6.4995 - mae: 6.4995\n",
      "Epoch 68/500\n",
      "2/2 [==============================] - 0s 8ms/step - loss: 11.3515 - mae: 11.3515\n",
      "Epoch 69/500\n",
      "2/2 [==============================] - 0s 7ms/step - loss: 20.1069 - mae: 20.1069\n",
      "Epoch 70/500\n",
      "2/2 [==============================] - 0s 8ms/step - loss: 8.4538 - mae: 8.4538\n",
      "Epoch 71/500\n",
      "2/2 [==============================] - 0s 13ms/step - loss: 8.5345 - mae: 8.5345\n",
      "Epoch 72/500\n",
      "2/2 [==============================] - 0s 9ms/step - loss: 10.3569 - mae: 10.3569\n",
      "Epoch 73/500\n",
      "2/2 [==============================] - 0s 9ms/step - loss: 11.3141 - mae: 11.3141\n",
      "Epoch 74/500\n",
      "2/2 [==============================] - 0s 9ms/step - loss: 24.7500 - mae: 24.7500\n",
      "Epoch 75/500\n",
      "2/2 [==============================] - 0s 10ms/step - loss: 4.9005 - mae: 4.9005\n",
      "Epoch 76/500\n",
      "2/2 [==============================] - 0s 8ms/step - loss: 14.3896 - mae: 14.3896\n",
      "Epoch 77/500\n",
      "2/2 [==============================] - 0s 9ms/step - loss: 12.6972 - mae: 12.6972\n",
      "Epoch 78/500\n",
      "2/2 [==============================] - 0s 7ms/step - loss: 7.3544 - mae: 7.3544\n",
      "Epoch 79/500\n",
      "2/2 [==============================] - 0s 9ms/step - loss: 15.2872 - mae: 15.2872\n",
      "Epoch 80/500\n",
      "2/2 [==============================] - 0s 10ms/step - loss: 23.2370 - mae: 23.2370\n",
      "Epoch 81/500\n",
      "2/2 [==============================] - 0s 11ms/step - loss: 8.9430 - mae: 8.9430\n",
      "Epoch 82/500\n",
      "2/2 [==============================] - 0s 10ms/step - loss: 14.9408 - mae: 14.9408\n",
      "Epoch 83/500\n",
      "2/2 [==============================] - 0s 9ms/step - loss: 4.9696 - mae: 4.9696\n",
      "Epoch 84/500\n",
      "2/2 [==============================] - 0s 10ms/step - loss: 8.0256 - mae: 8.0256\n",
      "Epoch 85/500\n",
      "2/2 [==============================] - 0s 7ms/step - loss: 15.6438 - mae: 15.6438\n",
      "Epoch 86/500\n",
      "2/2 [==============================] - 0s 6ms/step - loss: 12.8009 - mae: 12.8009\n",
      "Epoch 87/500\n",
      "2/2 [==============================] - 0s 7ms/step - loss: 10.9571 - mae: 10.9571\n",
      "Epoch 88/500\n",
      "2/2 [==============================] - 0s 9ms/step - loss: 9.9757 - mae: 9.9757\n",
      "Epoch 89/500\n",
      "2/2 [==============================] - 0s 8ms/step - loss: 6.6594 - mae: 6.6594\n",
      "Epoch 90/500\n",
      "2/2 [==============================] - 0s 9ms/step - loss: 15.9001 - mae: 15.9001\n",
      "Epoch 91/500\n",
      "2/2 [==============================] - 0s 8ms/step - loss: 11.5130 - mae: 11.5130\n",
      "Epoch 92/500\n",
      "2/2 [==============================] - 0s 7ms/step - loss: 8.6950 - mae: 8.6950\n",
      "Epoch 93/500\n",
      "2/2 [==============================] - 0s 6ms/step - loss: 9.4790 - mae: 9.4790\n",
      "Epoch 94/500\n",
      "2/2 [==============================] - 0s 7ms/step - loss: 12.6548 - mae: 12.6548\n",
      "Epoch 95/500\n",
      "2/2 [==============================] - 0s 10ms/step - loss: 14.9452 - mae: 14.9452\n",
      "Epoch 96/500\n",
      "2/2 [==============================] - 0s 8ms/step - loss: 7.9730 - mae: 7.9730\n",
      "Epoch 97/500\n",
      "2/2 [==============================] - 0s 10ms/step - loss: 8.1425 - mae: 8.1425\n",
      "Epoch 98/500\n",
      "2/2 [==============================] - 0s 8ms/step - loss: 9.1679 - mae: 9.1679\n",
      "Epoch 99/500\n",
      "2/2 [==============================] - 0s 9ms/step - loss: 9.0484 - mae: 9.0484\n",
      "Epoch 100/500\n",
      "2/2 [==============================] - 0s 9ms/step - loss: 17.6175 - mae: 17.6175\n",
      "Epoch 101/500\n",
      "2/2 [==============================] - 0s 8ms/step - loss: 9.9058 - mae: 9.9058\n",
      "Epoch 102/500\n",
      "2/2 [==============================] - 0s 9ms/step - loss: 7.2964 - mae: 7.2964\n",
      "Epoch 103/500\n",
      "2/2 [==============================] - 0s 8ms/step - loss: 7.3497 - mae: 7.3497\n",
      "Epoch 104/500\n",
      "2/2 [==============================] - 0s 8ms/step - loss: 17.5533 - mae: 17.5533\n",
      "Epoch 105/500\n",
      "2/2 [==============================] - 0s 9ms/step - loss: 6.3944 - mae: 6.3944\n",
      "Epoch 106/500\n",
      "2/2 [==============================] - 0s 9ms/step - loss: 7.8035 - mae: 7.8035\n",
      "Epoch 107/500\n",
      "2/2 [==============================] - 0s 8ms/step - loss: 17.0169 - mae: 17.0169\n",
      "Epoch 108/500\n",
      "2/2 [==============================] - 0s 9ms/step - loss: 9.1452 - mae: 9.1452\n",
      "Epoch 109/500\n",
      "2/2 [==============================] - 0s 8ms/step - loss: 4.7857 - mae: 4.7857\n",
      "Epoch 110/500\n",
      "2/2 [==============================] - 0s 9ms/step - loss: 10.0452 - mae: 10.0452\n",
      "Epoch 111/500\n",
      "2/2 [==============================] - 0s 8ms/step - loss: 11.5574 - mae: 11.5574\n",
      "Epoch 112/500\n",
      "2/2 [==============================] - 0s 12ms/step - loss: 6.3649 - mae: 6.3649\n",
      "Epoch 113/500\n",
      "2/2 [==============================] - 0s 9ms/step - loss: 13.7151 - mae: 13.7151\n",
      "Epoch 114/500\n",
      "2/2 [==============================] - 0s 10ms/step - loss: 15.9880 - mae: 15.9880\n",
      "Epoch 115/500\n",
      "2/2 [==============================] - 0s 9ms/step - loss: 11.5926 - mae: 11.5926\n",
      "Epoch 116/500\n",
      "2/2 [==============================] - 0s 9ms/step - loss: 6.8569 - mae: 6.8569\n",
      "Epoch 117/500\n",
      "2/2 [==============================] - 0s 8ms/step - loss: 9.3488 - mae: 9.3488\n",
      "Epoch 118/500\n",
      "2/2 [==============================] - 0s 8ms/step - loss: 9.9909 - mae: 9.9909\n",
      "Epoch 119/500\n",
      "2/2 [==============================] - 0s 7ms/step - loss: 8.0544 - mae: 8.0544\n",
      "Epoch 120/500\n",
      "2/2 [==============================] - 0s 9ms/step - loss: 8.6903 - mae: 8.6903\n",
      "Epoch 121/500\n",
      "2/2 [==============================] - 0s 7ms/step - loss: 7.7842 - mae: 7.7842\n",
      "Epoch 122/500\n",
      "2/2 [==============================] - 0s 9ms/step - loss: 21.5719 - mae: 21.5719\n",
      "Epoch 123/500\n",
      "2/2 [==============================] - 0s 10ms/step - loss: 7.2461 - mae: 7.2461\n",
      "Epoch 124/500\n",
      "2/2 [==============================] - 0s 10ms/step - loss: 17.1578 - mae: 17.1578\n",
      "Epoch 125/500\n",
      "2/2 [==============================] - 0s 10ms/step - loss: 4.6799 - mae: 4.6799\n",
      "Epoch 126/500\n",
      "2/2 [==============================] - 0s 9ms/step - loss: 9.1242 - mae: 9.1242\n",
      "Epoch 127/500\n",
      "2/2 [==============================] - 0s 8ms/step - loss: 8.4665 - mae: 8.4665\n",
      "Epoch 128/500\n",
      "2/2 [==============================] - 0s 9ms/step - loss: 16.6223 - mae: 16.6223\n",
      "Epoch 129/500\n",
      "2/2 [==============================] - 0s 7ms/step - loss: 11.0731 - mae: 11.0731\n",
      "Epoch 130/500\n",
      "2/2 [==============================] - 0s 11ms/step - loss: 10.7126 - mae: 10.7126\n",
      "Epoch 131/500\n",
      "2/2 [==============================] - 0s 8ms/step - loss: 8.0019 - mae: 8.0019\n",
      "Epoch 132/500\n",
      "2/2 [==============================] - 0s 9ms/step - loss: 5.7576 - mae: 5.7576\n",
      "Epoch 133/500\n",
      "2/2 [==============================] - 0s 9ms/step - loss: 11.8111 - mae: 11.8111\n",
      "Epoch 134/500\n",
      "2/2 [==============================] - 0s 9ms/step - loss: 14.4875 - mae: 14.4875\n",
      "Epoch 135/500\n",
      "2/2 [==============================] - 0s 9ms/step - loss: 5.8610 - mae: 5.8610\n",
      "Epoch 136/500\n",
      "2/2 [==============================] - 0s 11ms/step - loss: 11.9353 - mae: 11.9353\n",
      "Epoch 137/500\n",
      "2/2 [==============================] - 0s 7ms/step - loss: 12.4590 - mae: 12.4590\n",
      "Epoch 138/500\n",
      "2/2 [==============================] - 0s 10ms/step - loss: 9.4937 - mae: 9.4937\n",
      "Epoch 139/500\n",
      "2/2 [==============================] - 0s 9ms/step - loss: 8.0489 - mae: 8.0489\n",
      "Epoch 140/500\n",
      "2/2 [==============================] - 0s 10ms/step - loss: 13.4347 - mae: 13.4347\n",
      "Epoch 141/500\n",
      "2/2 [==============================] - 0s 8ms/step - loss: 11.7063 - mae: 11.7063\n",
      "Epoch 142/500\n",
      "2/2 [==============================] - 0s 9ms/step - loss: 15.8428 - mae: 15.8428\n",
      "Epoch 143/500\n",
      "2/2 [==============================] - 0s 8ms/step - loss: 14.2248 - mae: 14.2248\n",
      "Epoch 144/500\n",
      "2/2 [==============================] - 0s 9ms/step - loss: 8.7090 - mae: 8.7090\n",
      "Epoch 145/500\n",
      "2/2 [==============================] - 0s 11ms/step - loss: 18.1608 - mae: 18.1608\n",
      "Epoch 146/500\n",
      "2/2 [==============================] - 0s 8ms/step - loss: 5.5820 - mae: 5.5820\n",
      "Epoch 147/500\n",
      "2/2 [==============================] - 0s 7ms/step - loss: 9.1383 - mae: 9.1383\n",
      "Epoch 148/500\n",
      "2/2 [==============================] - 0s 9ms/step - loss: 5.9258 - mae: 5.9258\n",
      "Epoch 149/500\n",
      "2/2 [==============================] - 0s 9ms/step - loss: 11.2826 - mae: 11.2826\n",
      "Epoch 150/500\n",
      "2/2 [==============================] - 0s 8ms/step - loss: 8.6305 - mae: 8.6305\n",
      "Epoch 151/500\n",
      "2/2 [==============================] - 0s 9ms/step - loss: 20.1287 - mae: 20.1287\n",
      "Epoch 152/500\n",
      "2/2 [==============================] - 0s 14ms/step - loss: 7.3834 - mae: 7.3834\n",
      "Epoch 153/500\n",
      "2/2 [==============================] - 0s 10ms/step - loss: 16.1820 - mae: 16.1820\n",
      "Epoch 154/500\n",
      "2/2 [==============================] - 0s 9ms/step - loss: 5.2508 - mae: 5.2508\n",
      "Epoch 155/500\n",
      "2/2 [==============================] - 0s 9ms/step - loss: 11.4997 - mae: 11.4997\n",
      "Epoch 156/500\n",
      "2/2 [==============================] - 0s 8ms/step - loss: 17.7499 - mae: 17.7499\n",
      "Epoch 157/500\n",
      "2/2 [==============================] - 0s 9ms/step - loss: 17.5562 - mae: 17.5562\n",
      "Epoch 158/500\n",
      "2/2 [==============================] - 0s 9ms/step - loss: 11.1945 - mae: 11.1945\n",
      "Epoch 159/500\n",
      "2/2 [==============================] - 0s 7ms/step - loss: 9.0730 - mae: 9.0730\n",
      "Epoch 160/500\n",
      "2/2 [==============================] - 0s 11ms/step - loss: 16.2447 - mae: 16.2447\n",
      "Epoch 161/500\n",
      "2/2 [==============================] - 0s 10ms/step - loss: 10.3037 - mae: 10.3037\n",
      "Epoch 162/500\n",
      "2/2 [==============================] - 0s 9ms/step - loss: 10.7872 - mae: 10.7872\n",
      "Epoch 163/500\n",
      "2/2 [==============================] - 0s 10ms/step - loss: 10.9471 - mae: 10.9471\n",
      "Epoch 164/500\n",
      "2/2 [==============================] - 0s 13ms/step - loss: 4.7492 - mae: 4.7492\n",
      "Epoch 165/500\n",
      "2/2 [==============================] - 0s 10ms/step - loss: 9.7823 - mae: 9.7823\n",
      "Epoch 166/500\n",
      "2/2 [==============================] - 0s 7ms/step - loss: 12.6598 - mae: 12.6598\n",
      "Epoch 167/500\n",
      "2/2 [==============================] - 0s 9ms/step - loss: 16.8924 - mae: 16.8924\n",
      "Epoch 168/500\n",
      "2/2 [==============================] - 0s 12ms/step - loss: 5.3607 - mae: 5.3607\n",
      "Epoch 169/500\n",
      "2/2 [==============================] - 0s 9ms/step - loss: 9.6211 - mae: 9.6211\n",
      "Epoch 170/500\n",
      "2/2 [==============================] - 0s 9ms/step - loss: 9.2892 - mae: 9.2892\n",
      "Epoch 171/500\n",
      "2/2 [==============================] - 0s 9ms/step - loss: 15.2923 - mae: 15.2923\n",
      "Epoch 172/500\n",
      "2/2 [==============================] - 0s 9ms/step - loss: 12.5100 - mae: 12.5100\n",
      "Epoch 173/500\n",
      "2/2 [==============================] - 0s 8ms/step - loss: 11.7107 - mae: 11.7107\n",
      "Epoch 174/500\n",
      "2/2 [==============================] - 0s 9ms/step - loss: 7.4119 - mae: 7.4119\n",
      "Epoch 175/500\n",
      "2/2 [==============================] - 0s 9ms/step - loss: 17.5785 - mae: 17.5785\n",
      "Epoch 176/500\n",
      "2/2 [==============================] - 0s 8ms/step - loss: 4.4545 - mae: 4.4545\n",
      "Epoch 177/500\n",
      "2/2 [==============================] - 0s 9ms/step - loss: 4.9983 - mae: 4.9983\n",
      "Epoch 178/500\n",
      "2/2 [==============================] - 0s 9ms/step - loss: 14.2608 - mae: 14.2608\n",
      "Epoch 179/500\n",
      "2/2 [==============================] - 0s 24ms/step - loss: 11.9822 - mae: 11.9822\n",
      "Epoch 180/500\n",
      "2/2 [==============================] - 0s 10ms/step - loss: 12.6880 - mae: 12.6880\n",
      "Epoch 181/500\n",
      "2/2 [==============================] - 0s 10ms/step - loss: 13.1527 - mae: 13.1527\n",
      "Epoch 182/500\n",
      "2/2 [==============================] - 0s 9ms/step - loss: 12.3564 - mae: 12.3564\n",
      "Epoch 183/500\n",
      "2/2 [==============================] - 0s 8ms/step - loss: 8.3871 - mae: 8.3871\n",
      "Epoch 184/500\n",
      "2/2 [==============================] - 0s 9ms/step - loss: 24.1896 - mae: 24.1896\n",
      "Epoch 185/500\n",
      "2/2 [==============================] - 0s 10ms/step - loss: 15.0576 - mae: 15.0576\n",
      "Epoch 186/500\n",
      "2/2 [==============================] - 0s 10ms/step - loss: 13.1975 - mae: 13.1975\n",
      "Epoch 187/500\n",
      "2/2 [==============================] - 0s 8ms/step - loss: 8.9973 - mae: 8.9973\n",
      "Epoch 188/500\n",
      "2/2 [==============================] - 0s 10ms/step - loss: 19.4806 - mae: 19.4806\n",
      "Epoch 189/500\n",
      "2/2 [==============================] - 0s 8ms/step - loss: 9.4735 - mae: 9.4735\n",
      "Epoch 190/500\n",
      "2/2 [==============================] - 0s 17ms/step - loss: 12.2204 - mae: 12.2204\n",
      "Epoch 191/500\n",
      "2/2 [==============================] - 0s 7ms/step - loss: 9.1806 - mae: 9.1806\n",
      "Epoch 192/500\n",
      "2/2 [==============================] - 0s 8ms/step - loss: 8.5621 - mae: 8.5621\n",
      "Epoch 193/500\n",
      "2/2 [==============================] - 0s 8ms/step - loss: 21.1182 - mae: 21.1182\n",
      "Epoch 194/500\n",
      "2/2 [==============================] - 0s 10ms/step - loss: 9.8318 - mae: 9.8318\n",
      "Epoch 195/500\n",
      "2/2 [==============================] - 0s 13ms/step - loss: 8.6485 - mae: 8.6485\n",
      "Epoch 196/500\n",
      "2/2 [==============================] - 0s 9ms/step - loss: 15.2439 - mae: 15.2439\n",
      "Epoch 197/500\n",
      "2/2 [==============================] - 0s 10ms/step - loss: 8.0425 - mae: 8.0425\n",
      "Epoch 198/500\n",
      "2/2 [==============================] - 0s 9ms/step - loss: 8.2606 - mae: 8.2606\n",
      "Epoch 199/500\n",
      "2/2 [==============================] - 0s 9ms/step - loss: 18.6908 - mae: 18.6908\n",
      "Epoch 200/500\n",
      "2/2 [==============================] - 0s 8ms/step - loss: 3.8814 - mae: 3.8814\n",
      "Epoch 201/500\n",
      "2/2 [==============================] - 0s 9ms/step - loss: 8.2001 - mae: 8.2001\n",
      "Epoch 202/500\n",
      "2/2 [==============================] - 0s 7ms/step - loss: 11.8583 - mae: 11.8583\n",
      "Epoch 203/500\n",
      "2/2 [==============================] - 0s 10ms/step - loss: 5.1711 - mae: 5.1711\n",
      "Epoch 204/500\n",
      "2/2 [==============================] - 0s 6ms/step - loss: 16.8751 - mae: 16.8751\n",
      "Epoch 205/500\n",
      "2/2 [==============================] - 0s 9ms/step - loss: 11.9311 - mae: 11.9311\n",
      "Epoch 206/500\n",
      "2/2 [==============================] - 0s 10ms/step - loss: 8.5086 - mae: 8.5086\n",
      "Epoch 207/500\n",
      "2/2 [==============================] - 0s 10ms/step - loss: 13.4780 - mae: 13.4780\n",
      "Epoch 208/500\n",
      "2/2 [==============================] - 0s 9ms/step - loss: 18.4488 - mae: 18.4488\n",
      "Epoch 209/500\n",
      "2/2 [==============================] - 0s 10ms/step - loss: 14.3581 - mae: 14.3581\n",
      "Epoch 210/500\n",
      "2/2 [==============================] - 0s 5ms/step - loss: 20.4299 - mae: 20.4299\n",
      "Epoch 211/500\n",
      "2/2 [==============================] - 0s 8ms/step - loss: 16.4227 - mae: 16.4227\n",
      "Epoch 212/500\n",
      "2/2 [==============================] - 0s 6ms/step - loss: 10.2160 - mae: 10.2160\n",
      "Epoch 213/500\n",
      "2/2 [==============================] - 0s 8ms/step - loss: 8.4784 - mae: 8.4784\n",
      "Epoch 214/500\n",
      "2/2 [==============================] - 0s 8ms/step - loss: 13.1522 - mae: 13.1522\n",
      "Epoch 215/500\n",
      "2/2 [==============================] - 0s 9ms/step - loss: 19.0664 - mae: 19.0664\n",
      "Epoch 216/500\n",
      "2/2 [==============================] - 0s 7ms/step - loss: 6.5200 - mae: 6.5200\n",
      "Epoch 217/500\n",
      "2/2 [==============================] - 0s 9ms/step - loss: 16.8527 - mae: 16.8527\n",
      "Epoch 218/500\n",
      "2/2 [==============================] - 0s 7ms/step - loss: 10.7270 - mae: 10.7270\n",
      "Epoch 219/500\n",
      "2/2 [==============================] - 0s 7ms/step - loss: 5.5831 - mae: 5.5831\n",
      "Epoch 220/500\n",
      "2/2 [==============================] - 0s 6ms/step - loss: 6.5550 - mae: 6.5550\n",
      "Epoch 221/500\n",
      "2/2 [==============================] - 0s 5ms/step - loss: 24.7232 - mae: 24.7232\n",
      "Epoch 222/500\n",
      "2/2 [==============================] - 0s 4ms/step - loss: 16.9169 - mae: 16.9169\n",
      "Epoch 223/500\n",
      "2/2 [==============================] - 0s 5ms/step - loss: 8.0693 - mae: 8.0693\n",
      "Epoch 224/500\n",
      "2/2 [==============================] - 0s 4ms/step - loss: 6.9702 - mae: 6.9702\n",
      "Epoch 225/500\n",
      "2/2 [==============================] - 0s 5ms/step - loss: 15.5314 - mae: 15.5314\n",
      "Epoch 226/500\n",
      "2/2 [==============================] - 0s 5ms/step - loss: 10.4701 - mae: 10.4701\n",
      "Epoch 227/500\n",
      "2/2 [==============================] - 0s 5ms/step - loss: 7.9535 - mae: 7.9535\n",
      "Epoch 228/500\n",
      "2/2 [==============================] - 0s 4ms/step - loss: 9.3461 - mae: 9.3461\n",
      "Epoch 229/500\n",
      "2/2 [==============================] - 0s 7ms/step - loss: 9.8007 - mae: 9.8007\n",
      "Epoch 230/500\n",
      "2/2 [==============================] - 0s 9ms/step - loss: 10.1167 - mae: 10.1167\n",
      "Epoch 231/500\n",
      "2/2 [==============================] - 0s 8ms/step - loss: 9.8195 - mae: 9.8195\n",
      "Epoch 232/500\n",
      "2/2 [==============================] - 0s 8ms/step - loss: 13.4032 - mae: 13.4032\n",
      "Epoch 233/500\n",
      "2/2 [==============================] - 0s 6ms/step - loss: 17.7642 - mae: 17.7642\n",
      "Epoch 234/500\n",
      "2/2 [==============================] - 0s 5ms/step - loss: 13.5841 - mae: 13.5841\n",
      "Epoch 235/500\n",
      "2/2 [==============================] - 0s 6ms/step - loss: 9.6892 - mae: 9.6892\n",
      "Epoch 236/500\n",
      "2/2 [==============================] - 0s 6ms/step - loss: 10.3496 - mae: 10.3496\n",
      "Epoch 237/500\n",
      "2/2 [==============================] - 0s 4ms/step - loss: 10.0833 - mae: 10.0833\n",
      "Epoch 238/500\n",
      "2/2 [==============================] - 0s 23ms/step - loss: 8.6037 - mae: 8.6037\n",
      "Epoch 239/500\n",
      "2/2 [==============================] - 0s 7ms/step - loss: 13.4661 - mae: 13.4661\n",
      "Epoch 240/500\n",
      "2/2 [==============================] - 0s 9ms/step - loss: 10.2599 - mae: 10.2599\n",
      "Epoch 241/500\n",
      "2/2 [==============================] - 0s 5ms/step - loss: 8.4000 - mae: 8.4000\n",
      "Epoch 242/500\n",
      "2/2 [==============================] - 0s 5ms/step - loss: 9.9520 - mae: 9.9520\n",
      "Epoch 243/500\n",
      "2/2 [==============================] - 0s 5ms/step - loss: 17.7746 - mae: 17.7746\n",
      "Epoch 244/500\n",
      "2/2 [==============================] - 0s 5ms/step - loss: 8.2664 - mae: 8.2664\n",
      "Epoch 245/500\n",
      "2/2 [==============================] - 0s 5ms/step - loss: 10.9250 - mae: 10.9250\n",
      "Epoch 246/500\n",
      "2/2 [==============================] - 0s 6ms/step - loss: 9.4950 - mae: 9.4950\n",
      "Epoch 247/500\n",
      "2/2 [==============================] - 0s 7ms/step - loss: 19.5269 - mae: 19.5269\n",
      "Epoch 248/500\n",
      "2/2 [==============================] - 0s 10ms/step - loss: 5.9897 - mae: 5.9897\n",
      "Epoch 249/500\n",
      "2/2 [==============================] - 0s 9ms/step - loss: 8.9961 - mae: 8.9961\n",
      "Epoch 250/500\n",
      "2/2 [==============================] - 0s 8ms/step - loss: 18.8379 - mae: 18.8379\n",
      "Epoch 251/500\n",
      "2/2 [==============================] - 0s 7ms/step - loss: 3.9867 - mae: 3.9867\n",
      "Epoch 252/500\n",
      "2/2 [==============================] - 0s 8ms/step - loss: 23.0316 - mae: 23.0316\n",
      "Epoch 253/500\n",
      "2/2 [==============================] - 0s 6ms/step - loss: 11.9476 - mae: 11.9476\n",
      "Epoch 254/500\n",
      "2/2 [==============================] - 0s 8ms/step - loss: 14.7481 - mae: 14.7481\n",
      "Epoch 255/500\n",
      "2/2 [==============================] - 0s 8ms/step - loss: 18.2637 - mae: 18.2637\n",
      "Epoch 256/500\n",
      "2/2 [==============================] - 0s 8ms/step - loss: 11.4778 - mae: 11.4778\n",
      "Epoch 257/500\n",
      "2/2 [==============================] - 0s 8ms/step - loss: 8.6426 - mae: 8.6426\n",
      "Epoch 258/500\n",
      "2/2 [==============================] - 0s 8ms/step - loss: 8.9094 - mae: 8.9094\n",
      "Epoch 259/500\n",
      "2/2 [==============================] - 0s 9ms/step - loss: 17.0478 - mae: 17.0478\n",
      "Epoch 260/500\n",
      "2/2 [==============================] - 0s 9ms/step - loss: 14.7344 - mae: 14.7344\n",
      "Epoch 261/500\n",
      "2/2 [==============================] - 0s 7ms/step - loss: 10.0746 - mae: 10.0746\n",
      "Epoch 262/500\n",
      "2/2 [==============================] - 0s 8ms/step - loss: 14.2458 - mae: 14.2458\n",
      "Epoch 263/500\n",
      "2/2 [==============================] - 0s 7ms/step - loss: 7.5346 - mae: 7.5346\n",
      "Epoch 264/500\n",
      "2/2 [==============================] - 0s 8ms/step - loss: 14.3224 - mae: 14.3224\n",
      "Epoch 265/500\n",
      "2/2 [==============================] - 0s 8ms/step - loss: 5.9755 - mae: 5.9755\n",
      "Epoch 266/500\n",
      "2/2 [==============================] - 0s 8ms/step - loss: 13.4539 - mae: 13.4539\n",
      "Epoch 267/500\n",
      "2/2 [==============================] - 0s 9ms/step - loss: 9.5293 - mae: 9.5293\n",
      "Epoch 268/500\n",
      "2/2 [==============================] - 0s 8ms/step - loss: 15.6390 - mae: 15.6390\n",
      "Epoch 269/500\n",
      "2/2 [==============================] - 0s 8ms/step - loss: 15.4039 - mae: 15.4039\n",
      "Epoch 270/500\n",
      "2/2 [==============================] - 0s 8ms/step - loss: 8.3602 - mae: 8.3602\n",
      "Epoch 271/500\n",
      "2/2 [==============================] - 0s 10ms/step - loss: 12.0555 - mae: 12.0555\n",
      "Epoch 272/500\n",
      "2/2 [==============================] - 0s 9ms/step - loss: 19.2134 - mae: 19.2134\n",
      "Epoch 273/500\n",
      "2/2 [==============================] - 0s 10ms/step - loss: 8.9507 - mae: 8.9507\n",
      "Epoch 274/500\n",
      "2/2 [==============================] - 0s 7ms/step - loss: 7.1678 - mae: 7.1678\n",
      "Epoch 275/500\n",
      "2/2 [==============================] - 0s 7ms/step - loss: 22.8963 - mae: 22.8963\n",
      "Epoch 276/500\n",
      "2/2 [==============================] - 0s 8ms/step - loss: 13.0265 - mae: 13.0265\n",
      "Epoch 277/500\n",
      "2/2 [==============================] - 0s 12ms/step - loss: 22.1142 - mae: 22.1142\n",
      "Epoch 278/500\n",
      "2/2 [==============================] - 0s 8ms/step - loss: 8.2685 - mae: 8.2685\n",
      "Epoch 279/500\n",
      "2/2 [==============================] - 0s 8ms/step - loss: 10.8193 - mae: 10.8193\n",
      "Epoch 280/500\n",
      "2/2 [==============================] - 0s 9ms/step - loss: 20.3984 - mae: 20.3984\n",
      "Epoch 281/500\n",
      "2/2 [==============================] - 0s 9ms/step - loss: 10.3329 - mae: 10.3329\n",
      "Epoch 282/500\n",
      "2/2 [==============================] - 0s 8ms/step - loss: 6.0454 - mae: 6.0454\n",
      "Epoch 283/500\n",
      "2/2 [==============================] - 0s 8ms/step - loss: 9.1131 - mae: 9.1131\n",
      "Epoch 284/500\n",
      "2/2 [==============================] - 0s 7ms/step - loss: 17.7992 - mae: 17.7992\n",
      "Epoch 285/500\n",
      "2/2 [==============================] - 0s 7ms/step - loss: 8.0066 - mae: 8.0066\n",
      "Epoch 286/500\n",
      "2/2 [==============================] - 0s 5ms/step - loss: 6.6440 - mae: 6.6440\n",
      "Epoch 287/500\n",
      "2/2 [==============================] - 0s 9ms/step - loss: 15.7467 - mae: 15.7467\n",
      "Epoch 288/500\n",
      "2/2 [==============================] - 0s 7ms/step - loss: 8.5323 - mae: 8.5323\n",
      "Epoch 289/500\n",
      "2/2 [==============================] - 0s 7ms/step - loss: 8.4515 - mae: 8.4515\n",
      "Epoch 290/500\n",
      "2/2 [==============================] - 0s 8ms/step - loss: 10.1807 - mae: 10.1807\n",
      "Epoch 291/500\n",
      "2/2 [==============================] - 0s 9ms/step - loss: 12.0755 - mae: 12.0755\n",
      "Epoch 292/500\n",
      "2/2 [==============================] - 0s 9ms/step - loss: 11.3254 - mae: 11.3254\n",
      "Epoch 293/500\n",
      "2/2 [==============================] - 0s 8ms/step - loss: 3.8492 - mae: 3.8492\n",
      "Epoch 294/500\n",
      "2/2 [==============================] - 0s 11ms/step - loss: 20.4687 - mae: 20.4687\n",
      "Epoch 295/500\n",
      "2/2 [==============================] - 0s 9ms/step - loss: 7.6239 - mae: 7.6239\n",
      "Epoch 296/500\n",
      "2/2 [==============================] - 0s 7ms/step - loss: 6.7918 - mae: 6.7918\n",
      "Epoch 297/500\n",
      "2/2 [==============================] - 0s 6ms/step - loss: 5.0010 - mae: 5.0010\n",
      "Epoch 298/500\n",
      "2/2 [==============================] - 0s 10ms/step - loss: 16.5647 - mae: 16.5647\n",
      "Epoch 299/500\n",
      "2/2 [==============================] - 0s 8ms/step - loss: 10.6032 - mae: 10.6032\n",
      "Epoch 300/500\n",
      "2/2 [==============================] - 0s 9ms/step - loss: 11.1296 - mae: 11.1296\n",
      "Epoch 301/500\n",
      "2/2 [==============================] - 0s 7ms/step - loss: 11.4701 - mae: 11.4701\n",
      "Epoch 302/500\n",
      "2/2 [==============================] - 0s 10ms/step - loss: 10.5141 - mae: 10.5141\n",
      "Epoch 303/500\n",
      "2/2 [==============================] - 0s 8ms/step - loss: 11.2425 - mae: 11.2425\n",
      "Epoch 304/500\n",
      "2/2 [==============================] - 0s 8ms/step - loss: 13.1065 - mae: 13.1065\n",
      "Epoch 305/500\n",
      "2/2 [==============================] - 0s 7ms/step - loss: 9.0665 - mae: 9.0665\n",
      "Epoch 306/500\n",
      "2/2 [==============================] - 0s 8ms/step - loss: 15.3724 - mae: 15.3724\n",
      "Epoch 307/500\n",
      "2/2 [==============================] - 0s 10ms/step - loss: 10.5207 - mae: 10.5207\n",
      "Epoch 308/500\n",
      "2/2 [==============================] - 0s 9ms/step - loss: 9.3136 - mae: 9.3136\n",
      "Epoch 309/500\n",
      "2/2 [==============================] - 0s 7ms/step - loss: 9.3046 - mae: 9.3046\n",
      "Epoch 310/500\n",
      "2/2 [==============================] - 0s 7ms/step - loss: 13.8484 - mae: 13.8484\n",
      "Epoch 311/500\n",
      "2/2 [==============================] - 0s 10ms/step - loss: 4.8919 - mae: 4.8919\n",
      "Epoch 312/500\n",
      "2/2 [==============================] - 0s 8ms/step - loss: 21.9909 - mae: 21.9909\n",
      "Epoch 313/500\n",
      "2/2 [==============================] - 0s 8ms/step - loss: 10.0610 - mae: 10.0610\n",
      "Epoch 314/500\n",
      "2/2 [==============================] - 0s 7ms/step - loss: 8.3395 - mae: 8.3395\n",
      "Epoch 315/500\n",
      "2/2 [==============================] - 0s 8ms/step - loss: 11.0123 - mae: 11.0123\n",
      "Epoch 316/500\n",
      "2/2 [==============================] - 0s 9ms/step - loss: 7.6187 - mae: 7.6187\n",
      "Epoch 317/500\n",
      "2/2 [==============================] - 0s 7ms/step - loss: 21.1187 - mae: 21.1187\n",
      "Epoch 318/500\n",
      "2/2 [==============================] - 0s 6ms/step - loss: 9.3850 - mae: 9.3850\n",
      "Epoch 319/500\n",
      "2/2 [==============================] - 0s 7ms/step - loss: 11.7320 - mae: 11.7320\n",
      "Epoch 320/500\n",
      "2/2 [==============================] - 0s 5ms/step - loss: 15.4944 - mae: 15.4944\n",
      "Epoch 321/500\n",
      "2/2 [==============================] - 0s 7ms/step - loss: 4.6818 - mae: 4.6818\n",
      "Epoch 322/500\n",
      "2/2 [==============================] - 0s 8ms/step - loss: 7.0552 - mae: 7.0552\n",
      "Epoch 323/500\n",
      "2/2 [==============================] - 0s 8ms/step - loss: 10.1123 - mae: 10.1123\n",
      "Epoch 324/500\n",
      "2/2 [==============================] - 0s 7ms/step - loss: 13.3581 - mae: 13.3581\n",
      "Epoch 325/500\n",
      "2/2 [==============================] - 0s 8ms/step - loss: 15.3836 - mae: 15.3836\n",
      "Epoch 326/500\n",
      "2/2 [==============================] - 0s 6ms/step - loss: 7.6607 - mae: 7.6607\n",
      "Epoch 327/500\n",
      "2/2 [==============================] - 0s 5ms/step - loss: 5.6049 - mae: 5.6049\n",
      "Epoch 328/500\n",
      "2/2 [==============================] - 0s 6ms/step - loss: 6.4032 - mae: 6.4032\n",
      "Epoch 329/500\n",
      "2/2 [==============================] - 0s 4ms/step - loss: 9.4454 - mae: 9.4454\n",
      "Epoch 330/500\n",
      "2/2 [==============================] - 0s 5ms/step - loss: 9.4381 - mae: 9.4381\n",
      "Epoch 331/500\n",
      "2/2 [==============================] - 0s 6ms/step - loss: 15.2542 - mae: 15.2542\n",
      "Epoch 332/500\n",
      "2/2 [==============================] - 0s 9ms/step - loss: 10.4838 - mae: 10.4838\n",
      "Epoch 333/500\n",
      "2/2 [==============================] - 0s 8ms/step - loss: 5.4727 - mae: 5.4727\n",
      "Epoch 334/500\n",
      "2/2 [==============================] - 0s 5ms/step - loss: 9.9322 - mae: 9.9322\n",
      "Epoch 335/500\n",
      "2/2 [==============================] - 0s 5ms/step - loss: 6.3238 - mae: 6.3238\n",
      "Epoch 336/500\n",
      "2/2 [==============================] - 0s 4ms/step - loss: 23.7455 - mae: 23.7455\n",
      "Epoch 337/500\n",
      "2/2 [==============================] - 0s 3ms/step - loss: 13.4331 - mae: 13.4331\n",
      "Epoch 338/500\n",
      "2/2 [==============================] - 0s 4ms/step - loss: 5.6406 - mae: 5.6406\n",
      "Epoch 339/500\n",
      "2/2 [==============================] - 0s 6ms/step - loss: 13.4894 - mae: 13.4894\n",
      "Epoch 340/500\n",
      "2/2 [==============================] - 0s 5ms/step - loss: 9.0820 - mae: 9.0820\n",
      "Epoch 341/500\n",
      "2/2 [==============================] - 0s 6ms/step - loss: 14.6476 - mae: 14.6476\n",
      "Epoch 342/500\n",
      "2/2 [==============================] - 0s 5ms/step - loss: 7.5986 - mae: 7.5986\n",
      "Epoch 343/500\n",
      "2/2 [==============================] - 0s 6ms/step - loss: 16.1567 - mae: 16.1567\n",
      "Epoch 344/500\n",
      "2/2 [==============================] - 0s 5ms/step - loss: 7.6356 - mae: 7.6356\n",
      "Epoch 345/500\n",
      "2/2 [==============================] - 0s 6ms/step - loss: 24.2015 - mae: 24.2015\n",
      "Epoch 346/500\n",
      "2/2 [==============================] - 0s 5ms/step - loss: 13.2561 - mae: 13.2561\n",
      "Epoch 347/500\n",
      "2/2 [==============================] - 0s 5ms/step - loss: 16.9062 - mae: 16.9062\n",
      "Epoch 348/500\n",
      "2/2 [==============================] - 0s 4ms/step - loss: 7.2725 - mae: 7.2725\n",
      "Epoch 349/500\n",
      "2/2 [==============================] - 0s 4ms/step - loss: 9.9610 - mae: 9.9610\n",
      "Epoch 350/500\n",
      "2/2 [==============================] - 0s 4ms/step - loss: 11.7395 - mae: 11.7395\n",
      "Epoch 351/500\n",
      "2/2 [==============================] - 0s 4ms/step - loss: 21.8216 - mae: 21.8216\n",
      "Epoch 352/500\n",
      "2/2 [==============================] - 0s 4ms/step - loss: 9.6201 - mae: 9.6201\n",
      "Epoch 353/500\n",
      "2/2 [==============================] - 0s 4ms/step - loss: 6.6638 - mae: 6.6638\n",
      "Epoch 354/500\n",
      "2/2 [==============================] - 0s 4ms/step - loss: 9.3928 - mae: 9.3928\n",
      "Epoch 355/500\n",
      "2/2 [==============================] - 0s 5ms/step - loss: 14.6427 - mae: 14.6427\n",
      "Epoch 356/500\n",
      "2/2 [==============================] - 0s 5ms/step - loss: 9.3909 - mae: 9.3909\n",
      "Epoch 357/500\n",
      "2/2 [==============================] - 0s 5ms/step - loss: 10.5819 - mae: 10.5819\n",
      "Epoch 358/500\n",
      "2/2 [==============================] - 0s 5ms/step - loss: 13.2635 - mae: 13.2635\n",
      "Epoch 359/500\n",
      "2/2 [==============================] - 0s 7ms/step - loss: 5.9289 - mae: 5.9289\n",
      "Epoch 360/500\n",
      "2/2 [==============================] - 0s 9ms/step - loss: 18.5623 - mae: 18.5623\n",
      "Epoch 361/500\n",
      "2/2 [==============================] - 0s 9ms/step - loss: 5.3255 - mae: 5.3255\n",
      "Epoch 362/500\n",
      "2/2 [==============================] - 0s 7ms/step - loss: 13.9333 - mae: 13.9333\n",
      "Epoch 363/500\n",
      "2/2 [==============================] - 0s 8ms/step - loss: 16.5456 - mae: 16.5456\n",
      "Epoch 364/500\n",
      "2/2 [==============================] - 0s 8ms/step - loss: 31.2357 - mae: 31.2357\n",
      "Epoch 365/500\n",
      "2/2 [==============================] - 0s 8ms/step - loss: 12.1815 - mae: 12.1815\n",
      "Epoch 366/500\n",
      "2/2 [==============================] - 0s 7ms/step - loss: 8.6950 - mae: 8.6950\n",
      "Epoch 367/500\n",
      "2/2 [==============================] - 0s 7ms/step - loss: 23.3765 - mae: 23.3765\n",
      "Epoch 368/500\n",
      "2/2 [==============================] - 0s 7ms/step - loss: 12.3712 - mae: 12.3712\n",
      "Epoch 369/500\n",
      "2/2 [==============================] - 0s 7ms/step - loss: 6.2602 - mae: 6.2602\n",
      "Epoch 370/500\n",
      "2/2 [==============================] - 0s 7ms/step - loss: 9.7009 - mae: 9.7009\n",
      "Epoch 371/500\n",
      "2/2 [==============================] - 0s 6ms/step - loss: 7.3598 - mae: 7.3598\n",
      "Epoch 372/500\n",
      "2/2 [==============================] - 0s 7ms/step - loss: 5.2217 - mae: 5.2217\n",
      "Epoch 373/500\n",
      "2/2 [==============================] - 0s 7ms/step - loss: 17.8624 - mae: 17.8624\n",
      "Epoch 374/500\n",
      "2/2 [==============================] - 0s 12ms/step - loss: 4.9764 - mae: 4.9764\n",
      "Epoch 375/500\n",
      "2/2 [==============================] - 0s 7ms/step - loss: 8.9627 - mae: 8.9627\n",
      "Epoch 376/500\n",
      "2/2 [==============================] - 0s 5ms/step - loss: 7.9495 - mae: 7.9495\n",
      "Epoch 377/500\n",
      "2/2 [==============================] - 0s 5ms/step - loss: 4.5017 - mae: 4.5017\n",
      "Epoch 378/500\n",
      "2/2 [==============================] - 0s 6ms/step - loss: 14.8461 - mae: 14.8461\n",
      "Epoch 379/500\n",
      "2/2 [==============================] - 0s 5ms/step - loss: 14.8557 - mae: 14.8557\n",
      "Epoch 380/500\n",
      "2/2 [==============================] - 0s 4ms/step - loss: 21.2957 - mae: 21.2957\n",
      "Epoch 381/500\n",
      "2/2 [==============================] - 0s 5ms/step - loss: 5.0327 - mae: 5.0327\n",
      "Epoch 382/500\n",
      "2/2 [==============================] - 0s 5ms/step - loss: 9.1968 - mae: 9.1968\n",
      "Epoch 383/500\n",
      "2/2 [==============================] - 0s 5ms/step - loss: 13.3465 - mae: 13.3465\n",
      "Epoch 384/500\n",
      "2/2 [==============================] - 0s 7ms/step - loss: 8.1648 - mae: 8.1648\n",
      "Epoch 385/500\n",
      "2/2 [==============================] - 0s 8ms/step - loss: 8.2287 - mae: 8.2287\n",
      "Epoch 386/500\n",
      "2/2 [==============================] - 0s 7ms/step - loss: 6.9567 - mae: 6.9567\n",
      "Epoch 387/500\n",
      "2/2 [==============================] - 0s 8ms/step - loss: 10.4490 - mae: 10.4490\n",
      "Epoch 388/500\n",
      "2/2 [==============================] - 0s 8ms/step - loss: 8.3927 - mae: 8.3927\n",
      "Epoch 389/500\n",
      "2/2 [==============================] - 0s 6ms/step - loss: 8.8441 - mae: 8.8441\n",
      "Epoch 390/500\n",
      "2/2 [==============================] - 0s 7ms/step - loss: 17.9016 - mae: 17.9016\n",
      "Epoch 391/500\n",
      "2/2 [==============================] - 0s 6ms/step - loss: 4.9514 - mae: 4.9514\n",
      "Epoch 392/500\n",
      "2/2 [==============================] - 0s 5ms/step - loss: 14.3287 - mae: 14.3287\n",
      "Epoch 393/500\n",
      "2/2 [==============================] - 0s 6ms/step - loss: 14.5057 - mae: 14.5057\n",
      "Epoch 394/500\n",
      "2/2 [==============================] - 0s 7ms/step - loss: 3.6300 - mae: 3.6300\n",
      "Epoch 395/500\n",
      "2/2 [==============================] - 0s 6ms/step - loss: 19.1756 - mae: 19.1756\n",
      "Epoch 396/500\n",
      "2/2 [==============================] - 0s 4ms/step - loss: 3.5344 - mae: 3.5344\n",
      "Epoch 397/500\n",
      "2/2 [==============================] - 0s 4ms/step - loss: 10.1242 - mae: 10.1242\n",
      "Epoch 398/500\n",
      "2/2 [==============================] - 0s 5ms/step - loss: 16.7326 - mae: 16.7326\n",
      "Epoch 399/500\n",
      "2/2 [==============================] - 0s 5ms/step - loss: 8.3194 - mae: 8.3194\n",
      "Epoch 400/500\n",
      "2/2 [==============================] - 0s 5ms/step - loss: 8.6593 - mae: 8.6593\n",
      "Epoch 401/500\n",
      "2/2 [==============================] - 0s 5ms/step - loss: 8.0660 - mae: 8.0660\n",
      "Epoch 402/500\n",
      "2/2 [==============================] - 0s 5ms/step - loss: 19.9541 - mae: 19.9541\n",
      "Epoch 403/500\n",
      "2/2 [==============================] - 0s 6ms/step - loss: 8.6050 - mae: 8.6050\n",
      "Epoch 404/500\n",
      "2/2 [==============================] - 0s 7ms/step - loss: 20.0967 - mae: 20.0967\n",
      "Epoch 405/500\n",
      "2/2 [==============================] - 0s 4ms/step - loss: 6.3997 - mae: 6.3997\n",
      "Epoch 406/500\n",
      "2/2 [==============================] - 0s 4ms/step - loss: 15.2872 - mae: 15.2872\n",
      "Epoch 407/500\n",
      "2/2 [==============================] - 0s 5ms/step - loss: 8.8008 - mae: 8.8008\n",
      "Epoch 408/500\n",
      "2/2 [==============================] - 0s 5ms/step - loss: 4.7678 - mae: 4.7678\n",
      "Epoch 409/500\n",
      "2/2 [==============================] - 0s 6ms/step - loss: 21.0087 - mae: 21.0087\n",
      "Epoch 410/500\n",
      "2/2 [==============================] - 0s 6ms/step - loss: 7.8381 - mae: 7.8381\n",
      "Epoch 411/500\n",
      "2/2 [==============================] - 0s 5ms/step - loss: 5.6667 - mae: 5.6667\n",
      "Epoch 412/500\n",
      "2/2 [==============================] - 0s 6ms/step - loss: 13.5936 - mae: 13.5936\n",
      "Epoch 413/500\n",
      "2/2 [==============================] - 0s 6ms/step - loss: 7.7610 - mae: 7.7610\n",
      "Epoch 414/500\n",
      "2/2 [==============================] - 0s 5ms/step - loss: 5.7895 - mae: 5.7895\n",
      "Epoch 415/500\n",
      "2/2 [==============================] - 0s 8ms/step - loss: 7.4944 - mae: 7.4944\n",
      "Epoch 416/500\n",
      "2/2 [==============================] - 0s 5ms/step - loss: 14.7500 - mae: 14.7500\n",
      "Epoch 417/500\n",
      "2/2 [==============================] - 0s 5ms/step - loss: 18.1078 - mae: 18.1078\n",
      "Epoch 418/500\n",
      "2/2 [==============================] - 0s 4ms/step - loss: 8.4221 - mae: 8.4221\n",
      "Epoch 419/500\n",
      "2/2 [==============================] - 0s 4ms/step - loss: 7.7485 - mae: 7.7485\n",
      "Epoch 420/500\n",
      "2/2 [==============================] - 0s 5ms/step - loss: 18.1609 - mae: 18.1609\n",
      "Epoch 421/500\n",
      "2/2 [==============================] - 0s 5ms/step - loss: 5.4592 - mae: 5.4592\n",
      "Epoch 422/500\n",
      "2/2 [==============================] - 0s 8ms/step - loss: 8.7243 - mae: 8.7243\n",
      "Epoch 423/500\n",
      "2/2 [==============================] - 0s 8ms/step - loss: 17.8170 - mae: 17.8170\n",
      "Epoch 424/500\n",
      "2/2 [==============================] - 0s 7ms/step - loss: 7.2393 - mae: 7.2393\n",
      "Epoch 425/500\n",
      "2/2 [==============================] - 0s 8ms/step - loss: 6.7903 - mae: 6.7903\n",
      "Epoch 426/500\n",
      "2/2 [==============================] - 0s 7ms/step - loss: 6.8916 - mae: 6.8916\n",
      "Epoch 427/500\n",
      "2/2 [==============================] - 0s 7ms/step - loss: 10.4495 - mae: 10.4495\n",
      "Epoch 428/500\n",
      "2/2 [==============================] - 0s 7ms/step - loss: 8.6205 - mae: 8.6205\n",
      "Epoch 429/500\n",
      "2/2 [==============================] - 0s 8ms/step - loss: 18.9671 - mae: 18.9671\n",
      "Epoch 430/500\n",
      "2/2 [==============================] - 0s 11ms/step - loss: 8.1139 - mae: 8.1139\n",
      "Epoch 431/500\n",
      "2/2 [==============================] - 0s 8ms/step - loss: 9.3142 - mae: 9.3142\n",
      "Epoch 432/500\n",
      "2/2 [==============================] - 0s 8ms/step - loss: 9.5937 - mae: 9.5937\n",
      "Epoch 433/500\n",
      "2/2 [==============================] - 0s 8ms/step - loss: 6.7509 - mae: 6.7509\n",
      "Epoch 434/500\n",
      "2/2 [==============================] - 0s 6ms/step - loss: 21.2878 - mae: 21.2878\n",
      "Epoch 435/500\n",
      "2/2 [==============================] - 0s 9ms/step - loss: 8.7340 - mae: 8.7340\n",
      "Epoch 436/500\n",
      "2/2 [==============================] - 0s 7ms/step - loss: 22.8550 - mae: 22.8550\n",
      "Epoch 437/500\n",
      "2/2 [==============================] - 0s 7ms/step - loss: 14.1425 - mae: 14.1425\n",
      "Epoch 438/500\n",
      "2/2 [==============================] - 0s 7ms/step - loss: 9.3717 - mae: 9.3717\n",
      "Epoch 439/500\n",
      "2/2 [==============================] - 0s 4ms/step - loss: 15.5994 - mae: 15.5994\n",
      "Epoch 440/500\n",
      "2/2 [==============================] - 0s 6ms/step - loss: 13.2594 - mae: 13.2594\n",
      "Epoch 441/500\n",
      "2/2 [==============================] - 0s 7ms/step - loss: 9.3482 - mae: 9.3482\n",
      "Epoch 442/500\n",
      "2/2 [==============================] - 0s 8ms/step - loss: 9.0324 - mae: 9.0324\n",
      "Epoch 443/500\n",
      "2/2 [==============================] - 0s 8ms/step - loss: 6.4715 - mae: 6.4715\n",
      "Epoch 444/500\n",
      "2/2 [==============================] - 0s 9ms/step - loss: 14.6795 - mae: 14.6795\n",
      "Epoch 445/500\n",
      "2/2 [==============================] - 0s 8ms/step - loss: 6.7658 - mae: 6.7658\n",
      "Epoch 446/500\n",
      "2/2 [==============================] - 0s 7ms/step - loss: 6.3487 - mae: 6.3487\n",
      "Epoch 447/500\n",
      "2/2 [==============================] - 0s 7ms/step - loss: 6.4249 - mae: 6.4249\n",
      "Epoch 448/500\n",
      "2/2 [==============================] - 0s 8ms/step - loss: 7.3963 - mae: 7.3963\n",
      "Epoch 449/500\n",
      "2/2 [==============================] - 0s 6ms/step - loss: 7.1231 - mae: 7.1231\n",
      "Epoch 450/500\n",
      "2/2 [==============================] - 0s 5ms/step - loss: 11.2372 - mae: 11.2372\n",
      "Epoch 451/500\n",
      "2/2 [==============================] - 0s 6ms/step - loss: 13.6939 - mae: 13.6939\n",
      "Epoch 452/500\n",
      "2/2 [==============================] - 0s 4ms/step - loss: 27.0551 - mae: 27.0551\n",
      "Epoch 453/500\n",
      "2/2 [==============================] - 0s 7ms/step - loss: 16.8704 - mae: 16.8704\n",
      "Epoch 454/500\n",
      "2/2 [==============================] - 0s 5ms/step - loss: 11.6133 - mae: 11.6133\n",
      "Epoch 455/500\n",
      "2/2 [==============================] - 0s 6ms/step - loss: 8.5140 - mae: 8.5140\n",
      "Epoch 456/500\n",
      "2/2 [==============================] - 0s 6ms/step - loss: 8.2414 - mae: 8.2414\n",
      "Epoch 457/500\n",
      "2/2 [==============================] - 0s 6ms/step - loss: 12.8470 - mae: 12.8470\n",
      "Epoch 458/500\n",
      "2/2 [==============================] - 0s 5ms/step - loss: 12.1054 - mae: 12.1054\n",
      "Epoch 459/500\n",
      "2/2 [==============================] - 0s 4ms/step - loss: 13.7542 - mae: 13.7542\n",
      "Epoch 460/500\n",
      "2/2 [==============================] - 0s 6ms/step - loss: 5.1940 - mae: 5.1940\n",
      "Epoch 461/500\n",
      "2/2 [==============================] - 0s 5ms/step - loss: 8.5012 - mae: 8.5012\n",
      "Epoch 462/500\n",
      "2/2 [==============================] - 0s 5ms/step - loss: 5.9209 - mae: 5.9209\n",
      "Epoch 463/500\n",
      "2/2 [==============================] - 0s 7ms/step - loss: 17.5136 - mae: 17.5136\n",
      "Epoch 464/500\n",
      "2/2 [==============================] - 0s 6ms/step - loss: 7.6215 - mae: 7.6215\n",
      "Epoch 465/500\n",
      "2/2 [==============================] - 0s 5ms/step - loss: 10.3587 - mae: 10.3587\n",
      "Epoch 466/500\n",
      "2/2 [==============================] - 0s 7ms/step - loss: 9.1871 - mae: 9.1871\n",
      "Epoch 467/500\n",
      "2/2 [==============================] - 0s 5ms/step - loss: 15.2696 - mae: 15.2696\n",
      "Epoch 468/500\n",
      "2/2 [==============================] - 0s 5ms/step - loss: 9.8150 - mae: 9.8150\n",
      "Epoch 469/500\n",
      "2/2 [==============================] - 0s 5ms/step - loss: 11.7202 - mae: 11.7202\n",
      "Epoch 470/500\n",
      "2/2 [==============================] - 0s 3ms/step - loss: 9.1122 - mae: 9.1122\n",
      "Epoch 471/500\n",
      "2/2 [==============================] - 0s 6ms/step - loss: 8.1262 - mae: 8.1262\n",
      "Epoch 472/500\n",
      "2/2 [==============================] - 0s 5ms/step - loss: 9.8197 - mae: 9.8197\n",
      "Epoch 473/500\n",
      "2/2 [==============================] - 0s 5ms/step - loss: 9.7120 - mae: 9.7120\n",
      "Epoch 474/500\n",
      "2/2 [==============================] - 0s 7ms/step - loss: 11.4444 - mae: 11.4444\n",
      "Epoch 475/500\n",
      "2/2 [==============================] - 0s 6ms/step - loss: 4.9758 - mae: 4.9758\n",
      "Epoch 476/500\n",
      "2/2 [==============================] - 0s 4ms/step - loss: 12.6270 - mae: 12.6270\n",
      "Epoch 477/500\n",
      "2/2 [==============================] - 0s 5ms/step - loss: 21.7825 - mae: 21.7825\n",
      "Epoch 478/500\n",
      "2/2 [==============================] - 0s 7ms/step - loss: 15.0118 - mae: 15.0118\n",
      "Epoch 479/500\n",
      "2/2 [==============================] - 0s 4ms/step - loss: 10.0239 - mae: 10.0239\n",
      "Epoch 480/500\n",
      "2/2 [==============================] - 0s 5ms/step - loss: 15.4642 - mae: 15.4642\n",
      "Epoch 481/500\n",
      "2/2 [==============================] - 0s 6ms/step - loss: 11.1969 - mae: 11.1969\n",
      "Epoch 482/500\n",
      "2/2 [==============================] - 0s 4ms/step - loss: 7.6987 - mae: 7.6987\n",
      "Epoch 483/500\n",
      "2/2 [==============================] - 0s 5ms/step - loss: 7.4708 - mae: 7.4708\n",
      "Epoch 484/500\n",
      "2/2 [==============================] - 0s 5ms/step - loss: 19.9727 - mae: 19.9727\n",
      "Epoch 485/500\n",
      "2/2 [==============================] - 0s 5ms/step - loss: 9.9322 - mae: 9.9322\n",
      "Epoch 486/500\n",
      "2/2 [==============================] - 0s 5ms/step - loss: 17.1830 - mae: 17.1830\n",
      "Epoch 487/500\n",
      "2/2 [==============================] - 0s 5ms/step - loss: 8.2708 - mae: 8.2708\n",
      "Epoch 488/500\n",
      "2/2 [==============================] - 0s 3ms/step - loss: 19.5157 - mae: 19.5157\n",
      "Epoch 489/500\n",
      "2/2 [==============================] - 0s 7ms/step - loss: 12.1463 - mae: 12.1463\n",
      "Epoch 490/500\n",
      "2/2 [==============================] - 0s 7ms/step - loss: 8.3654 - mae: 8.3654\n",
      "Epoch 491/500\n",
      "2/2 [==============================] - 0s 5ms/step - loss: 12.5220 - mae: 12.5220\n",
      "Epoch 492/500\n",
      "2/2 [==============================] - 0s 10ms/step - loss: 14.0798 - mae: 14.0798\n",
      "Epoch 493/500\n",
      "2/2 [==============================] - 0s 7ms/step - loss: 8.6640 - mae: 8.6640\n",
      "Epoch 494/500\n",
      "2/2 [==============================] - 0s 9ms/step - loss: 5.6633 - mae: 5.6633\n",
      "Epoch 495/500\n",
      "2/2 [==============================] - 0s 11ms/step - loss: 4.1485 - mae: 4.1485\n",
      "Epoch 496/500\n",
      "2/2 [==============================] - 0s 7ms/step - loss: 8.1367 - mae: 8.1367\n",
      "Epoch 497/500\n",
      "2/2 [==============================] - 0s 6ms/step - loss: 10.5128 - mae: 10.5128\n",
      "Epoch 498/500\n",
      "2/2 [==============================] - 0s 5ms/step - loss: 19.4145 - mae: 19.4145\n",
      "Epoch 499/500\n",
      "2/2 [==============================] - 0s 5ms/step - loss: 6.7102 - mae: 6.7102\n",
      "Epoch 500/500\n",
      "2/2 [==============================] - 0s 5ms/step - loss: 5.8951 - mae: 5.8951\n"
     ]
    },
    {
     "data": {
      "text/plain": [
       "<keras.src.callbacks.History at 0x205fabe6170>"
      ]
     },
     "execution_count": 46,
     "metadata": {},
     "output_type": "execute_result"
    }
   ],
   "source": [
    "model3=tf.keras.Sequential([\n",
    "    tf.keras.layers.Dense(100,input_shape=[1],activation='relu'),\n",
    "    tf.keras.layers.Dense(1)\n",
    "])\n",
    "model3.compile(loss=tf.keras.losses.mae,optimizer=tf.keras.optimizers.SGD(),metrics=['mae'])\n",
    "\n",
    "model3.fit(x_train,y_train,epochs=500)\n"
   ]
  },
  {
   "cell_type": "code",
   "execution_count": 47,
   "id": "024203a9-723a-4e39-b80c-76abaf9cac73",
   "metadata": {},
   "outputs": [
    {
     "name": "stdout",
     "output_type": "stream",
     "text": [
      "1/1 [==============================] - 0s 114ms/step\n"
     ]
    }
   ],
   "source": [
    "y_pred3=model3.predict(x_test)"
   ]
  },
  {
   "cell_type": "code",
   "execution_count": 48,
   "id": "c75cf227-b856-4f8d-8be5-402a568726f5",
   "metadata": {},
   "outputs": [
    {
     "data": {
      "image/png": "[encoded data removed]",
      "text/plain": [
       "<Figure size 1000x500 with 1 Axes>"
      ]
     },
     "metadata": {},
     "output_type": "display_data"
    }
   ],
   "source": [
    "plot_graph(predictions=y_pred3)"
   ]
  },
  {
   "cell_type": "code",
   "execution_count": 49,
   "id": "5b82520b-d3f0-47d2-afb1-00ac313334bb",
   "metadata": {},
   "outputs": [
    {
     "data": {
      "text/plain": [
       "(<tf.Tensor: shape=(), dtype=float32, numpy=2.8103194>,\n",
       " <tf.Tensor: shape=(), dtype=float32, numpy=9.793758>)"
      ]
     },
     "execution_count": 49,
     "metadata": {},
     "output_type": "execute_result"
    }
   ],
   "source": [
    "mae3=tf.keras.losses.mae(y_test,tf.squeeze(y_pred3))\n",
    "mse3=tf.keras.losses.mse(y_test,tf.squeeze(y_pred3))\n",
    "mae3,mse3"
   ]
  },
  {
   "cell_type": "markdown",
   "id": "2a842350-e130-4969-9864-5402eb3f975e",
   "metadata": {},
   "source": [
    "### based on above experiments we observed that model2 perform better than other model and in model3 the model get overfit"
   ]
  },
  {
   "cell_type": "code",
   "execution_count": 50,
   "id": "406116ed-15ec-4271-b43b-6c9c328fcdb3",
   "metadata": {},
   "outputs": [],
   "source": [
    "import pandas as pd\n",
    "model_results=[['model1',mae1.numpy(),mse1.numpy()],\n",
    "               ['model2',mae2.numpy(),mse2.numpy()],\n",
    "               ['model1',mae3.numpy(),mse3.numpy()]]\n",
    "\n",
    "all_result=pd.DataFrame(model_results,columns=['model','mae','mse'])"
   ]
  },
  {
   "cell_type": "code",
   "execution_count": 51,
   "id": "94e1bbca-94ec-41b2-8f7c-7f877927970f",
   "metadata": {},
   "outputs": [
    {
     "data": {
      "text/html": [
       "<div>\n",
       "<style scoped>\n",
       "    .dataframe tbody tr th:only-of-type {\n",
       "        vertical-align: middle;\n",
       "    }\n",
       "\n",
       "    .dataframe tbody tr th {\n",
       "        vertical-align: top;\n",
       "    }\n",
       "\n",
       "    .dataframe thead th {\n",
       "        text-align: right;\n",
       "    }\n",
       "</style>\n",
       "<table border=\"1\" class=\"dataframe\">\n",
       "  <thead>\n",
       "    <tr style=\"text-align: right;\">\n",
       "      <th></th>\n",
       "      <th>model</th>\n",
       "      <th>mae</th>\n",
       "      <th>mse</th>\n",
       "    </tr>\n",
       "  </thead>\n",
       "  <tbody>\n",
       "    <tr>\n",
       "      <th>0</th>\n",
       "      <td>model1</td>\n",
       "      <td>8.636036</td>\n",
       "      <td>81.097908</td>\n",
       "    </tr>\n",
       "    <tr>\n",
       "      <th>1</th>\n",
       "      <td>model2</td>\n",
       "      <td>12.816312</td>\n",
       "      <td>164.525970</td>\n",
       "    </tr>\n",
       "    <tr>\n",
       "      <th>2</th>\n",
       "      <td>model1</td>\n",
       "      <td>2.810319</td>\n",
       "      <td>9.793758</td>\n",
       "    </tr>\n",
       "  </tbody>\n",
       "</table>\n",
       "</div>"
      ],
      "text/plain": [
       "    model        mae         mse\n",
       "0  model1   8.636036   81.097908\n",
       "1  model2  12.816312  164.525970\n",
       "2  model1   2.810319    9.793758"
      ]
     },
     "execution_count": 51,
     "metadata": {},
     "output_type": "execute_result"
    }
   ],
   "source": [
    "all_result"
   ]
  },
  {
   "cell_type": "code",
   "execution_count": 52,
   "id": "1eb4bff3-ad0e-4dd5-afd3-65cc9b6aa5a6",
   "metadata": {},
   "outputs": [
    {
     "name": "stdout",
     "output_type": "stream",
     "text": [
      "Model: \"sequential_7\"\n",
      "_________________________________________________________________\n",
      " Layer (type)                Output Shape              Param #   \n",
      "=================================================================\n",
      " dense_12 (Dense)            (None, 100)               200       \n",
      "                                                                 \n",
      " dense_13 (Dense)            (None, 1)                 101       \n",
      "                                                                 \n",
      "=================================================================\n",
      "Total params: 301 (1.18 KB)\n",
      "Trainable params: 301 (1.18 KB)\n",
      "Non-trainable params: 0 (0.00 Byte)\n",
      "_________________________________________________________________\n"
     ]
    }
   ],
   "source": [
    "model2.summary()"
   ]
  },
  {
   "cell_type": "markdown",
   "id": "98b48e4f-9159-499f-990d-7a907080c09c",
   "metadata": {},
   "source": [
    "## Tracking you experiments\n",
    "#### there are tools to help us for tracking experiments\n",
    "#### <b>Resource</b>:\n",
    "#### <i>TensorBoard</i>: a component of tensorflow library to help track modeling experiments.\n",
    "#### <i>Weight & Biases</i>: a tool for tracking all of kinds of machine learning experiments(plug straight into TensorBoard)."
   ]
  },
  {
   "cell_type": "markdown",
   "id": "8e1a8927-5da9-4641-a8e3-9e4abe95b3da",
   "metadata": {},
   "source": [
    "## Saving model\n",
    "#### There are two main format in that we can save our model\n",
    "#### <b>1 The SavedModel format</b>\n",
    "#### <b>2 The HDF5 format</b>"
   ]
  },
  {
   "cell_type": "code",
   "execution_count": 56,
   "id": "ef81b5d1-dbaa-43a6-9dd9-f04b4c256bbe",
   "metadata": {},
   "outputs": [
    {
     "name": "stdout",
     "output_type": "stream",
     "text": [
      "INFO:tensorflow:Assets written to: Model2_saveModel_format\\assets\n"
     ]
    },
    {
     "name": "stderr",
     "output_type": "stream",
     "text": [
      "INFO:tensorflow:Assets written to: Model2_saveModel_format\\assets\n"
     ]
    }
   ],
   "source": [
    "model2.save(\"Model2_saveModel_format\")"
   ]
  },
  {
   "cell_type": "code",
   "execution_count": 55,
   "id": "e4e68bcd-d6ed-4a28-910a-fd3cb35c1f17",
   "metadata": {},
   "outputs": [
    {
     "name": "stderr",
     "output_type": "stream",
     "text": [
      "C:\\Users\\ganes\\AppData\\Local\\Programs\\Python\\Python310\\lib\\site-packages\\keras\\src\\engine\\training.py:3103: UserWarning: You are saving your model as an HDF5 file via `model.save()`. This file format is considered legacy. We recommend using instead the native Keras format, e.g. `model.save('my_model.keras')`.\n",
      "  saving_api.save_model(\n"
     ]
    }
   ],
   "source": [
    "# save model in HDF5 format\n",
    "model2.save('model3_save_in_HDF5_format.h5')"
   ]
  },
  {
   "cell_type": "markdown",
   "id": "6b7c0e4c-984f-4209-8166-3411b74de6ac",
   "metadata": {},
   "source": [
    "## Load model"
   ]
  },
  {
   "cell_type": "code",
   "execution_count": 57,
   "id": "463e9410-0f0a-4426-ac01-27faa9b69582",
   "metadata": {},
   "outputs": [
    {
     "name": "stdout",
     "output_type": "stream",
     "text": [
      "WARNING:tensorflow:From C:\\Users\\ganes\\AppData\\Local\\Programs\\Python\\Python310\\lib\\site-packages\\keras\\src\\saving\\legacy\\saved_model\\load.py:107: The name tf.gfile.Exists is deprecated. Please use tf.io.gfile.exists instead.\n",
      "\n"
     ]
    },
    {
     "name": "stderr",
     "output_type": "stream",
     "text": [
      "WARNING:tensorflow:From C:\\Users\\ganes\\AppData\\Local\\Programs\\Python\\Python310\\lib\\site-packages\\keras\\src\\saving\\legacy\\saved_model\\load.py:107: The name tf.gfile.Exists is deprecated. Please use tf.io.gfile.exists instead.\n",
      "\n"
     ]
    }
   ],
   "source": [
    "# load model (savemodel_format)\n",
    "load_model_of_save_model_format=tf.keras.models.load_model(\"Model2_saveModel_format\")"
   ]
  },
  {
   "cell_type": "code",
   "execution_count": 58,
   "id": "b6bbc7a8-b191-472b-9633-9de4c64620e4",
   "metadata": {},
   "outputs": [
    {
     "name": "stdout",
     "output_type": "stream",
     "text": [
      "Model: \"sequential_7\"\n",
      "_________________________________________________________________\n",
      " Layer (type)                Output Shape              Param #   \n",
      "=================================================================\n",
      " dense_12 (Dense)            (None, 100)               200       \n",
      "                                                                 \n",
      " dense_13 (Dense)            (None, 1)                 101       \n",
      "                                                                 \n",
      "=================================================================\n",
      "Total params: 301 (1.18 KB)\n",
      "Trainable params: 301 (1.18 KB)\n",
      "Non-trainable params: 0 (0.00 Byte)\n",
      "_________________________________________________________________\n"
     ]
    }
   ],
   "source": [
    "load_model_of_save_model_format.summary()"
   ]
  },
  {
   "cell_type": "code",
   "execution_count": 59,
   "id": "e860f6a6-e5db-40a4-875e-a3c975217bd3",
   "metadata": {},
   "outputs": [
    {
     "name": "stdout",
     "output_type": "stream",
     "text": [
      "1/1 [==============================] - 0s 40ms/step\n",
      "1/1 [==============================] - 0s 85ms/step\n"
     ]
    },
    {
     "data": {
      "text/plain": [
       "array([[ True],\n",
       "       [ True],\n",
       "       [ True],\n",
       "       [ True],\n",
       "       [ True],\n",
       "       [ True],\n",
       "       [ True],\n",
       "       [ True],\n",
       "       [ True],\n",
       "       [ True]])"
      ]
     },
     "execution_count": 59,
     "metadata": {},
     "output_type": "execute_result"
    }
   ],
   "source": [
    "model2_pred=model2.predict(x_test)\n",
    "load_model_of_save_model_format_pred=load_model_of_save_model_format.predict(x_test)\n",
    "model2_pred==load_model_of_save_model_format_pred"
   ]
  },
  {
   "cell_type": "code",
   "execution_count": 60,
   "id": "27699aa3-0dfc-4480-a44b-818282cbfa88",
   "metadata": {},
   "outputs": [],
   "source": [
    "# Load model of h5 format\n",
    "load_model_of_hdf5_format=tf.keras.models.load_model('model3_save_in_HDF5_format.h5')"
   ]
  },
  {
   "cell_type": "code",
   "execution_count": 61,
   "id": "59c4a8a0-0e4d-43ce-9c1b-5da624e000ca",
   "metadata": {},
   "outputs": [
    {
     "name": "stdout",
     "output_type": "stream",
     "text": [
      "Model: \"sequential_7\"\n",
      "_________________________________________________________________\n",
      " Layer (type)                Output Shape              Param #   \n",
      "=================================================================\n",
      " dense_12 (Dense)            (None, 100)               200       \n",
      "                                                                 \n",
      " dense_13 (Dense)            (None, 1)                 101       \n",
      "                                                                 \n",
      "=================================================================\n",
      "Total params: 301 (1.18 KB)\n",
      "Trainable params: 301 (1.18 KB)\n",
      "Non-trainable params: 0 (0.00 Byte)\n",
      "_________________________________________________________________\n"
     ]
    }
   ],
   "source": [
    "load_model_of_hdf5_format.summary()"
   ]
  },
  {
   "cell_type": "code",
   "execution_count": 62,
   "id": "741628e0-442c-4f0f-873b-1aa2fd69cbd0",
   "metadata": {},
   "outputs": [
    {
     "name": "stdout",
     "output_type": "stream",
     "text": [
      "1/1 [==============================] - 0s 63ms/step\n"
     ]
    },
    {
     "data": {
      "text/plain": [
       "array([[ True],\n",
       "       [ True],\n",
       "       [ True],\n",
       "       [ True],\n",
       "       [ True],\n",
       "       [ True],\n",
       "       [ True],\n",
       "       [ True],\n",
       "       [ True],\n",
       "       [ True]])"
      ]
     },
     "execution_count": 62,
     "metadata": {},
     "output_type": "execute_result"
    }
   ],
   "source": [
    "load_model_of_hdf5_format_pred=load_model_of_hdf5_format.predict(x_test)\n",
    "model2_pred==load_model_of_save_model_format_pred"
   ]
  },
  {
   "cell_type": "code",
   "execution_count": null,
   "id": "790be7ca-47b5-4fda-ab30-8a6fd5b2f31a",
   "metadata": {},
   "outputs": [],
   "source": []
  }
 ],
 "metadata": {
  "kernelspec": {
   "display_name": "Python 3 (ipykernel)",
   "language": "python",
   "name": "python3"
  },
  "language_info": {
   "codemirror_mode": {
    "name": "ipython",
    "version": 3
   },
   "file_extension": ".py",
   "mimetype": "text/x-python",
   "name": "python",
   "nbconvert_exporter": "python",
   "pygments_lexer": "ipython3",
   "version": "3.10.9"
  }
 },
 "nbformat": 4,
 "nbformat_minor": 5
}
